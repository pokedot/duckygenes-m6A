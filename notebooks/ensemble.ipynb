{
 "cells": [
  {
   "cell_type": "code",
   "execution_count": 59,
   "id": "c8ebb5b4",
   "metadata": {},
   "outputs": [],
   "source": [
    "import pandas as pd\n",
    "import numpy as np\n",
    "import gzip\n",
    "import json\n",
    "import matplotlib.pyplot as plt\n",
    "import seaborn as sns\n"
   ]
  },
  {
   "cell_type": "code",
   "execution_count": 60,
   "id": "b8dfb0c5",
   "metadata": {},
   "outputs": [],
   "source": [
    "filename = \"../data/dataset0.json.gz\""
   ]
  },
  {
   "cell_type": "code",
   "execution_count": 61,
   "id": "6e803432-f2cc-4496-ade1-774ab202fe2f",
   "metadata": {},
   "outputs": [],
   "source": [
    "FEATURE_NAMES = ['dwell_-1','std_-1','mean_-1',\n",
    "                 'dwell_0','std_0','mean_0',\n",
    "                 'dwell_+1','std_+1','mean_+1']"
   ]
  },
  {
   "cell_type": "code",
   "execution_count": 62,
   "id": "3f3a1f14",
   "metadata": {},
   "outputs": [],
   "source": [
    "def flatten_deep_data_ultra_fast(file_path, estimated_rows=11000000):\n",
    "    \"\"\"\n",
    "    Ultra-optimized version with multiple improvements:\n",
    "    - Batch processing to reduce index checks\n",
    "    - Better memory allocation strategy\n",
    "    - Faster resize logic\n",
    "    - Direct array assignment\n",
    "    \n",
    "    Expected speedup: 2-3x\n",
    "    \"\"\"\n",
    "    BATCH_SIZE = 10000\n",
    "    GROWTH_FACTOR = 1.5\n",
    "    \n",
    "    # Pre-allocate arrays\n",
    "    capacity = estimated_rows\n",
    "    transcript_ids = np.empty(capacity, dtype=object)\n",
    "    positions = np.empty(capacity, dtype=np.int32)\n",
    "    seq = np.empty(capacity, dtype=object)\n",
    "    feature_arrays = [np.empty(capacity, dtype=np.float32) for _ in range(9)]\n",
    "    \n",
    "    idx = 0\n",
    "    batch_start = 0\n",
    "    \n",
    "    # Temporary batch storage\n",
    "    batch_transcript_ids = []\n",
    "    batch_positions = []\n",
    "    batch_seq = []\n",
    "    batch_features = [[] for _ in range(9)]\n",
    "    \n",
    "    def flush_batch():\n",
    "        \"\"\"Flush batch to main arrays\"\"\"\n",
    "        nonlocal idx, batch_start, capacity\n",
    "        \n",
    "        batch_size = len(batch_transcript_ids)\n",
    "        if batch_size == 0:\n",
    "            return\n",
    "        \n",
    "        # Resize if needed\n",
    "        while idx + batch_size > capacity:\n",
    "            new_capacity = int(capacity * GROWTH_FACTOR)\n",
    "            transcript_ids.resize(new_capacity, refcheck=False)\n",
    "            positions.resize(new_capacity, refcheck=False)\n",
    "            seq.resize(new_capacity, refcheck=False)\n",
    "            for i in range(9):\n",
    "                feature_arrays[i].resize(new_capacity, refcheck=False)\n",
    "            capacity = new_capacity\n",
    "        \n",
    "        # Bulk assignment\n",
    "        transcript_ids[idx:idx+batch_size] = batch_transcript_ids\n",
    "        positions[idx:idx+batch_size] = batch_positions\n",
    "        seq[idx:idx+batch_size] = batch_seq\n",
    "        for i in range(9):\n",
    "            feature_arrays[i][idx:idx+batch_size] = batch_features[i]\n",
    "        \n",
    "        idx += batch_size\n",
    "        \n",
    "        # Clear batch\n",
    "        batch_transcript_ids.clear()\n",
    "        batch_positions.clear()\n",
    "        batch_seq.clear()\n",
    "        for lst in batch_features:\n",
    "            lst.clear()\n",
    "    \n",
    "    with gzip.open(file_path, 'rt', encoding='utf-8') as f:\n",
    "        for line in f:\n",
    "            data = json.loads(line)\n",
    "            for transcript_id, positions_dict in data.items():\n",
    "                for transcript_position, sequences in positions_dict.items():\n",
    "                    pos_int = int(transcript_position)\n",
    "                    for sequence, feature_list in sequences.items():\n",
    "                        for features in feature_list:\n",
    "                            # Add to batch\n",
    "                            batch_transcript_ids.append(transcript_id)\n",
    "                            batch_positions.append(pos_int)\n",
    "                            batch_seq.append(sequence)\n",
    "                            for i, val in enumerate(features):\n",
    "                                batch_features[i].append(val)\n",
    "                            \n",
    "                            # Flush when batch is full\n",
    "                            if len(batch_transcript_ids) >= BATCH_SIZE:\n",
    "                                flush_batch()\n",
    "                                \n",
    "                                if idx % 100000 == 0:\n",
    "                                    print(f\"Processed {idx:,} rows...\", end='\\r')\n",
    "    \n",
    "    # Flush remaining batch\n",
    "    flush_batch()\n",
    "    \n",
    "    print(f\"\\nCreating DataFrame with {idx:,} rows...\")\n",
    "    \n",
    "    # Trim and create DataFrame\n",
    "    df = pd.DataFrame({\n",
    "        'transcript_id': transcript_ids[:idx],\n",
    "        'transcript_position': positions[:idx],\n",
    "        'sequence': seq[:idx],\n",
    "        'dwell_-1': feature_arrays[0][:idx],\n",
    "        'std_-1': feature_arrays[1][:idx],\n",
    "        'mean_-1': feature_arrays[2][:idx],\n",
    "        'dwell_0': feature_arrays[3][:idx],\n",
    "        'std_0': feature_arrays[4][:idx],\n",
    "        'mean_0': feature_arrays[5][:idx],\n",
    "        'dwell_+1': feature_arrays[6][:idx],\n",
    "        'std_+1': feature_arrays[7][:idx],\n",
    "        'mean_+1': feature_arrays[8][:idx],\n",
    "    })\n",
    "    \n",
    "    return df"
   ]
  },
  {
   "cell_type": "code",
   "execution_count": 63,
   "id": "e73713e4",
   "metadata": {},
   "outputs": [
    {
     "name": "stdout",
     "output_type": "stream",
     "text": [
      "Processed 11,000,000 rows...\n",
      "Creating DataFrame with 11,027,106 rows...\n",
      "\n",
      "--- Flattened Read-Level DataFrame ---\n",
      "Shape: (11027106, 12) (Each row is one aggregated Nanopore site)\n"
     ]
    },
    {
     "data": {
      "text/html": [
       "<div>\n",
       "<style scoped>\n",
       "    .dataframe tbody tr th:only-of-type {\n",
       "        vertical-align: middle;\n",
       "    }\n",
       "\n",
       "    .dataframe tbody tr th {\n",
       "        vertical-align: top;\n",
       "    }\n",
       "\n",
       "    .dataframe thead th {\n",
       "        text-align: right;\n",
       "    }\n",
       "</style>\n",
       "<table border=\"1\" class=\"dataframe\">\n",
       "  <thead>\n",
       "    <tr style=\"text-align: right;\">\n",
       "      <th></th>\n",
       "      <th>transcript_id</th>\n",
       "      <th>transcript_position</th>\n",
       "      <th>sequence</th>\n",
       "      <th>dwell_-1</th>\n",
       "      <th>std_-1</th>\n",
       "      <th>mean_-1</th>\n",
       "      <th>dwell_0</th>\n",
       "      <th>std_0</th>\n",
       "      <th>mean_0</th>\n",
       "      <th>dwell_+1</th>\n",
       "      <th>std_+1</th>\n",
       "      <th>mean_+1</th>\n",
       "    </tr>\n",
       "  </thead>\n",
       "  <tbody>\n",
       "    <tr>\n",
       "      <th>0</th>\n",
       "      <td>ENST00000000233</td>\n",
       "      <td>244</td>\n",
       "      <td>AAGACCA</td>\n",
       "      <td>0.00299</td>\n",
       "      <td>2.06</td>\n",
       "      <td>125.0</td>\n",
       "      <td>0.01770</td>\n",
       "      <td>10.40</td>\n",
       "      <td>122.0</td>\n",
       "      <td>0.00930</td>\n",
       "      <td>10.90</td>\n",
       "      <td>84.099998</td>\n",
       "    </tr>\n",
       "    <tr>\n",
       "      <th>1</th>\n",
       "      <td>ENST00000000233</td>\n",
       "      <td>244</td>\n",
       "      <td>AAGACCA</td>\n",
       "      <td>0.00631</td>\n",
       "      <td>2.53</td>\n",
       "      <td>125.0</td>\n",
       "      <td>0.00844</td>\n",
       "      <td>4.67</td>\n",
       "      <td>126.0</td>\n",
       "      <td>0.01030</td>\n",
       "      <td>6.30</td>\n",
       "      <td>80.900002</td>\n",
       "    </tr>\n",
       "    <tr>\n",
       "      <th>2</th>\n",
       "      <td>ENST00000000233</td>\n",
       "      <td>244</td>\n",
       "      <td>AAGACCA</td>\n",
       "      <td>0.00465</td>\n",
       "      <td>3.92</td>\n",
       "      <td>109.0</td>\n",
       "      <td>0.01360</td>\n",
       "      <td>12.00</td>\n",
       "      <td>124.0</td>\n",
       "      <td>0.00498</td>\n",
       "      <td>2.13</td>\n",
       "      <td>79.599998</td>\n",
       "    </tr>\n",
       "    <tr>\n",
       "      <th>3</th>\n",
       "      <td>ENST00000000233</td>\n",
       "      <td>244</td>\n",
       "      <td>AAGACCA</td>\n",
       "      <td>0.00398</td>\n",
       "      <td>2.06</td>\n",
       "      <td>125.0</td>\n",
       "      <td>0.00830</td>\n",
       "      <td>5.01</td>\n",
       "      <td>130.0</td>\n",
       "      <td>0.00498</td>\n",
       "      <td>3.78</td>\n",
       "      <td>80.400002</td>\n",
       "    </tr>\n",
       "    <tr>\n",
       "      <th>4</th>\n",
       "      <td>ENST00000000233</td>\n",
       "      <td>244</td>\n",
       "      <td>AAGACCA</td>\n",
       "      <td>0.00664</td>\n",
       "      <td>2.92</td>\n",
       "      <td>120.0</td>\n",
       "      <td>0.00266</td>\n",
       "      <td>3.94</td>\n",
       "      <td>129.0</td>\n",
       "      <td>0.01300</td>\n",
       "      <td>7.15</td>\n",
       "      <td>82.199997</td>\n",
       "    </tr>\n",
       "  </tbody>\n",
       "</table>\n",
       "</div>"
      ],
      "text/plain": [
       "     transcript_id  transcript_position sequence  dwell_-1  std_-1  mean_-1  \\\n",
       "0  ENST00000000233                  244  AAGACCA   0.00299    2.06    125.0   \n",
       "1  ENST00000000233                  244  AAGACCA   0.00631    2.53    125.0   \n",
       "2  ENST00000000233                  244  AAGACCA   0.00465    3.92    109.0   \n",
       "3  ENST00000000233                  244  AAGACCA   0.00398    2.06    125.0   \n",
       "4  ENST00000000233                  244  AAGACCA   0.00664    2.92    120.0   \n",
       "\n",
       "   dwell_0  std_0  mean_0  dwell_+1  std_+1    mean_+1  \n",
       "0  0.01770  10.40   122.0   0.00930   10.90  84.099998  \n",
       "1  0.00844   4.67   126.0   0.01030    6.30  80.900002  \n",
       "2  0.01360  12.00   124.0   0.00498    2.13  79.599998  \n",
       "3  0.00830   5.01   130.0   0.00498    3.78  80.400002  \n",
       "4  0.00266   3.94   129.0   0.01300    7.15  82.199997  "
      ]
     },
     "execution_count": 63,
     "metadata": {},
     "output_type": "execute_result"
    }
   ],
   "source": [
    "# Execute the flattening process\n",
    "flat_read_df = flatten_deep_data_ultra_fast(filename)\n",
    "\n",
    "print(\"\\n--- Flattened Read-Level DataFrame ---\")\n",
    "print(f\"Shape: {flat_read_df.shape} (Each row is one aggregated Nanopore site)\")\n",
    "flat_read_df.head()\n",
    "# column names of the dataframe\n",
    "#print(flat_read_df.columns.tolist())\n",
    "# 1 row of the dataframe\n",
    "#print(flat_read_df.iloc[0])"
   ]
  },
  {
   "cell_type": "code",
   "execution_count": 64,
   "id": "36e89b92",
   "metadata": {},
   "outputs": [],
   "source": [
    "labels = \"../data/data.info.labelled\""
   ]
  },
  {
   "cell_type": "code",
   "execution_count": 65,
   "id": "873ea069",
   "metadata": {},
   "outputs": [],
   "source": [
    "def load_and_merge_labels_csv(feature_matrix, label_file_path='data.info'):\n",
    "    \"\"\"\n",
    "    Loads a CSV label file with a header and merges it with the site-level \n",
    "    feature matrix using a newly created site_id.\n",
    "    \"\"\"\n",
    "    \n",
    "    # 1. Load the CSV file. Pandas correctly assumes header=0 and sep=',' by default.\n",
    "    label_df = pd.read_csv(label_file_path)\n",
    "    \n",
    "    # 2. Create the 'site_id' column in the label DataFrame to match the features\n",
    "    label_df['site_id'] = label_df['transcript_id'] + '@' + label_df['transcript_position'].astype(str)\n",
    "    feature_matrix['site_id'] = feature_matrix['transcript_id'] + '@' + feature_matrix['transcript_position'].astype(str)\n",
    "    # 3. Select the essential columns for merging\n",
    "    label_subset = label_df[['site_id', 'gene_id', 'label']].copy()\n",
    "    \n",
    "    # 4. Merge Features and Labels on 'site_id'\n",
    "    final_dataset = pd.merge(\n",
    "        feature_matrix, \n",
    "        label_subset, \n",
    "        on='site_id', \n",
    "        how='inner' \n",
    "    )\n",
    "    \n",
    "    print(f\"✅ Successfully created the final training dataset! Shape: {final_dataset.shape}\")\n",
    "    print(\"\\nTarget Label Distribution (crucial for class imbalance analysis):\")\n",
    "    print(final_dataset['label'].value_counts(normalize=True))\n",
    "    \n",
    "    return final_dataset\n",
    "\n",
    "# Assuming 'feature_matrix' is the aggregated result from the previous step:\n",
    "# final_dataset = load_and_merge_labels_csv(feature_matrix, 'data.info')"
   ]
  },
  {
   "cell_type": "code",
   "execution_count": 66,
   "id": "c5cd43c9",
   "metadata": {},
   "outputs": [
    {
     "name": "stdout",
     "output_type": "stream",
     "text": [
      "✅ Successfully created the final training dataset! Shape: (11027106, 15)\n",
      "\n",
      "Target Label Distribution (crucial for class imbalance analysis):\n",
      "label\n",
      "0    0.954696\n",
      "1    0.045304\n",
      "Name: proportion, dtype: float64\n",
      "\n",
      "--- Labelled DataFrame ---\n",
      "Shape: (11027106, 15) (Each row is one Nanopore site)\n"
     ]
    },
    {
     "data": {
      "text/html": [
       "<div>\n",
       "<style scoped>\n",
       "    .dataframe tbody tr th:only-of-type {\n",
       "        vertical-align: middle;\n",
       "    }\n",
       "\n",
       "    .dataframe tbody tr th {\n",
       "        vertical-align: top;\n",
       "    }\n",
       "\n",
       "    .dataframe thead th {\n",
       "        text-align: right;\n",
       "    }\n",
       "</style>\n",
       "<table border=\"1\" class=\"dataframe\">\n",
       "  <thead>\n",
       "    <tr style=\"text-align: right;\">\n",
       "      <th></th>\n",
       "      <th>transcript_id</th>\n",
       "      <th>transcript_position</th>\n",
       "      <th>sequence</th>\n",
       "      <th>dwell_-1</th>\n",
       "      <th>std_-1</th>\n",
       "      <th>mean_-1</th>\n",
       "      <th>dwell_0</th>\n",
       "      <th>std_0</th>\n",
       "      <th>mean_0</th>\n",
       "      <th>dwell_+1</th>\n",
       "      <th>std_+1</th>\n",
       "      <th>mean_+1</th>\n",
       "      <th>site_id</th>\n",
       "      <th>gene_id</th>\n",
       "      <th>label</th>\n",
       "    </tr>\n",
       "  </thead>\n",
       "  <tbody>\n",
       "    <tr>\n",
       "      <th>0</th>\n",
       "      <td>ENST00000000233</td>\n",
       "      <td>244</td>\n",
       "      <td>AAGACCA</td>\n",
       "      <td>0.00299</td>\n",
       "      <td>2.06</td>\n",
       "      <td>125.0</td>\n",
       "      <td>0.01770</td>\n",
       "      <td>10.40</td>\n",
       "      <td>122.0</td>\n",
       "      <td>0.00930</td>\n",
       "      <td>10.90</td>\n",
       "      <td>84.099998</td>\n",
       "      <td>ENST00000000233@244</td>\n",
       "      <td>ENSG00000004059</td>\n",
       "      <td>0</td>\n",
       "    </tr>\n",
       "    <tr>\n",
       "      <th>1</th>\n",
       "      <td>ENST00000000233</td>\n",
       "      <td>244</td>\n",
       "      <td>AAGACCA</td>\n",
       "      <td>0.00631</td>\n",
       "      <td>2.53</td>\n",
       "      <td>125.0</td>\n",
       "      <td>0.00844</td>\n",
       "      <td>4.67</td>\n",
       "      <td>126.0</td>\n",
       "      <td>0.01030</td>\n",
       "      <td>6.30</td>\n",
       "      <td>80.900002</td>\n",
       "      <td>ENST00000000233@244</td>\n",
       "      <td>ENSG00000004059</td>\n",
       "      <td>0</td>\n",
       "    </tr>\n",
       "    <tr>\n",
       "      <th>2</th>\n",
       "      <td>ENST00000000233</td>\n",
       "      <td>244</td>\n",
       "      <td>AAGACCA</td>\n",
       "      <td>0.00465</td>\n",
       "      <td>3.92</td>\n",
       "      <td>109.0</td>\n",
       "      <td>0.01360</td>\n",
       "      <td>12.00</td>\n",
       "      <td>124.0</td>\n",
       "      <td>0.00498</td>\n",
       "      <td>2.13</td>\n",
       "      <td>79.599998</td>\n",
       "      <td>ENST00000000233@244</td>\n",
       "      <td>ENSG00000004059</td>\n",
       "      <td>0</td>\n",
       "    </tr>\n",
       "    <tr>\n",
       "      <th>3</th>\n",
       "      <td>ENST00000000233</td>\n",
       "      <td>244</td>\n",
       "      <td>AAGACCA</td>\n",
       "      <td>0.00398</td>\n",
       "      <td>2.06</td>\n",
       "      <td>125.0</td>\n",
       "      <td>0.00830</td>\n",
       "      <td>5.01</td>\n",
       "      <td>130.0</td>\n",
       "      <td>0.00498</td>\n",
       "      <td>3.78</td>\n",
       "      <td>80.400002</td>\n",
       "      <td>ENST00000000233@244</td>\n",
       "      <td>ENSG00000004059</td>\n",
       "      <td>0</td>\n",
       "    </tr>\n",
       "    <tr>\n",
       "      <th>4</th>\n",
       "      <td>ENST00000000233</td>\n",
       "      <td>244</td>\n",
       "      <td>AAGACCA</td>\n",
       "      <td>0.00664</td>\n",
       "      <td>2.92</td>\n",
       "      <td>120.0</td>\n",
       "      <td>0.00266</td>\n",
       "      <td>3.94</td>\n",
       "      <td>129.0</td>\n",
       "      <td>0.01300</td>\n",
       "      <td>7.15</td>\n",
       "      <td>82.199997</td>\n",
       "      <td>ENST00000000233@244</td>\n",
       "      <td>ENSG00000004059</td>\n",
       "      <td>0</td>\n",
       "    </tr>\n",
       "  </tbody>\n",
       "</table>\n",
       "</div>"
      ],
      "text/plain": [
       "     transcript_id  transcript_position sequence  dwell_-1  std_-1  mean_-1  \\\n",
       "0  ENST00000000233                  244  AAGACCA   0.00299    2.06    125.0   \n",
       "1  ENST00000000233                  244  AAGACCA   0.00631    2.53    125.0   \n",
       "2  ENST00000000233                  244  AAGACCA   0.00465    3.92    109.0   \n",
       "3  ENST00000000233                  244  AAGACCA   0.00398    2.06    125.0   \n",
       "4  ENST00000000233                  244  AAGACCA   0.00664    2.92    120.0   \n",
       "\n",
       "   dwell_0  std_0  mean_0  dwell_+1  std_+1    mean_+1              site_id  \\\n",
       "0  0.01770  10.40   122.0   0.00930   10.90  84.099998  ENST00000000233@244   \n",
       "1  0.00844   4.67   126.0   0.01030    6.30  80.900002  ENST00000000233@244   \n",
       "2  0.01360  12.00   124.0   0.00498    2.13  79.599998  ENST00000000233@244   \n",
       "3  0.00830   5.01   130.0   0.00498    3.78  80.400002  ENST00000000233@244   \n",
       "4  0.00266   3.94   129.0   0.01300    7.15  82.199997  ENST00000000233@244   \n",
       "\n",
       "           gene_id  label  \n",
       "0  ENSG00000004059      0  \n",
       "1  ENSG00000004059      0  \n",
       "2  ENSG00000004059      0  \n",
       "3  ENSG00000004059      0  \n",
       "4  ENSG00000004059      0  "
      ]
     },
     "execution_count": 66,
     "metadata": {},
     "output_type": "execute_result"
    }
   ],
   "source": [
    "labelled_df = load_and_merge_labels_csv(flat_read_df, labels)\n",
    "print(\"\\n--- Labelled DataFrame ---\")\n",
    "print(f\"Shape: {labelled_df.shape} (Each row is one Nanopore site)\")\n",
    "labelled_df.head()\n"
   ]
  },
  {
   "cell_type": "code",
   "execution_count": 67,
   "id": "82e214ef-535a-49d5-a4e5-c26a12e08f9b",
   "metadata": {},
   "outputs": [],
   "source": [
    "import pandas as pd\n",
    "import numpy as np\n",
    "from scipy import stats\n",
    "import time\n"
   ]
  },
  {
   "cell_type": "code",
   "execution_count": 68,
   "id": "6d666230",
   "metadata": {},
   "outputs": [],
   "source": [
    "def aggregate_to_site_level(df, features_to_aggregate):\n",
    "    \"\"\"\n",
    "    Groups the individual site reads DataFrame, calculates features\n",
    "    \"\"\"\n",
    "    \n",
    "    # 1. Define aggregation functions\n",
    "    agg_funcs = {}\n",
    "    for feature in features_to_aggregate:\n",
    "        agg_funcs[feature] = ['mean', 'std']  # Keeps std dev\n",
    "\n",
    "    # 2. Perform the aggregation\n",
    "    site_features_grouped = df.groupby(['transcript_id', 'transcript_position', 'sequence', 'label', 'gene_id']).agg(agg_funcs)\n",
    "    \n",
    "    # 3. Flatten the multi-level column names for a clean DataFrame\n",
    "    new_columns = []\n",
    "    for col in site_features_grouped.columns:\n",
    "            new_columns.append(f'{col[0]}_{col[1]}')\n",
    "            \n",
    "    site_features_grouped.columns = new_columns\n",
    "    \n",
    "    # 4. Prepare final feature matrix with site_id\n",
    "    feature_matrix = site_features_grouped.reset_index()\n",
    "    feature_matrix['site_id'] = feature_matrix['transcript_id'] + '@' + feature_matrix['transcript_position'].astype(str)\n",
    "    \n",
    "    print(f\"Aggregation complete. Feature matrix shape: {feature_matrix.shape}\")\n",
    "    \n",
    "    return feature_matrix"
   ]
  },
  {
   "cell_type": "code",
   "execution_count": 69,
   "id": "dd922505",
   "metadata": {
    "scrolled": true
   },
   "outputs": [
    {
     "name": "stdout",
     "output_type": "stream",
     "text": [
      "Aggregation complete. Feature matrix shape: (121838, 24)\n",
      "\n",
      "--- Aggregated DataFrame ---\n",
      "Shape: (121838, 24) (Each row is one Nanopore site)\n",
      "['transcript_id', 'transcript_position', 'sequence', 'label', 'gene_id', 'dwell_-1_mean', 'dwell_-1_std', 'std_-1_mean', 'std_-1_std', 'mean_-1_mean', 'mean_-1_std', 'dwell_0_mean', 'dwell_0_std', 'std_0_mean', 'std_0_std', 'mean_0_mean', 'mean_0_std', 'dwell_+1_mean', 'dwell_+1_std', 'std_+1_mean', 'std_+1_std', 'mean_+1_mean', 'mean_+1_std', 'site_id']\n"
     ]
    }
   ],
   "source": [
    "agg_df = aggregate_to_site_level(labelled_df, FEATURE_NAMES)\n",
    "\n",
    "print(\"\\n--- Aggregated DataFrame ---\")\n",
    "print(f\"Shape: {agg_df.shape} (Each row is one Nanopore site)\")\n",
    "#print(summarized_df.head())\n",
    "# column names of the dataframe\n",
    "print(agg_df.columns.tolist())\n",
    "# 1 row of the dataframe"
   ]
  },
  {
   "cell_type": "code",
   "execution_count": 70,
   "id": "476aaeae-18a3-4610-86c9-4b8b342c75b9",
   "metadata": {},
   "outputs": [],
   "source": [
    "def encode_sequence_to_columns(df, seq_column='sequence'):\n",
    "    \"\"\"\n",
    "    One-hot encode DNA sequences with DRACH motif awareness.\n",
    "    Position 0 (A) and position 1 (C) are constant, so only encode:\n",
    "    positions -3, -2, -1, 2, 3\n",
    "    \n",
    "    Args:\n",
    "        df: DataFrame containing sequences\n",
    "        seq_column: Name of the column containing 7-mer sequences\n",
    "    \n",
    "    Returns:\n",
    "        DataFrame with original data plus 20 boolean one-hot encoded columns\n",
    "    \"\"\"\n",
    "    mapping = {'A': 0, 'C': 1, 'G': 2, 'T': 3}\n",
    "    bases = ['A', 'C', 'G', 'T']\n",
    "    \n",
    "    # Position mapping: array index -> position label\n",
    "    # Index: 0,  1,  2, 3, 4, 5, 6\n",
    "    # Pos:  -3, -2, -1, 0, 1, 2, 3\n",
    "    positions_to_encode = [\n",
    "        (-3, 0),  # position -3 is at index 0\n",
    "        (-2, 1),  # position -2 is at index 1\n",
    "        (-1, 2),  # position -1 is at index 2\n",
    "        # Skip position 0 (index 3) - always A\n",
    "        # Skip position 1 (index 4) - always C\n",
    "        (2, 5),   # position 2 is at index 5\n",
    "        (3, 6),   # position 3 is at index 6\n",
    "    ]\n",
    "    \n",
    "    # Create column names for variable positions only\n",
    "    col_names = [f'pos{pos}_{base}' for pos, _ in positions_to_encode for base in bases]\n",
    "    \n",
    "    # Initialize array (5 positions × 4 bases = 20 columns)\n",
    "    encoded = np.zeros((len(df), len(positions_to_encode) * 4), dtype=bool)\n",
    "    \n",
    "    # Encode each sequence\n",
    "    for row_idx, seq in enumerate(df[seq_column]):\n",
    "        for col_offset, (pos_label, seq_idx) in enumerate(positions_to_encode):\n",
    "            base = seq[seq_idx].upper()\n",
    "            if base in mapping:\n",
    "                col_idx = col_offset * 4 + mapping[base]\n",
    "                encoded[row_idx, col_idx] = True\n",
    "    \n",
    "    # Create DataFrame with encoded columns\n",
    "    encoded_df = pd.DataFrame(encoded, columns=col_names, index=df.index)\n",
    "    \n",
    "    # Concatenate with original dataframe\n",
    "    result = pd.concat([df, encoded_df], axis=1)\n",
    "    \n",
    "    return result"
   ]
  },
  {
   "cell_type": "code",
   "execution_count": 71,
   "id": "65c7400f-8e53-4f4d-9a00-e64d0dc430b8",
   "metadata": {},
   "outputs": [
    {
     "data": {
      "text/html": [
       "<div>\n",
       "<style scoped>\n",
       "    .dataframe tbody tr th:only-of-type {\n",
       "        vertical-align: middle;\n",
       "    }\n",
       "\n",
       "    .dataframe tbody tr th {\n",
       "        vertical-align: top;\n",
       "    }\n",
       "\n",
       "    .dataframe thead th {\n",
       "        text-align: right;\n",
       "    }\n",
       "</style>\n",
       "<table border=\"1\" class=\"dataframe\">\n",
       "  <thead>\n",
       "    <tr style=\"text-align: right;\">\n",
       "      <th></th>\n",
       "      <th>transcript_id</th>\n",
       "      <th>transcript_position</th>\n",
       "      <th>sequence</th>\n",
       "      <th>label</th>\n",
       "      <th>gene_id</th>\n",
       "      <th>dwell_-1_mean</th>\n",
       "      <th>dwell_-1_std</th>\n",
       "      <th>std_-1_mean</th>\n",
       "      <th>std_-1_std</th>\n",
       "      <th>mean_-1_mean</th>\n",
       "      <th>...</th>\n",
       "      <th>pos-1_G</th>\n",
       "      <th>pos-1_T</th>\n",
       "      <th>pos2_A</th>\n",
       "      <th>pos2_C</th>\n",
       "      <th>pos2_G</th>\n",
       "      <th>pos2_T</th>\n",
       "      <th>pos3_A</th>\n",
       "      <th>pos3_C</th>\n",
       "      <th>pos3_G</th>\n",
       "      <th>pos3_T</th>\n",
       "    </tr>\n",
       "  </thead>\n",
       "  <tbody>\n",
       "    <tr>\n",
       "      <th>0</th>\n",
       "      <td>ENST00000000233</td>\n",
       "      <td>244</td>\n",
       "      <td>AAGACCA</td>\n",
       "      <td>0</td>\n",
       "      <td>ENSG00000004059</td>\n",
       "      <td>0.008264</td>\n",
       "      <td>0.005399</td>\n",
       "      <td>4.223784</td>\n",
       "      <td>1.848027</td>\n",
       "      <td>123.702705</td>\n",
       "      <td>...</td>\n",
       "      <td>True</td>\n",
       "      <td>False</td>\n",
       "      <td>False</td>\n",
       "      <td>True</td>\n",
       "      <td>False</td>\n",
       "      <td>False</td>\n",
       "      <td>True</td>\n",
       "      <td>False</td>\n",
       "      <td>False</td>\n",
       "      <td>False</td>\n",
       "    </tr>\n",
       "    <tr>\n",
       "      <th>1</th>\n",
       "      <td>ENST00000000233</td>\n",
       "      <td>261</td>\n",
       "      <td>CAAACTG</td>\n",
       "      <td>0</td>\n",
       "      <td>ENSG00000004059</td>\n",
       "      <td>0.006609</td>\n",
       "      <td>0.003599</td>\n",
       "      <td>3.216424</td>\n",
       "      <td>1.694099</td>\n",
       "      <td>109.681389</td>\n",
       "      <td>...</td>\n",
       "      <td>False</td>\n",
       "      <td>False</td>\n",
       "      <td>False</td>\n",
       "      <td>False</td>\n",
       "      <td>False</td>\n",
       "      <td>True</td>\n",
       "      <td>False</td>\n",
       "      <td>False</td>\n",
       "      <td>True</td>\n",
       "      <td>False</td>\n",
       "    </tr>\n",
       "    <tr>\n",
       "      <th>2</th>\n",
       "      <td>ENST00000000233</td>\n",
       "      <td>316</td>\n",
       "      <td>GAAACAG</td>\n",
       "      <td>0</td>\n",
       "      <td>ENSG00000004059</td>\n",
       "      <td>0.007570</td>\n",
       "      <td>0.004456</td>\n",
       "      <td>2.940541</td>\n",
       "      <td>1.314661</td>\n",
       "      <td>105.475677</td>\n",
       "      <td>...</td>\n",
       "      <td>False</td>\n",
       "      <td>False</td>\n",
       "      <td>True</td>\n",
       "      <td>False</td>\n",
       "      <td>False</td>\n",
       "      <td>False</td>\n",
       "      <td>False</td>\n",
       "      <td>False</td>\n",
       "      <td>True</td>\n",
       "      <td>False</td>\n",
       "    </tr>\n",
       "    <tr>\n",
       "      <th>3</th>\n",
       "      <td>ENST00000000233</td>\n",
       "      <td>332</td>\n",
       "      <td>AGAACAT</td>\n",
       "      <td>0</td>\n",
       "      <td>ENSG00000004059</td>\n",
       "      <td>0.010620</td>\n",
       "      <td>0.006136</td>\n",
       "      <td>6.476350</td>\n",
       "      <td>2.465488</td>\n",
       "      <td>129.354996</td>\n",
       "      <td>...</td>\n",
       "      <td>False</td>\n",
       "      <td>False</td>\n",
       "      <td>True</td>\n",
       "      <td>False</td>\n",
       "      <td>False</td>\n",
       "      <td>False</td>\n",
       "      <td>False</td>\n",
       "      <td>False</td>\n",
       "      <td>False</td>\n",
       "      <td>True</td>\n",
       "    </tr>\n",
       "    <tr>\n",
       "      <th>4</th>\n",
       "      <td>ENST00000000233</td>\n",
       "      <td>368</td>\n",
       "      <td>AGGACAA</td>\n",
       "      <td>0</td>\n",
       "      <td>ENSG00000004059</td>\n",
       "      <td>0.010701</td>\n",
       "      <td>0.007169</td>\n",
       "      <td>6.415051</td>\n",
       "      <td>2.750181</td>\n",
       "      <td>117.924240</td>\n",
       "      <td>...</td>\n",
       "      <td>True</td>\n",
       "      <td>False</td>\n",
       "      <td>True</td>\n",
       "      <td>False</td>\n",
       "      <td>False</td>\n",
       "      <td>False</td>\n",
       "      <td>True</td>\n",
       "      <td>False</td>\n",
       "      <td>False</td>\n",
       "      <td>False</td>\n",
       "    </tr>\n",
       "  </tbody>\n",
       "</table>\n",
       "<p>5 rows × 44 columns</p>\n",
       "</div>"
      ],
      "text/plain": [
       "     transcript_id  transcript_position sequence  label          gene_id  \\\n",
       "0  ENST00000000233                  244  AAGACCA      0  ENSG00000004059   \n",
       "1  ENST00000000233                  261  CAAACTG      0  ENSG00000004059   \n",
       "2  ENST00000000233                  316  GAAACAG      0  ENSG00000004059   \n",
       "3  ENST00000000233                  332  AGAACAT      0  ENSG00000004059   \n",
       "4  ENST00000000233                  368  AGGACAA      0  ENSG00000004059   \n",
       "\n",
       "   dwell_-1_mean  dwell_-1_std  std_-1_mean  std_-1_std  mean_-1_mean  ...  \\\n",
       "0       0.008264      0.005399     4.223784    1.848027    123.702705  ...   \n",
       "1       0.006609      0.003599     3.216424    1.694099    109.681389  ...   \n",
       "2       0.007570      0.004456     2.940541    1.314661    105.475677  ...   \n",
       "3       0.010620      0.006136     6.476350    2.465488    129.354996  ...   \n",
       "4       0.010701      0.007169     6.415051    2.750181    117.924240  ...   \n",
       "\n",
       "   pos-1_G  pos-1_T  pos2_A  pos2_C  pos2_G  pos2_T  pos3_A  pos3_C  pos3_G  \\\n",
       "0     True    False   False    True   False   False    True   False   False   \n",
       "1    False    False   False   False   False    True   False   False    True   \n",
       "2    False    False    True   False   False   False   False   False    True   \n",
       "3    False    False    True   False   False   False   False   False   False   \n",
       "4     True    False    True   False   False   False    True   False   False   \n",
       "\n",
       "   pos3_T  \n",
       "0   False  \n",
       "1   False  \n",
       "2   False  \n",
       "3    True  \n",
       "4   False  \n",
       "\n",
       "[5 rows x 44 columns]"
      ]
     },
     "execution_count": 71,
     "metadata": {},
     "output_type": "execute_result"
    }
   ],
   "source": [
    "full_df = encode_sequence_to_columns(agg_df)\n",
    "full_df.head()"
   ]
  },
  {
   "cell_type": "code",
   "execution_count": 72,
   "id": "b9a01c51",
   "metadata": {},
   "outputs": [],
   "source": [
    "from sklearn.model_selection import train_test_split"
   ]
  },
  {
   "cell_type": "code",
   "execution_count": 73,
   "id": "6c5dfada",
   "metadata": {},
   "outputs": [
    {
     "name": "stdout",
     "output_type": "stream",
     "text": [
      "--- Gene-Level Split Results ---\n",
      "Total Unique Genes: 3852\n",
      "Train Genes: 3081, Test Genes: 771\n",
      "X_train shape: (96821, 38) (Sites for training)\n",
      "X_test shape: (25017, 38) (Pristine sites for final evaluation)\n"
     ]
    }
   ],
   "source": [
    "# Assuming 'full_df' is your DataFrame after feature aggregation and label merging.\n",
    "# It MUST contain the 'gene_id' and 'label' columns.\n",
    "label_cols = ['sequence', 'site_id','gene_id','label', 'transcript_id', 'transcript_position']\n",
    "\n",
    "# 1. Separate features (X) and target (y)\n",
    "# Drop all non-feature columns except 'gene_id' (needed for splitting)\n",
    "gene_ids_col = full_df['gene_id'] # Keep this separate for splitting\n",
    "y = full_df['label']\n",
    "X = full_df.drop(label_cols, axis=1)\n",
    "\n",
    "\n",
    "# 2. Split the unique gene IDs (80% for training, 20% for testing)\n",
    "unique_genes = gene_ids_col.unique()\n",
    "\n",
    "# Split the list of unique gene IDs\n",
    "train_genes, test_genes = train_test_split(\n",
    "    unique_genes, \n",
    "    test_size=0.2, \n",
    "    random_state=42 # Use a fixed seed for reproducible results!\n",
    ")\n",
    "\n",
    "# 3. Create the final train and test indices based on the gene split\n",
    "# This avoids data leakage by ensuring all sites from a test gene are in the test set.\n",
    "train_indices = full_df['gene_id'].isin(train_genes)\n",
    "test_indices = full_df['gene_id'].isin(test_genes)\n",
    "\n",
    "\n",
    "# 4. Apply indices to features (X) and target (y)\n",
    "X_train = X[train_indices]\n",
    "X_test = X[test_indices]\n",
    "y_train = y[train_indices]\n",
    "y_test = y[test_indices]\n",
    "\n",
    "print(\"--- Gene-Level Split Results ---\")\n",
    "print(f\"Total Unique Genes: {len(unique_genes)}\")\n",
    "print(f\"Train Genes: {len(train_genes)}, Test Genes: {len(test_genes)}\")\n",
    "print(f\"X_train shape: {X_train.shape} (Sites for training)\")\n",
    "print(f\"X_test shape: {X_test.shape} (Pristine sites for final evaluation)\")"
   ]
  },
  {
   "cell_type": "code",
   "execution_count": 74,
   "id": "e8e00920",
   "metadata": {},
   "outputs": [],
   "source": [
    "from imblearn.over_sampling import SMOTE\n",
    "from sklearn.utils import shuffle\n",
    "import pandas as pd"
   ]
  },
  {
   "cell_type": "code",
   "execution_count": 75,
   "id": "d2e5fde9-db63-4ed9-abea-aa39ff50b97f",
   "metadata": {},
   "outputs": [
    {
     "name": "stdout",
     "output_type": "stream",
     "text": [
      "Categorical features (indices): [18, 19, 20, 21, 22, 23, 24, 25, 26, 27, 28, 29, 30, 31, 32, 33, 34, 35, 36, 37]\n",
      "Number of categorical features: 20\n",
      "Total features: 38\n"
     ]
    }
   ],
   "source": [
    "categorical_cols = [col for col in X_train.columns if col.startswith('pos')]\n",
    "categorical_feature_indices = [X_train.columns.get_loc(col) for col in categorical_cols]\n",
    "\n",
    "print(f\"Categorical features (indices): {categorical_feature_indices}\")\n",
    "print(f\"Number of categorical features: {len(categorical_feature_indices)}\")\n",
    "print(f\"Total features: {X_train.shape[1]}\")"
   ]
  },
  {
   "cell_type": "code",
   "execution_count": 76,
   "id": "da381190-f9b9-4298-bb96-b245d1d6cb05",
   "metadata": {},
   "outputs": [],
   "source": [
    "from imblearn.over_sampling import SMOTENC"
   ]
  },
  {
   "cell_type": "code",
   "execution_count": 77,
   "id": "c4b5272b",
   "metadata": {},
   "outputs": [
    {
     "name": "stdout",
     "output_type": "stream",
     "text": [
      "\n",
      "--- Applying SMOTENC to Training Data ---\n",
      "Original Training Class Count (Label 1): 4,421\n",
      "Resampled Training Class Count (Label 1): 92,400\n",
      "X_train_resampled shape: (184800, 38) (Balanced training data)\n",
      "\n",
      "New Training Label Distribution:\n",
      "label\n",
      "0    92400\n",
      "1    92400\n",
      "Name: count, dtype: int64\n"
     ]
    }
   ],
   "source": [
    "\n",
    "# Instantiate SMOTENC. We target a 1:1 ratio (fully balanced).\n",
    "# You can experiment with different ratios (e.g., 0.5 for 2:1)\n",
    "smotenc = SMOTENC(\n",
    "        categorical_features=categorical_feature_indices,\n",
    "        random_state=42,\n",
    "        k_neighbors=5  # Adjust based on minority class size\n",
    "    )\n",
    "\n",
    "print(\"\\n--- Applying SMOTENC to Training Data ---\")\n",
    "\n",
    "# Apply SMOTE to the training data\n",
    "X_train_resampled, y_train_resampled = smotenc.fit_resample(X_train, y_train)\n",
    "\n",
    "# Calculate and display the change in class balance\n",
    "print(f\"Original Training Class Count (Label 1): {sum(y_train == 1):,}\")\n",
    "print(f\"Resampled Training Class Count (Label 1): {sum(y_train_resampled == 1):,}\")\n",
    "print(f\"X_train_resampled shape: {X_train_resampled.shape} (Balanced training data)\")\n",
    "\n",
    "# Check the new distribution\n",
    "print(\"\\nNew Training Label Distribution:\")\n",
    "print(y_train_resampled.value_counts())"
   ]
  },
  {
   "cell_type": "code",
   "execution_count": 78,
   "id": "e3c1e2b4",
   "metadata": {},
   "outputs": [],
   "source": [
    "from sklearn.ensemble import RandomForestClassifier\n",
    "from xgboost import XGBClassifier\n",
    "from sklearn.metrics import accuracy_score, precision_score, recall_score, roc_auc_score, confusion_matrix\n",
    "import time"
   ]
  },
  {
   "cell_type": "code",
   "execution_count": 79,
   "id": "95d767a3",
   "metadata": {},
   "outputs": [],
   "source": [
    "def evaluate_classifier(model, X_train, y_train, X_test, y_test, model_name):\n",
    "    \"\"\"Trains a model and evaluates its performance on the test set.\"\"\"\n",
    "    \n",
    "    start_time = time.time()\n",
    "    model.fit(X_train, y_train)\n",
    "    training_time = time.time() - start_time\n",
    "    \n",
    "    y_pred = model.predict(X_test)\n",
    "    y_proba = model.predict_proba(X_test)[:, 1] # Probability for positive class (label=1)\n",
    "    \n",
    "    # Calculate requested metrics\n",
    "    accuracy = accuracy_score(y_test, y_pred)\n",
    "    precision = precision_score(y_test, y_pred, zero_division=0)\n",
    "    recall = recall_score(y_test, y_pred, zero_division=0)\n",
    "    \n",
    "    # Calculate a project-critical metric (ROC AUC)\n",
    "    roc_auc = roc_auc_score(y_test, y_proba)\n",
    "    \n",
    "    # Print results\n",
    "    print(f\"\\n--- {model_name} Results ---\")\n",
    "    print(f\"Training Time: {training_time:.2f} seconds\")\n",
    "    print(f\"Accuracy: {accuracy:.4f}\")\n",
    "    print(f\"Precision: {precision:.4f} (Accuracy of positive predictions)\")\n",
    "    print(f\"Recall: {recall:.4f} (Ability to find all positive samples)\")\n",
    "    print(f\"ROC AUC: {roc_auc:.4f} (Overall separation power)\")\n",
    "    print(f\"Confusion Matrix:\\n{confusion_matrix(y_test, y_pred)}\")\n",
    "\n",
    "    return {\n",
    "        'Model': model_name, \n",
    "        'Accuracy': accuracy, \n",
    "        'Precision': precision, \n",
    "        'Recall': recall, \n",
    "        'ROC AUC': roc_auc\n",
    "    }"
   ]
  },
  {
   "cell_type": "code",
   "execution_count": 80,
   "id": "819f1662",
   "metadata": {},
   "outputs": [],
   "source": [
    "# --------------------------------------------------------------------------------------\n",
    "# 1. Random Forest Classifier\n",
    "# --------------------------------------------------------------------------------------\n",
    "\n",
    "rf_model = RandomForestClassifier(\n",
    "    n_estimators=200,           \n",
    "    max_depth=10,               # Reduced from 15 to prevent overfitting\n",
    "    min_samples_split=50,       # Increased from 15 (more regularization)\n",
    "    min_samples_leaf=20,        # Increased from 5 (more regularization)\n",
    "    max_features='sqrt',        # Limit features per split (reduces variance)\n",
    "    min_impurity_decrease=0.001, \n",
    "    max_samples=0.8,            \n",
    "    class_weight='balanced_subsample',\n",
    "    random_state=42,\n",
    "    n_jobs=-1\n",
    ")\n"
   ]
  },
  {
   "cell_type": "code",
   "execution_count": 81,
   "id": "8f427033",
   "metadata": {},
   "outputs": [],
   "source": [
    "# --------------------------------------------------------------------------------------\n",
    "# 2. XGBoost Classifier\n",
    "# --------------------------------------------------------------------------------------\n",
    "\n",
    "import xgboost as xgb\n",
    "\n",
    "# XGBoost with regularization to prevent overfitting\n",
    "xgb_model = xgb.XGBClassifier(\n",
    "    n_estimators=200,              # Number of boosting rounds\n",
    "    max_depth=6,                   # Shallower trees than RF (typical for XGBoost)\n",
    "    learning_rate=0.05,            # Lower learning rate for better generalization\n",
    "    subsample=0.8,                 # Use 80% of samples (similar to RF max_samples)\n",
    "    colsample_bytree=0.8,          # Use 80% of features per tree\n",
    "    colsample_bylevel=0.8,         # Feature sampling per level\n",
    "    min_child_weight=10,           # Minimum sum of instance weight in a child (like min_samples_leaf)\n",
    "    gamma=0.1,                     # Minimum loss reduction for split (regularization)\n",
    "    reg_alpha=0.1,                 # L1 regularization\n",
    "    reg_lambda=1.0,                # L2 regularization\n",
    "    scale_pos_weight=None,         # Will calculate from data for imbalance\n",
    "    random_state=42,\n",
    "    n_jobs=-1,\n",
    "    tree_method='hist',            # Faster histogram-based method\n",
    "    eval_metric='logloss'          # Evaluation metric\n",
    ")"
   ]
  },
  {
   "cell_type": "code",
   "execution_count": 82,
   "id": "a93f7d22",
   "metadata": {},
   "outputs": [],
   "source": [
    "# --------------------------------------------------------------------------------------\n",
    "# 3. LightGBM - Faster than XGBoost, often similar performance\n",
    "# --------------------------------------------------------------------------------------\n",
    "\n",
    "import lightgbm as lgb\n",
    "\n",
    "lgb_model = lgb.LGBMClassifier(\n",
    "    n_estimators=200,\n",
    "    max_depth=8,\n",
    "    learning_rate=0.05,\n",
    "    num_leaves=31,                 # LightGBM uses leaf-wise growth\n",
    "    subsample=0.8,                 # Row sampling\n",
    "    colsample_bytree=0.8,          # Column sampling\n",
    "    min_child_samples=20,          # Like min_samples_leaf\n",
    "    min_split_gain=0.1,            # Like min_impurity_decrease\n",
    "    reg_alpha=0.1,                 # L1 regularization\n",
    "    reg_lambda=1.0,                # L2 regularization\n",
    "    random_state=42,\n",
    "    n_jobs=-1,\n",
    "    verbose=-1\n",
    ")"
   ]
  },
  {
   "cell_type": "code",
   "execution_count": 83,
   "id": "55b583ae",
   "metadata": {},
   "outputs": [],
   "source": [
    "# --------------------------------------------------------------------------------------\n",
    "# 8. Voting Ensemble - Combine multiple models\n",
    "# --------------------------------------------------------------------------------------\n",
    "\n",
    "from sklearn.ensemble import VotingClassifier\n",
    "\n",
    "ensemble_model = VotingClassifier(\n",
    "    estimators=[\n",
    "        ('rf', rf_model),\n",
    "        ('xgb', xgb_model),\n",
    "        ('lgb', lgb_model)\n",
    "    ],\n",
    "    voting='soft',  # Use probability averaging\n",
    "    n_jobs=-1\n",
    ")"
   ]
  },
  {
   "cell_type": "code",
   "execution_count": 84,
   "id": "29e7016a",
   "metadata": {},
   "outputs": [
    {
     "name": "stdout",
     "output_type": "stream",
     "text": [
      "\n",
      "--- Ensemble Model Results ---\n",
      "Training Time: 78.82 seconds\n",
      "Accuracy: 0.8882\n",
      "Precision: 0.2428 (Accuracy of positive predictions)\n",
      "Recall: 0.7808 (Ability to find all positive samples)\n",
      "ROC AUC: 0.9191 (Overall separation power)\n",
      "Confusion Matrix:\n",
      "[[21397  2566]\n",
      " [  231   823]]\n"
     ]
    }
   ],
   "source": [
    "ens_results = evaluate_classifier(\n",
    "    ensemble_model, \n",
    "    X_train_resampled, y_train_resampled, \n",
    "    X_test, y_test, \n",
    "    \"Ensemble Model\"\n",
    ")"
   ]
  },
  {
   "cell_type": "code",
   "execution_count": 85,
   "id": "bd1332c6",
   "metadata": {},
   "outputs": [
    {
     "data": {
      "text/plain": [
       "Text(0.5, 1.0, 'Ensemble model ROC AUC Curve')"
      ]
     },
     "execution_count": 85,
     "metadata": {},
     "output_type": "execute_result"
    },
    {
     "data": {
      "image/png": "[encoded data removed]",
      "text/plain": [
       "<Figure size 640x480 with 1 Axes>"
      ]
     },
     "metadata": {},
     "output_type": "display_data"
    }
   ],
   "source": [
    "# plot ROC AUC curve for rf_model\n",
    "from sklearn.metrics import RocCurveDisplay\n",
    "RocCurveDisplay.from_estimator(ensemble_model, X_test, y_test)\n",
    "plt.title('Ensemble model ROC AUC Curve')"
   ]
  },
  {
   "cell_type": "code",
   "execution_count": 86,
   "id": "0d95e63d",
   "metadata": {},
   "outputs": [
    {
     "data": {
      "text/plain": [
       "Text(0.5, 1.0, 'Ensemble model PR AUC Curve')"
      ]
     },
     "execution_count": 86,
     "metadata": {},
     "output_type": "execute_result"
    },
    {
     "data": {
      "image/png": "[encoded data removed]",
      "text/plain": [
       "<Figure size 640x480 with 1 Axes>"
      ]
     },
     "metadata": {},
     "output_type": "display_data"
    }
   ],
   "source": [
    "# plot PR AUC curve for rf_model\n",
    "from sklearn.metrics import PrecisionRecallDisplay\n",
    "PrecisionRecallDisplay.from_estimator(ensemble_model, X_test, y_test)\n",
    "plt.title('Ensemble model PR AUC Curve')"
   ]
  },
  {
   "cell_type": "code",
   "execution_count": 87,
   "id": "e99bfcc0",
   "metadata": {},
   "outputs": [
    {
     "data": {
      "image/png": "[encoded data removed]",
      "text/plain": [
       "<Figure size 640x480 with 1 Axes>"
      ]
     },
     "metadata": {},
     "output_type": "display_data"
    }
   ],
   "source": [
    "import matplotlib.pyplot as plt\n",
    "y_pred_proba = ensemble_model.predict_proba(X_test)[:, 1]\n",
    "plt.hist(y_pred_proba, bins=50)\n",
    "plt.title(\"Distribution of predicted probabilities\")\n",
    "plt.show()"
   ]
  },
  {
   "cell_type": "code",
   "execution_count": 30,
   "id": "d71f5af3",
   "metadata": {},
   "outputs": [],
   "source": [
    "from imblearn.pipeline import Pipeline\n",
    "from sklearn.ensemble import RandomForestClassifier\n",
    "from sklearn.model_selection import learning_curve, GroupKFold"
   ]
  },
  {
   "cell_type": "code",
   "execution_count": 32,
   "id": "9f0afde2",
   "metadata": {},
   "outputs": [
    {
     "data": {
      "image/png": "[encoded data removed]",
      "text/plain": [
       "<Figure size 1000x600 with 1 Axes>"
      ]
     },
     "metadata": {},
     "output_type": "display_data"
    }
   ],
   "source": [
    "# 1. Define the SMOTENC + Classifier Pipeline\n",
    "#    SMOTENC will only be applied to the data within each CV training fold.\n",
    "#    SMOTENC: numerical and categorical features\n",
    "\n",
    "smotenc_pipeline = Pipeline([\n",
    "    ('smotenc', SMOTENC(\n",
    "        categorical_features=categorical_feature_indices,\n",
    "        random_state=42,\n",
    "        k_neighbors=5  # Adjust based on minority class size\n",
    "    )),\n",
    "    ('classifier', ensemble_model)\n",
    "])\n",
    "# 2. Run learning_curve using the Pipeline\n",
    "#    NOTE: Use the ORIGINAL, UNSAMPLED training data here (X_train, y_train),\n",
    "#          NOT the already resampled data (X_train_resampled).\n",
    "group_cv = GroupKFold(n_splits=3)\n",
    "\n",
    "# 4. Use learning_curve with grouped CV\n",
    "train_sizes, train_scores, test_scores = learning_curve(\n",
    "    estimator=smotenc_pipeline,\n",
    "    X=X_train,\n",
    "    y=y_train,\n",
    "    groups=full_df[train_indices][\"gene_id\"],  # Pass gene IDs as groups\n",
    "    train_sizes=[0.2, 0.4, 0.6, 0.8, 1.0],\n",
    "    cv=group_cv,  # Use GroupKFold instead of integer\n",
    "    scoring=\"f1\",\n",
    "    n_jobs=-1,\n",
    "    random_state=42\n",
    ")\n",
    "\n",
    "# 3. Calculate mean and standard deviation for the scores (same as before)\n",
    "train_scores_mean = np.mean(train_scores, axis=1)\n",
    "train_scores_std = np.std(train_scores, axis=1)\n",
    "test_scores_mean = np.mean(test_scores, axis=1)\n",
    "test_scores_std = np.std(test_scores, axis=1)\n",
    "\n",
    "# 4. Plot the Learning Curve\n",
    "plt.figure(figsize=(10, 6))\n",
    "plt.title(\"Ensemble model Learning Curve (F1-Score)\")\n",
    "plt.xlabel(\"Training Examples\")\n",
    "plt.ylabel(\"F1-Score\") # Corrected Y-axis label\n",
    "plt.grid(True)\n",
    "\n",
    "# Plot training score\n",
    "plt.plot(train_sizes, train_scores_mean, 'o-', color=\"blue\", label=\"Training F1-Score\")\n",
    "plt.fill_between(train_sizes, train_scores_mean - train_scores_std, train_scores_mean + train_scores_std, alpha=0.1, color=\"blue\")\n",
    "\n",
    "# Plot cross-validation score\n",
    "plt.plot(train_sizes, test_scores_mean, 'o-', color=\"green\", label=\"Cross-Validation F1-Score\")\n",
    "plt.fill_between(train_sizes, test_scores_mean - test_scores_std, test_scores_mean + test_scores_std, alpha=0.1, color=\"green\")\n",
    "\n",
    "plt.legend(loc=\"best\")\n",
    "plt.ylim([0.0, 1.05])\n",
    "plt.show()"
   ]
  },
  {
   "cell_type": "code",
   "execution_count": 88,
   "id": "436ea58f-ca25-4187-b636-c62d7adfe6f0",
   "metadata": {},
   "outputs": [],
   "source": [
    "dataset1 = \"../data/dataset1.json.gz\"\n",
    "dataset2 = \"../data/dataset2.json.gz\""
   ]
  },
  {
   "cell_type": "code",
   "execution_count": 89,
   "id": "3accf558-969a-4704-869e-0f894510406c",
   "metadata": {},
   "outputs": [
    {
     "name": "stdout",
     "output_type": "stream",
     "text": [
      "Processed 7,900,000 rows...\n",
      "Creating DataFrame with 7,907,952 rows...\n"
     ]
    }
   ],
   "source": [
    "flat_df_one = flatten_deep_data_ultra_fast(dataset1)"
   ]
  },
  {
   "cell_type": "code",
   "execution_count": 90,
   "id": "9990df63-7f4a-4e57-8f3e-17f4b465fa91",
   "metadata": {},
   "outputs": [
    {
     "name": "stdout",
     "output_type": "stream",
     "text": [
      "Processed 1,100,000 rows...\n",
      "Creating DataFrame with 1,171,940 rows...\n"
     ]
    }
   ],
   "source": [
    "flat_df_two = flatten_deep_data_ultra_fast(dataset2)"
   ]
  },
  {
   "cell_type": "code",
   "execution_count": 91,
   "id": "3c2074dc-fd7a-49ee-b13c-0cbddb087935",
   "metadata": {},
   "outputs": [],
   "source": [
    "flat_df_one['label'] = 8 #dummy col for function\n",
    "flat_df_one['gene_id'] = 8\n",
    "flat_df_one['site_id'] = flat_df_one['transcript_id'] + '@' + flat_df_one['transcript_position'].astype(str)\n",
    "flat_df_two['label'] = 8 #dummy col for function\n",
    "flat_df_two['gene_id'] = 8\n",
    "flat_df_two['site_id'] = flat_df_two['transcript_id'] + '@' + flat_df_two['transcript_position'].astype(str)"
   ]
  },
  {
   "cell_type": "code",
   "execution_count": 92,
   "id": "a39b813d-e458-48b1-8490-6d0011895a55",
   "metadata": {},
   "outputs": [
    {
     "data": {
      "text/plain": [
       "Index(['transcript_id', 'transcript_position', 'sequence', 'dwell_-1',\n",
       "       'std_-1', 'mean_-1', 'dwell_0', 'std_0', 'mean_0', 'dwell_+1', 'std_+1',\n",
       "       'mean_+1', 'site_id', 'gene_id', 'label'],\n",
       "      dtype='object')"
      ]
     },
     "execution_count": 92,
     "metadata": {},
     "output_type": "execute_result"
    }
   ],
   "source": [
    "labelled_df.columns"
   ]
  },
  {
   "cell_type": "code",
   "execution_count": 93,
   "id": "1226f891-b358-41f8-9d21-cc66cf13350d",
   "metadata": {},
   "outputs": [
    {
     "data": {
      "text/plain": [
       "Index(['transcript_id', 'transcript_position', 'sequence', 'dwell_-1',\n",
       "       'std_-1', 'mean_-1', 'dwell_0', 'std_0', 'mean_0', 'dwell_+1', 'std_+1',\n",
       "       'mean_+1', 'label', 'gene_id', 'site_id'],\n",
       "      dtype='object')"
      ]
     },
     "execution_count": 93,
     "metadata": {},
     "output_type": "execute_result"
    }
   ],
   "source": [
    "flat_df_one.columns"
   ]
  },
  {
   "cell_type": "code",
   "execution_count": 94,
   "id": "f4fcce5f-db56-4b45-bdd5-b6f715447368",
   "metadata": {},
   "outputs": [
    {
     "name": "stdout",
     "output_type": "stream",
     "text": [
      "Aggregation complete. Feature matrix shape: (90810, 24)\n"
     ]
    },
    {
     "data": {
      "text/plain": [
       "True"
      ]
     },
     "execution_count": 94,
     "metadata": {},
     "output_type": "execute_result"
    }
   ],
   "source": [
    "agg_df_one = aggregate_to_site_level(flat_df_one, FEATURE_NAMES)\n",
    "len(flat_df_one['site_id'].unique()) == agg_df_one.shape[0]"
   ]
  },
  {
   "cell_type": "code",
   "execution_count": 95,
   "id": "bdcd402d-fdd0-4f73-a86e-550b28937ce9",
   "metadata": {},
   "outputs": [
    {
     "name": "stdout",
     "output_type": "stream",
     "text": [
      "Aggregation complete. Feature matrix shape: (1323, 24)\n"
     ]
    },
    {
     "data": {
      "text/plain": [
       "True"
      ]
     },
     "execution_count": 95,
     "metadata": {},
     "output_type": "execute_result"
    }
   ],
   "source": [
    "agg_df_two = aggregate_to_site_level(flat_df_two, FEATURE_NAMES)\n",
    "len(flat_df_two['site_id'].unique()) == agg_df_two.shape[0]"
   ]
  },
  {
   "cell_type": "code",
   "execution_count": 103,
   "id": "96b4b373-7734-4445-a2df-9ad20aac8245",
   "metadata": {},
   "outputs": [
    {
     "name": "stdout",
     "output_type": "stream",
     "text": [
      "Number of features: 38\n",
      "Generating probability scores...\n",
      "\n",
      "Probability score statistics:\n",
      "count    90810.000000\n",
      "mean         0.245155\n",
      "std          0.223603\n",
      "min          0.021801\n",
      "25%          0.083581\n",
      "50%          0.161340\n",
      "75%          0.332367\n",
      "max          0.949276\n",
      "Name: probability_score, dtype: float64\n",
      "\n",
      "Probability for the sites:\n",
      "     transcript_id  transcript_position  probability_score\n",
      "0  ENST00000000233                  244           0.084571\n",
      "1  ENST00000000233                  261           0.446641\n",
      "2  ENST00000000233                  316           0.054327\n",
      "3  ENST00000000233                  332           0.274191\n",
      "4  ENST00000000233                  368           0.160523\n"
     ]
    }
   ],
   "source": [
    "# 1. Your encoded dataframe\n",
    "encoded_one = encode_sequence_to_columns(agg_df_one)\n",
    "\n",
    "# 2. Define feature columns (exclude identifiers)\n",
    "identifier_cols = ['transcript_id', 'transcript_position', 'sequence', \n",
    "                   'label', 'gene_id', 'site_id']\n",
    "feature_columns = [col for col in encoded_one.columns if col not in identifier_cols]\n",
    "\n",
    "print(f\"Number of features: {len(feature_columns)}\")\n",
    "\n",
    "# 3. Extract features for prediction\n",
    "X_pred = encoded_one[feature_columns]\n",
    "\n",
    "# 4. Get probability scores\n",
    "print(\"Generating probability scores...\")\n",
    "prob_scores = ensemble_model.predict_proba(X_pred)[:, 1]\n",
    "\n",
    "# 5. Add probability scores to dataframe\n",
    "encoded_one['probability_score'] = prob_scores\n",
    "\n",
    "# 6. View results\n",
    "print(f\"\\nProbability score statistics:\")\n",
    "print(encoded_one['probability_score'].describe())\n",
    "\n",
    "print(f\"\\nProbability for the sites:\")\n",
    "top_sites = encoded_one[\n",
    "    ['transcript_id', 'transcript_position', 'probability_score']\n",
    "].head()\n",
    "print(top_sites)"
   ]
  },
  {
   "cell_type": "code",
   "execution_count": 104,
   "id": "f3e3268c-a037-4d43-a35f-ab2ca52b03e5",
   "metadata": {},
   "outputs": [
    {
     "name": "stdout",
     "output_type": "stream",
     "text": [
      "Number of features: 38\n",
      "Generating probability scores...\n",
      "\n",
      "Probability score statistics:\n",
      "count    1323.000000\n",
      "mean        0.396117\n",
      "std         0.289656\n",
      "min         0.022540\n",
      "25%         0.110085\n",
      "50%         0.357520\n",
      "75%         0.638283\n",
      "max         0.945274\n",
      "Name: probability_score, dtype: float64\n",
      "\n",
      "Probability for the sites:\n",
      "  transcript_id  transcript_position  probability_score\n",
      "0       tx_id_0                    0           0.120466\n",
      "1       tx_id_0                   10           0.827374\n",
      "2       tx_id_0                   20           0.833686\n",
      "3       tx_id_0                   30           0.789709\n",
      "4       tx_id_0                   40           0.127070\n"
     ]
    }
   ],
   "source": [
    "# 1. Your encoded dataframe\n",
    "encoded_two = encode_sequence_to_columns(agg_df_two)\n",
    "\n",
    "# 2. Define feature columns (exclude identifiers)\n",
    "identifier_cols = ['transcript_id', 'transcript_position', 'sequence', \n",
    "                   'label', 'gene_id', 'site_id']\n",
    "feature_columns = [col for col in encoded_two.columns if col not in identifier_cols]\n",
    "\n",
    "print(f\"Number of features: {len(feature_columns)}\")\n",
    "\n",
    "# 3. Extract features for prediction\n",
    "X_pred = encoded_two[feature_columns]\n",
    "\n",
    "# 4. Get probability scores\n",
    "print(\"Generating probability scores...\")\n",
    "prob_scores = ensemble_model.predict_proba(X_pred)[:, 1]\n",
    "\n",
    "# 5. Add probability scores to dataframe\n",
    "encoded_two['probability_score'] = prob_scores\n",
    "\n",
    "# 6. View results\n",
    "print(f\"\\nProbability score statistics:\")\n",
    "print(encoded_two['probability_score'].describe())\n",
    "\n",
    "print(f\"\\nProbability for the sites:\")\n",
    "top_sites = encoded_two[\n",
    "    ['transcript_id', 'transcript_position', 'probability_score']\n",
    "].head()\n",
    "print(top_sites)"
   ]
  },
  {
   "cell_type": "code",
   "execution_count": 107,
   "id": "32691132-4c85-45d9-afe5-f065124fee35",
   "metadata": {},
   "outputs": [
    {
     "name": "stdout",
     "output_type": "stream",
     "text": [
      "Number of features: 38\n",
      "Generating probability scores...\n",
      "\n",
      "Probability score statistics:\n",
      "count    121838.000000\n",
      "mean          0.236160\n",
      "std           0.220642\n",
      "min           0.021844\n",
      "25%           0.079872\n",
      "50%           0.152300\n",
      "75%           0.315383\n",
      "max           0.948544\n",
      "Name: probability_score, dtype: float64\n",
      "\n",
      "Probability for the sites:\n",
      "     transcript_id  transcript_position  probability_score\n",
      "0  ENST00000000233                  244           0.067577\n",
      "1  ENST00000000233                  261           0.340611\n",
      "2  ENST00000000233                  316           0.049840\n",
      "3  ENST00000000233                  332           0.304070\n",
      "4  ENST00000000233                  368           0.153587\n"
     ]
    }
   ],
   "source": [
    "# 1. Your encoded dataframe\n",
    "# full_df\n",
    "\n",
    "# 2. Define feature columns (exclude identifiers)\n",
    "identifier_cols = ['transcript_id', 'transcript_position', 'sequence', \n",
    "                   'label', 'gene_id', 'site_id']\n",
    "feature_columns = [col for col in full_df.columns if col not in identifier_cols]\n",
    "\n",
    "print(f\"Number of features: {len(feature_columns)}\")\n",
    "\n",
    "# 3. Extract features for prediction\n",
    "X_pred = full_df[feature_columns]\n",
    "\n",
    "# 4. Get probability scores\n",
    "print(\"Generating probability scores...\")\n",
    "prob_scores = ensemble_model.predict_proba(X_pred)[:, 1]\n",
    "\n",
    "# 5. Add probability scores to dataframe\n",
    "full_df['probability_score'] = prob_scores\n",
    "\n",
    "# 6. View results\n",
    "print(f\"\\nProbability score statistics:\")\n",
    "print(full_df['probability_score'].describe())\n",
    "\n",
    "print(f\"\\nProbability for the sites:\")\n",
    "top_sites = full_df[\n",
    "    ['transcript_id', 'transcript_position', 'probability_score']\n",
    "].head()\n",
    "print(top_sites)"
   ]
  },
  {
   "cell_type": "code",
   "execution_count": 108,
   "id": "a287574a-ef25-4182-8533-ef5da9d70edb",
   "metadata": {},
   "outputs": [
    {
     "name": "stdout",
     "output_type": "stream",
     "text": [
      "✓ Saved 121838 predictions to 'dataset0_predictions_ensm.csv'\n"
     ]
    }
   ],
   "source": [
    "full_df[\n",
    "    ['transcript_id', 'transcript_position', 'probability_score']\n",
    "].to_csv('../predictions/dataset0_predictions_ensm.csv', index=False)\n",
    "print(f\"✓ Saved {len(full_df)} predictions to 'dataset0_predictions_ensm.csv'\")"
   ]
  },
  {
   "cell_type": "code",
   "execution_count": 109,
   "id": "3df8b5ce-b70a-4383-a276-34459b6fa4f6",
   "metadata": {},
   "outputs": [
    {
     "name": "stdout",
     "output_type": "stream",
     "text": [
      "✓ Saved 90810 predictions to 'dataset1_predictions_ensm.csv'\n"
     ]
    }
   ],
   "source": [
    "encoded_one[\n",
    "    ['transcript_id', 'transcript_position', 'probability_score']\n",
    "].to_csv('../predictions/dataset1_predictions_ensm.csv', index=False)\n",
    "print(f\"✓ Saved {len(encoded_one)} predictions to 'dataset1_predictions_ensm.csv'\")"
   ]
  },
  {
   "cell_type": "code",
   "execution_count": 110,
   "id": "87c7e8cc-7f12-4add-8e5e-624a0d8709a9",
   "metadata": {},
   "outputs": [
    {
     "name": "stdout",
     "output_type": "stream",
     "text": [
      "✓ Saved 1323 predictions to 'dataset2_predictions_ensm.csv'\n"
     ]
    }
   ],
   "source": [
    "encoded_two[\n",
    "    ['transcript_id', 'transcript_position', 'probability_score']\n",
    "].to_csv('../predictions/dataset2_predictions_ensm.csv', index=False)\n",
    "print(f\"✓ Saved {len(encoded_two)} predictions to 'dataset2_predictions_ensm.csv'\")"
   ]
  },
  {
   "cell_type": "code",
   "execution_count": null,
   "id": "4c6be873-1c56-4f06-bbea-0f60d08b095c",
   "metadata": {},
   "outputs": [],
   "source": []
  },
  {
   "cell_type": "code",
   "execution_count": null,
   "id": "0296a80f-40e0-4f66-b8ec-c24cfc0316be",
   "metadata": {},
   "outputs": [],
   "source": []
  },
  {
   "cell_type": "code",
   "execution_count": null,
   "id": "ed0e7c54-be5e-43aa-9406-c3c1baaf049e",
   "metadata": {},
   "outputs": [],
   "source": []
  }
 ],
 "metadata": {
  "kernelspec": {
   "display_name": "Python 3 (ipykernel)",
   "language": "python",
   "name": "python3"
  },
  "language_info": {
   "codemirror_mode": {
    "name": "ipython",
    "version": 3
   },
   "file_extension": ".py",
   "mimetype": "text/x-python",
   "name": "python",
   "nbconvert_exporter": "python",
   "pygments_lexer": "ipython3",
   "version": "3.13.5"
  }
 },
 "nbformat": 4,
 "nbformat_minor": 5
}
