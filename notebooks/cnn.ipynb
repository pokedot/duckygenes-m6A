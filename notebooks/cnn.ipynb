{
 "cells": [
  {
   "cell_type": "code",
   "execution_count": null,
   "id": "f18fc4b9",
   "metadata": {},
   "outputs": [],
   "source": [
    "import gzip\n",
    "import json\n",
    "import matplotlib.pyplot as plt\n",
    "import numpy as np\n",
    "import pandas as pd\n",
    "\n",
    "from sklearn.metrics import classification_report, confusion_matrix\n",
    "from sklearn.preprocessing import StandardScaler\n",
    "from sklearn.utils.class_weight import compute_class_weight\n",
    "\n",
    "from tensorflow import keras"
   ]
  },
  {
   "cell_type": "markdown",
   "id": "ae30361a",
   "metadata": {},
   "source": [
    "# 1. Read the Dataset"
   ]
  },
  {
   "cell_type": "code",
   "execution_count": null,
   "id": "e153b422",
   "metadata": {},
   "outputs": [
    {
     "data": {
      "text/html": [
       "<div>\n",
       "<style scoped>\n",
       "    .dataframe tbody tr th:only-of-type {\n",
       "        vertical-align: middle;\n",
       "    }\n",
       "\n",
       "    .dataframe tbody tr th {\n",
       "        vertical-align: top;\n",
       "    }\n",
       "\n",
       "    .dataframe thead th {\n",
       "        text-align: right;\n",
       "    }\n",
       "</style>\n",
       "<table border=\"1\" class=\"dataframe\">\n",
       "  <thead>\n",
       "    <tr style=\"text-align: right;\">\n",
       "      <th></th>\n",
       "      <th>gene_id</th>\n",
       "      <th>transcript_id</th>\n",
       "      <th>transcript_position</th>\n",
       "      <th>label</th>\n",
       "    </tr>\n",
       "  </thead>\n",
       "  <tbody>\n",
       "    <tr>\n",
       "      <th>0</th>\n",
       "      <td>ENSG00000004059</td>\n",
       "      <td>ENST00000000233</td>\n",
       "      <td>244</td>\n",
       "      <td>0</td>\n",
       "    </tr>\n",
       "    <tr>\n",
       "      <th>1</th>\n",
       "      <td>ENSG00000004059</td>\n",
       "      <td>ENST00000000233</td>\n",
       "      <td>261</td>\n",
       "      <td>0</td>\n",
       "    </tr>\n",
       "    <tr>\n",
       "      <th>2</th>\n",
       "      <td>ENSG00000004059</td>\n",
       "      <td>ENST00000000233</td>\n",
       "      <td>316</td>\n",
       "      <td>0</td>\n",
       "    </tr>\n",
       "    <tr>\n",
       "      <th>3</th>\n",
       "      <td>ENSG00000004059</td>\n",
       "      <td>ENST00000000233</td>\n",
       "      <td>332</td>\n",
       "      <td>0</td>\n",
       "    </tr>\n",
       "    <tr>\n",
       "      <th>4</th>\n",
       "      <td>ENSG00000004059</td>\n",
       "      <td>ENST00000000233</td>\n",
       "      <td>368</td>\n",
       "      <td>0</td>\n",
       "    </tr>\n",
       "  </tbody>\n",
       "</table>\n",
       "</div>"
      ],
      "text/plain": [
       "           gene_id    transcript_id  transcript_position  label\n",
       "0  ENSG00000004059  ENST00000000233                  244      0\n",
       "1  ENSG00000004059  ENST00000000233                  261      0\n",
       "2  ENSG00000004059  ENST00000000233                  316      0\n",
       "3  ENSG00000004059  ENST00000000233                  332      0\n",
       "4  ENSG00000004059  ENST00000000233                  368      0"
      ]
     },
     "execution_count": 30,
     "metadata": {},
     "output_type": "execute_result"
    }
   ],
   "source": [
    "# Read the labels\n",
    "labels = pd.read_csv(\"../data/data.info.labelled\", sep=',')\n",
    "labels.head()"
   ]
  },
  {
   "cell_type": "code",
   "execution_count": null,
   "id": "1112ad8a",
   "metadata": {},
   "outputs": [
    {
     "data": {
      "text/html": [
       "<div>\n",
       "<style scoped>\n",
       "    .dataframe tbody tr th:only-of-type {\n",
       "        vertical-align: middle;\n",
       "    }\n",
       "\n",
       "    .dataframe tbody tr th {\n",
       "        vertical-align: top;\n",
       "    }\n",
       "\n",
       "    .dataframe thead th {\n",
       "        text-align: right;\n",
       "    }\n",
       "</style>\n",
       "<table border=\"1\" class=\"dataframe\">\n",
       "  <thead>\n",
       "    <tr style=\"text-align: right;\">\n",
       "      <th></th>\n",
       "      <th>gene_id</th>\n",
       "      <th>transcript_id</th>\n",
       "      <th>transcript_position</th>\n",
       "      <th>sequence</th>\n",
       "      <th>dwell_-1</th>\n",
       "      <th>std_-1</th>\n",
       "      <th>mean_-1</th>\n",
       "      <th>dwell_0</th>\n",
       "      <th>std_0</th>\n",
       "      <th>mean_0</th>\n",
       "      <th>dwell_+1</th>\n",
       "      <th>std_+1</th>\n",
       "      <th>mean_+1</th>\n",
       "    </tr>\n",
       "  </thead>\n",
       "  <tbody>\n",
       "    <tr>\n",
       "      <th>0</th>\n",
       "      <td>ENSG00000004059</td>\n",
       "      <td>ENST00000000233</td>\n",
       "      <td>244</td>\n",
       "      <td>AAGACCA</td>\n",
       "      <td>0.00299</td>\n",
       "      <td>2.06</td>\n",
       "      <td>125.0</td>\n",
       "      <td>0.01770</td>\n",
       "      <td>10.40</td>\n",
       "      <td>122.0</td>\n",
       "      <td>0.00930</td>\n",
       "      <td>10.90</td>\n",
       "      <td>84.1</td>\n",
       "    </tr>\n",
       "    <tr>\n",
       "      <th>1</th>\n",
       "      <td>ENSG00000004059</td>\n",
       "      <td>ENST00000000233</td>\n",
       "      <td>244</td>\n",
       "      <td>AAGACCA</td>\n",
       "      <td>0.00631</td>\n",
       "      <td>2.53</td>\n",
       "      <td>125.0</td>\n",
       "      <td>0.00844</td>\n",
       "      <td>4.67</td>\n",
       "      <td>126.0</td>\n",
       "      <td>0.01030</td>\n",
       "      <td>6.30</td>\n",
       "      <td>80.9</td>\n",
       "    </tr>\n",
       "    <tr>\n",
       "      <th>2</th>\n",
       "      <td>ENSG00000004059</td>\n",
       "      <td>ENST00000000233</td>\n",
       "      <td>244</td>\n",
       "      <td>AAGACCA</td>\n",
       "      <td>0.00465</td>\n",
       "      <td>3.92</td>\n",
       "      <td>109.0</td>\n",
       "      <td>0.01360</td>\n",
       "      <td>12.00</td>\n",
       "      <td>124.0</td>\n",
       "      <td>0.00498</td>\n",
       "      <td>2.13</td>\n",
       "      <td>79.6</td>\n",
       "    </tr>\n",
       "    <tr>\n",
       "      <th>3</th>\n",
       "      <td>ENSG00000004059</td>\n",
       "      <td>ENST00000000233</td>\n",
       "      <td>244</td>\n",
       "      <td>AAGACCA</td>\n",
       "      <td>0.00398</td>\n",
       "      <td>2.06</td>\n",
       "      <td>125.0</td>\n",
       "      <td>0.00830</td>\n",
       "      <td>5.01</td>\n",
       "      <td>130.0</td>\n",
       "      <td>0.00498</td>\n",
       "      <td>3.78</td>\n",
       "      <td>80.4</td>\n",
       "    </tr>\n",
       "    <tr>\n",
       "      <th>4</th>\n",
       "      <td>ENSG00000004059</td>\n",
       "      <td>ENST00000000233</td>\n",
       "      <td>244</td>\n",
       "      <td>AAGACCA</td>\n",
       "      <td>0.00664</td>\n",
       "      <td>2.92</td>\n",
       "      <td>120.0</td>\n",
       "      <td>0.00266</td>\n",
       "      <td>3.94</td>\n",
       "      <td>129.0</td>\n",
       "      <td>0.01300</td>\n",
       "      <td>7.15</td>\n",
       "      <td>82.2</td>\n",
       "    </tr>\n",
       "  </tbody>\n",
       "</table>\n",
       "</div>"
      ],
      "text/plain": [
       "           gene_id    transcript_id  transcript_position sequence  dwell_-1  \\\n",
       "0  ENSG00000004059  ENST00000000233                  244  AAGACCA   0.00299   \n",
       "1  ENSG00000004059  ENST00000000233                  244  AAGACCA   0.00631   \n",
       "2  ENSG00000004059  ENST00000000233                  244  AAGACCA   0.00465   \n",
       "3  ENSG00000004059  ENST00000000233                  244  AAGACCA   0.00398   \n",
       "4  ENSG00000004059  ENST00000000233                  244  AAGACCA   0.00664   \n",
       "\n",
       "   std_-1  mean_-1  dwell_0  std_0  mean_0  dwell_+1  std_+1  mean_+1  \n",
       "0    2.06    125.0  0.01770  10.40   122.0   0.00930   10.90     84.1  \n",
       "1    2.53    125.0  0.00844   4.67   126.0   0.01030    6.30     80.9  \n",
       "2    3.92    109.0  0.01360  12.00   124.0   0.00498    2.13     79.6  \n",
       "3    2.06    125.0  0.00830   5.01   130.0   0.00498    3.78     80.4  \n",
       "4    2.92    120.0  0.00266   3.94   129.0   0.01300    7.15     82.2  "
      ]
     },
     "execution_count": 31,
     "metadata": {},
     "output_type": "execute_result"
    }
   ],
   "source": [
    "# Read the data (as df)\n",
    "file_path = \"../data/dataset0.json.gz\"\n",
    "rows = []\n",
    "\n",
    "with gzip.open(file_path, 'rt', encoding='utf-8') as f:\n",
    "    for line in f:\n",
    "        data = json.loads(line)\n",
    "        for transcript_id, positions in data.items():\n",
    "            for transcript_position, sequences in positions.items():\n",
    "                for sequence, feature_list in sequences.items():\n",
    "                    for features in feature_list:\n",
    "                        row = {\n",
    "                            'transcript_id': transcript_id,\n",
    "                            'transcript_position': int(transcript_position),\n",
    "                            'sequence': sequence,\n",
    "                            'dwell_-1': features[0],\n",
    "                            'std_-1': features[1],\n",
    "                            'mean_-1': features[2],\n",
    "                            'dwell_0': features[3],\n",
    "                            'std_0': features[4],\n",
    "                            'mean_0': features[5],\n",
    "                            'dwell_+1': features[6],\n",
    "                            'std_+1': features[7],\n",
    "                            'mean_+1': features[8],\n",
    "                        }\n",
    "                        rows.append(row)\n",
    "\n",
    "df = pd.DataFrame(rows)\n",
    "\n",
    "# Add gene_id from labels to df\n",
    "df = pd.merge(df, labels, on=['transcript_id', 'transcript_position'], how='left')\n",
    "df = df.drop(columns=['label'])\n",
    "df = df.iloc[:, [12, 0, 1, 2, 3, 4, 5, 6, 7, 8, 9, 10, 11]]\n",
    "df.head()"
   ]
  },
  {
   "cell_type": "code",
   "execution_count": 32,
   "id": "0746f64a",
   "metadata": {},
   "outputs": [
    {
     "name": "stdout",
     "output_type": "stream",
     "text": [
      "Total number of rows in dataset: 11027106\n",
      "\n",
      "Unique (transcript_id, transcript_position) combinations: 967\n",
      "\n",
      "Unique (transcript_id, transcript_position) combinations: 967\n",
      "\n",
      "Reads per position statistics:\n",
      "Mean: 90.51\n",
      "Median: 47.00\n",
      "Min: 20\n",
      "Max: 991\n",
      "Std: 137.33\n",
      "\n",
      "Example of multiple reads for same position:\n",
      "\n",
      "Reads per position statistics:\n",
      "Mean: 90.51\n",
      "Median: 47.00\n",
      "Min: 20\n",
      "Max: 991\n",
      "Std: 137.33\n",
      "\n",
      "Example of multiple reads for same position:\n",
      "           transcript_id  transcript_position sequence  dwell_0  std_0  mean_0\n",
      "2376782  ENST00000278572                  559  TTAACTA  0.00266   0.95    93.7\n",
      "2376783  ENST00000278572                  559  TTAACTA  0.00512   2.42    98.2\n",
      "2376784  ENST00000278572                  559  TTAACTA  0.01100   3.00    97.1\n",
      "2376785  ENST00000278572                  559  TTAACTA  0.00796   2.56    97.3\n",
      "2376786  ENST00000278572                  559  TTAACTA  0.00398   3.29   102.0\n",
      "2376787  ENST00000278572                  559  TTAACTA  0.01130   3.38    98.0\n",
      "2376788  ENST00000278572                  559  TTAACTA  0.01760   2.11    97.5\n",
      "2376789  ENST00000278572                  559  TTAACTA  0.00624   2.18    98.7\n",
      "2376790  ENST00000278572                  559  TTAACTA  0.01260   2.53    99.2\n",
      "2376791  ENST00000278572                  559  TTAACTA  0.00642   1.86    98.0\n",
      "           transcript_id  transcript_position sequence  dwell_0  std_0  mean_0\n",
      "2376782  ENST00000278572                  559  TTAACTA  0.00266   0.95    93.7\n",
      "2376783  ENST00000278572                  559  TTAACTA  0.00512   2.42    98.2\n",
      "2376784  ENST00000278572                  559  TTAACTA  0.01100   3.00    97.1\n",
      "2376785  ENST00000278572                  559  TTAACTA  0.00796   2.56    97.3\n",
      "2376786  ENST00000278572                  559  TTAACTA  0.00398   3.29   102.0\n",
      "2376787  ENST00000278572                  559  TTAACTA  0.01130   3.38    98.0\n",
      "2376788  ENST00000278572                  559  TTAACTA  0.01760   2.11    97.5\n",
      "2376789  ENST00000278572                  559  TTAACTA  0.00624   2.18    98.7\n",
      "2376790  ENST00000278572                  559  TTAACTA  0.01260   2.53    99.2\n",
      "2376791  ENST00000278572                  559  TTAACTA  0.00642   1.86    98.0\n"
     ]
    }
   ],
   "source": [
    "# Analyse the structure of reads\n",
    "print(\"Total number of rows in dataset:\", len(df))\n",
    "print(\"\\nUnique (transcript_id, transcript_position) combinations:\", \n",
    "      df.groupby(['transcript_id', 'transcript_position']).size().nunique())\n",
    "\n",
    "# Check how many reads per position\n",
    "reads_per_position = df.groupby(['transcript_id', 'transcript_position']).size()\n",
    "print(f\"\\nReads per position statistics:\")\n",
    "print(f\"Mean: {reads_per_position.mean():.2f}\")\n",
    "print(f\"Median: {reads_per_position.median():.2f}\")\n",
    "print(f\"Min: {reads_per_position.min()}\")\n",
    "print(f\"Max: {reads_per_position.max()}\")\n",
    "print(f\"Std: {reads_per_position.std():.2f}\")\n",
    "\n",
    "# Show examples of multiple reads for same position\n",
    "print(f\"\\nExample of multiple reads for same position:\")\n",
    "example_group = df.groupby(['transcript_id', 'transcript_position']).get_group(\n",
    "    df.groupby(['transcript_id', 'transcript_position']).size().idxmax()\n",
    ")\n",
    "print(example_group[['transcript_id', 'transcript_position', 'sequence', 'dwell_0', 'std_0', 'mean_0']].head(10))"
   ]
  },
  {
   "cell_type": "markdown",
   "id": "6b69e1bd",
   "metadata": {},
   "source": [
    "# 2. Feature Extraction"
   ]
  },
  {
   "cell_type": "code",
   "execution_count": 33,
   "id": "9883b396",
   "metadata": {},
   "outputs": [
    {
     "name": "stdout",
     "output_type": "stream",
     "text": [
      "Creating aggregated features for CNN...\n",
      "CNN feature matrix shape: (121838, 82)\n",
      "Features per position: 82\n",
      "\n",
      "Feature categories created:\n",
      "- 9 original features x 9 statistics = 81 aggregated features\n",
      "- Plus read_count = 82 total features\n",
      "\n",
      "First few feature names:\n",
      "['dwell_-1_mean', 'dwell_-1_median', 'dwell_-1_std', 'dwell_-1_iqr', 'dwell_-1_skew', 'dwell_-1_min', 'dwell_-1_max', 'dwell_-1_q25', 'dwell_-1_q75', 'std_-1_mean', 'std_-1_median', 'std_-1_std', 'std_-1_iqr', 'std_-1_skew', 'std_-1_min']\n",
      "CNN feature matrix shape: (121838, 82)\n",
      "Features per position: 82\n",
      "\n",
      "Feature categories created:\n",
      "- 9 original features x 9 statistics = 81 aggregated features\n",
      "- Plus read_count = 82 total features\n",
      "\n",
      "First few feature names:\n",
      "['dwell_-1_mean', 'dwell_-1_median', 'dwell_-1_std', 'dwell_-1_iqr', 'dwell_-1_skew', 'dwell_-1_min', 'dwell_-1_max', 'dwell_-1_q25', 'dwell_-1_q75', 'std_-1_mean', 'std_-1_median', 'std_-1_std', 'std_-1_iqr', 'std_-1_skew', 'std_-1_min']\n"
     ]
    }
   ],
   "source": [
    "# Create aggregated features dataset for CNN\n",
    "def create_cnn_features(group):\n",
    "    \"\"\"Create aggregated features for each (transcript_id, transcript_position)\"\"\"\n",
    "    features = {}\n",
    "    feature_cols = ['dwell_-1', 'std_-1', 'mean_-1', 'dwell_0', 'std_0', 'mean_0', 'dwell_+1', 'std_+1', 'mean_+1']\n",
    "    \n",
    "    for col in feature_cols:\n",
    "        # Central tendency\n",
    "        features[f'{col}_mean'] = group[col].mean()\n",
    "        features[f'{col}_median'] = group[col].median()\n",
    "        \n",
    "        # Variability\n",
    "        features[f'{col}_std'] = group[col].std()\n",
    "        features[f'{col}_iqr'] = group[col].quantile(0.75) - group[col].quantile(0.25)\n",
    "        \n",
    "        # Distribution shape\n",
    "        features[f'{col}_skew'] = group[col].skew()\n",
    "        features[f'{col}_min'] = group[col].min()\n",
    "        features[f'{col}_max'] = group[col].max()\n",
    "        \n",
    "        # Robust statistics\n",
    "        features[f'{col}_q25'] = group[col].quantile(0.25)\n",
    "        features[f'{col}_q75'] = group[col].quantile(0.75)\n",
    "    \n",
    "    # Add read count as a feature (coverage information)\n",
    "    features['read_count'] = len(group)\n",
    "    \n",
    "    return pd.Series(features)\n",
    "\n",
    "print(\"Creating aggregated features for CNN...\")\n",
    "cnn_features = df.groupby(['transcript_id', 'transcript_position']).apply(create_cnn_features, include_groups=False)\n",
    "print(f\"CNN feature matrix shape: {cnn_features.shape}\")\n",
    "print(f\"Features per position: {cnn_features.shape[1]}\")\n",
    "\n",
    "# Show feature names\n",
    "print(f\"\\nFeature categories created:\")\n",
    "print(f\"- 9 original features x 9 statistics = {9*9} aggregated features\")\n",
    "print(f\"- Plus read_count = {9*9 + 1} total features\")\n",
    "print(f\"\\nFirst few feature names:\")\n",
    "print(list(cnn_features.columns[:15]))"
   ]
  },
  {
   "cell_type": "markdown",
   "id": "f9dcce84",
   "metadata": {},
   "source": [
    "# 3. Implement CNN"
   ]
  },
  {
   "cell_type": "code",
   "execution_count": 34,
   "id": "3fec9156",
   "metadata": {},
   "outputs": [
    {
     "name": "stdout",
     "output_type": "stream",
     "text": [
      "Streamlined data shapes:\n",
      "X_train: (98270, 3, 27), y_train: (98270,)\n",
      "X_test: (23568, 3, 27), y_test: (23568,)\n",
      "Training class distribution: [93803  4467]\n",
      "Test class distribution: [22560  1008]\n"
     ]
    }
   ],
   "source": [
    "# Reshape and rescale features and create train/test split\n",
    "def prepare_cnn_data(features_df, labels_df, gene_train_ids):\n",
    "    \"\"\"Streamlined data preparation without redundant steps\"\"\"\n",
    "    \n",
    "    # Reshape features to (N, 3, 27) - exclude read_count\n",
    "    feature_matrix = features_df.iloc[:, :-1].values.reshape(-1, 3, 27)\n",
    "    \n",
    "    # Get labels aligned with features\n",
    "    y = labels_df.set_index(['transcript_id', 'transcript_position']).loc[features_df.index]['label'].values\n",
    "    gene_mapping = labels_df.set_index(['transcript_id', 'transcript_position']).loc[features_df.index]['gene_id'].values\n",
    "    \n",
    "    # Single train/test split\n",
    "    train_mask = np.isin(gene_mapping, gene_train_ids)\n",
    "    \n",
    "    X_train, X_test = feature_matrix[train_mask], feature_matrix[~train_mask]\n",
    "    y_train, y_test = y[train_mask], y[~train_mask]\n",
    "    \n",
    "    # Scale features\n",
    "    scaler = StandardScaler()\n",
    "    \n",
    "    # Fit on training data: reshape, scale, reshape back\n",
    "    X_train_scaled = scaler.fit_transform(X_train.reshape(-1, 27)).reshape(X_train.shape)\n",
    "    X_test_scaled = scaler.transform(X_test.reshape(-1, 27)).reshape(X_test.shape)\n",
    "    \n",
    "    return X_train_scaled, X_test_scaled, y_train, y_test, train_mask\n",
    "\n",
    "# Split into 80-20 train-test based on gene_id\n",
    "gene_ids = labels['gene_id'].unique()\n",
    "training_n = int(0.8 * len(gene_ids))\n",
    "gene_train = np.random.choice(gene_ids, size=training_n, replace=False)\n",
    "X_train, X_test, y_train, y_test, train_mask = prepare_cnn_data(\n",
    "    cnn_features, labels, gene_train\n",
    ")\n",
    "test_mask = ~train_mask\n",
    "\n",
    "print(f\"Streamlined data shapes:\")\n",
    "print(f\"X_train: {X_train.shape}, y_train: {y_train.shape}\")\n",
    "print(f\"X_test: {X_test.shape}, y_test: {y_test.shape}\")\n",
    "print(f\"Training class distribution: {np.bincount(y_train)}\")\n",
    "print(f\"Test class distribution: {np.bincount(y_test)}\")"
   ]
  },
  {
   "cell_type": "code",
   "execution_count": 35,
   "id": "904f97ca",
   "metadata": {},
   "outputs": [
    {
     "name": "stdout",
     "output_type": "stream",
     "text": [
      "Class weights: {0: np.float64(0.5238105391085573), 1: np.float64(10.99955227221849)}\n"
     ]
    }
   ],
   "source": [
    "# Calculate class weights for imbalanced dataset\n",
    "class_weights = compute_class_weight('balanced', classes=np.unique(y_train), y=y_train)\n",
    "class_weight_dict = {0: class_weights[0], 1: class_weights[1]}\n",
    "print(f\"Class weights: {class_weight_dict}\")"
   ]
  },
  {
   "cell_type": "code",
   "execution_count": 36,
   "id": "342aca29",
   "metadata": {},
   "outputs": [
    {
     "data": {
      "text/html": [
       "<pre style=\"white-space:pre;overflow-x:auto;line-height:normal;font-family:Menlo,'DejaVu Sans Mono',consolas,'Courier New',monospace\"><span style=\"font-weight: bold\">Model: \"sequential_1\"</span>\n",
       "</pre>\n"
      ],
      "text/plain": [
       "\u001b[1mModel: \"sequential_1\"\u001b[0m\n"
      ]
     },
     "metadata": {},
     "output_type": "display_data"
    },
    {
     "data": {
      "text/html": [
       "<pre style=\"white-space:pre;overflow-x:auto;line-height:normal;font-family:Menlo,'DejaVu Sans Mono',consolas,'Courier New',monospace\">┏━━━━━━━━━━━━━━━━━━━━━━━━━━━━━━━━━┳━━━━━━━━━━━━━━━━━━━━━━━━┳━━━━━━━━━━━━━━━┓\n",
       "┃<span style=\"font-weight: bold\"> Layer (type)                    </span>┃<span style=\"font-weight: bold\"> Output Shape           </span>┃<span style=\"font-weight: bold\">       Param # </span>┃\n",
       "┡━━━━━━━━━━━━━━━━━━━━━━━━━━━━━━━━━╇━━━━━━━━━━━━━━━━━━━━━━━━╇━━━━━━━━━━━━━━━┩\n",
       "│ conv1d_features (<span style=\"color: #0087ff; text-decoration-color: #0087ff\">Conv1D</span>)        │ (<span style=\"color: #00d7ff; text-decoration-color: #00d7ff\">None</span>, <span style=\"color: #00af00; text-decoration-color: #00af00\">3</span>, <span style=\"color: #00af00; text-decoration-color: #00af00\">64</span>)          │         <span style=\"color: #00af00; text-decoration-color: #00af00\">5,248</span> │\n",
       "├─────────────────────────────────┼────────────────────────┼───────────────┤\n",
       "│ batch_normalization_3           │ (<span style=\"color: #00d7ff; text-decoration-color: #00d7ff\">None</span>, <span style=\"color: #00af00; text-decoration-color: #00af00\">3</span>, <span style=\"color: #00af00; text-decoration-color: #00af00\">64</span>)          │           <span style=\"color: #00af00; text-decoration-color: #00af00\">256</span> │\n",
       "│ (<span style=\"color: #0087ff; text-decoration-color: #0087ff\">BatchNormalization</span>)            │                        │               │\n",
       "├─────────────────────────────────┼────────────────────────┼───────────────┤\n",
       "│ dropout_4 (<span style=\"color: #0087ff; text-decoration-color: #0087ff\">Dropout</span>)             │ (<span style=\"color: #00d7ff; text-decoration-color: #00d7ff\">None</span>, <span style=\"color: #00af00; text-decoration-color: #00af00\">3</span>, <span style=\"color: #00af00; text-decoration-color: #00af00\">64</span>)          │             <span style=\"color: #00af00; text-decoration-color: #00af00\">0</span> │\n",
       "├─────────────────────────────────┼────────────────────────┼───────────────┤\n",
       "│ conv1d_patterns (<span style=\"color: #0087ff; text-decoration-color: #0087ff\">Conv1D</span>)        │ (<span style=\"color: #00d7ff; text-decoration-color: #00d7ff\">None</span>, <span style=\"color: #00af00; text-decoration-color: #00af00\">3</span>, <span style=\"color: #00af00; text-decoration-color: #00af00\">32</span>)          │         <span style=\"color: #00af00; text-decoration-color: #00af00\">6,176</span> │\n",
       "├─────────────────────────────────┼────────────────────────┼───────────────┤\n",
       "│ batch_normalization_4           │ (<span style=\"color: #00d7ff; text-decoration-color: #00d7ff\">None</span>, <span style=\"color: #00af00; text-decoration-color: #00af00\">3</span>, <span style=\"color: #00af00; text-decoration-color: #00af00\">32</span>)          │           <span style=\"color: #00af00; text-decoration-color: #00af00\">128</span> │\n",
       "│ (<span style=\"color: #0087ff; text-decoration-color: #0087ff\">BatchNormalization</span>)            │                        │               │\n",
       "├─────────────────────────────────┼────────────────────────┼───────────────┤\n",
       "│ dropout_5 (<span style=\"color: #0087ff; text-decoration-color: #0087ff\">Dropout</span>)             │ (<span style=\"color: #00d7ff; text-decoration-color: #00d7ff\">None</span>, <span style=\"color: #00af00; text-decoration-color: #00af00\">3</span>, <span style=\"color: #00af00; text-decoration-color: #00af00\">32</span>)          │             <span style=\"color: #00af00; text-decoration-color: #00af00\">0</span> │\n",
       "├─────────────────────────────────┼────────────────────────┼───────────────┤\n",
       "│ global_max_pooling1d_1          │ (<span style=\"color: #00d7ff; text-decoration-color: #00d7ff\">None</span>, <span style=\"color: #00af00; text-decoration-color: #00af00\">32</span>)             │             <span style=\"color: #00af00; text-decoration-color: #00af00\">0</span> │\n",
       "│ (<span style=\"color: #0087ff; text-decoration-color: #0087ff\">GlobalMaxPooling1D</span>)            │                        │               │\n",
       "├─────────────────────────────────┼────────────────────────┼───────────────┤\n",
       "│ dense_2 (<span style=\"color: #0087ff; text-decoration-color: #0087ff\">Dense</span>)                 │ (<span style=\"color: #00d7ff; text-decoration-color: #00d7ff\">None</span>, <span style=\"color: #00af00; text-decoration-color: #00af00\">64</span>)             │         <span style=\"color: #00af00; text-decoration-color: #00af00\">2,112</span> │\n",
       "├─────────────────────────────────┼────────────────────────┼───────────────┤\n",
       "│ batch_normalization_5           │ (<span style=\"color: #00d7ff; text-decoration-color: #00d7ff\">None</span>, <span style=\"color: #00af00; text-decoration-color: #00af00\">64</span>)             │           <span style=\"color: #00af00; text-decoration-color: #00af00\">256</span> │\n",
       "│ (<span style=\"color: #0087ff; text-decoration-color: #0087ff\">BatchNormalization</span>)            │                        │               │\n",
       "├─────────────────────────────────┼────────────────────────┼───────────────┤\n",
       "│ dropout_6 (<span style=\"color: #0087ff; text-decoration-color: #0087ff\">Dropout</span>)             │ (<span style=\"color: #00d7ff; text-decoration-color: #00d7ff\">None</span>, <span style=\"color: #00af00; text-decoration-color: #00af00\">64</span>)             │             <span style=\"color: #00af00; text-decoration-color: #00af00\">0</span> │\n",
       "├─────────────────────────────────┼────────────────────────┼───────────────┤\n",
       "│ dense_3 (<span style=\"color: #0087ff; text-decoration-color: #0087ff\">Dense</span>)                 │ (<span style=\"color: #00d7ff; text-decoration-color: #00d7ff\">None</span>, <span style=\"color: #00af00; text-decoration-color: #00af00\">32</span>)             │         <span style=\"color: #00af00; text-decoration-color: #00af00\">2,080</span> │\n",
       "├─────────────────────────────────┼────────────────────────┼───────────────┤\n",
       "│ dropout_7 (<span style=\"color: #0087ff; text-decoration-color: #0087ff\">Dropout</span>)             │ (<span style=\"color: #00d7ff; text-decoration-color: #00d7ff\">None</span>, <span style=\"color: #00af00; text-decoration-color: #00af00\">32</span>)             │             <span style=\"color: #00af00; text-decoration-color: #00af00\">0</span> │\n",
       "├─────────────────────────────────┼────────────────────────┼───────────────┤\n",
       "│ output (<span style=\"color: #0087ff; text-decoration-color: #0087ff\">Dense</span>)                  │ (<span style=\"color: #00d7ff; text-decoration-color: #00d7ff\">None</span>, <span style=\"color: #00af00; text-decoration-color: #00af00\">1</span>)              │            <span style=\"color: #00af00; text-decoration-color: #00af00\">33</span> │\n",
       "└─────────────────────────────────┴────────────────────────┴───────────────┘\n",
       "</pre>\n"
      ],
      "text/plain": [
       "┏━━━━━━━━━━━━━━━━━━━━━━━━━━━━━━━━━┳━━━━━━━━━━━━━━━━━━━━━━━━┳━━━━━━━━━━━━━━━┓\n",
       "┃\u001b[1m \u001b[0m\u001b[1mLayer (type)                   \u001b[0m\u001b[1m \u001b[0m┃\u001b[1m \u001b[0m\u001b[1mOutput Shape          \u001b[0m\u001b[1m \u001b[0m┃\u001b[1m \u001b[0m\u001b[1m      Param #\u001b[0m\u001b[1m \u001b[0m┃\n",
       "┡━━━━━━━━━━━━━━━━━━━━━━━━━━━━━━━━━╇━━━━━━━━━━━━━━━━━━━━━━━━╇━━━━━━━━━━━━━━━┩\n",
       "│ conv1d_features (\u001b[38;5;33mConv1D\u001b[0m)        │ (\u001b[38;5;45mNone\u001b[0m, \u001b[38;5;34m3\u001b[0m, \u001b[38;5;34m64\u001b[0m)          │         \u001b[38;5;34m5,248\u001b[0m │\n",
       "├─────────────────────────────────┼────────────────────────┼───────────────┤\n",
       "│ batch_normalization_3           │ (\u001b[38;5;45mNone\u001b[0m, \u001b[38;5;34m3\u001b[0m, \u001b[38;5;34m64\u001b[0m)          │           \u001b[38;5;34m256\u001b[0m │\n",
       "│ (\u001b[38;5;33mBatchNormalization\u001b[0m)            │                        │               │\n",
       "├─────────────────────────────────┼────────────────────────┼───────────────┤\n",
       "│ dropout_4 (\u001b[38;5;33mDropout\u001b[0m)             │ (\u001b[38;5;45mNone\u001b[0m, \u001b[38;5;34m3\u001b[0m, \u001b[38;5;34m64\u001b[0m)          │             \u001b[38;5;34m0\u001b[0m │\n",
       "├─────────────────────────────────┼────────────────────────┼───────────────┤\n",
       "│ conv1d_patterns (\u001b[38;5;33mConv1D\u001b[0m)        │ (\u001b[38;5;45mNone\u001b[0m, \u001b[38;5;34m3\u001b[0m, \u001b[38;5;34m32\u001b[0m)          │         \u001b[38;5;34m6,176\u001b[0m │\n",
       "├─────────────────────────────────┼────────────────────────┼───────────────┤\n",
       "│ batch_normalization_4           │ (\u001b[38;5;45mNone\u001b[0m, \u001b[38;5;34m3\u001b[0m, \u001b[38;5;34m32\u001b[0m)          │           \u001b[38;5;34m128\u001b[0m │\n",
       "│ (\u001b[38;5;33mBatchNormalization\u001b[0m)            │                        │               │\n",
       "├─────────────────────────────────┼────────────────────────┼───────────────┤\n",
       "│ dropout_5 (\u001b[38;5;33mDropout\u001b[0m)             │ (\u001b[38;5;45mNone\u001b[0m, \u001b[38;5;34m3\u001b[0m, \u001b[38;5;34m32\u001b[0m)          │             \u001b[38;5;34m0\u001b[0m │\n",
       "├─────────────────────────────────┼────────────────────────┼───────────────┤\n",
       "│ global_max_pooling1d_1          │ (\u001b[38;5;45mNone\u001b[0m, \u001b[38;5;34m32\u001b[0m)             │             \u001b[38;5;34m0\u001b[0m │\n",
       "│ (\u001b[38;5;33mGlobalMaxPooling1D\u001b[0m)            │                        │               │\n",
       "├─────────────────────────────────┼────────────────────────┼───────────────┤\n",
       "│ dense_2 (\u001b[38;5;33mDense\u001b[0m)                 │ (\u001b[38;5;45mNone\u001b[0m, \u001b[38;5;34m64\u001b[0m)             │         \u001b[38;5;34m2,112\u001b[0m │\n",
       "├─────────────────────────────────┼────────────────────────┼───────────────┤\n",
       "│ batch_normalization_5           │ (\u001b[38;5;45mNone\u001b[0m, \u001b[38;5;34m64\u001b[0m)             │           \u001b[38;5;34m256\u001b[0m │\n",
       "│ (\u001b[38;5;33mBatchNormalization\u001b[0m)            │                        │               │\n",
       "├─────────────────────────────────┼────────────────────────┼───────────────┤\n",
       "│ dropout_6 (\u001b[38;5;33mDropout\u001b[0m)             │ (\u001b[38;5;45mNone\u001b[0m, \u001b[38;5;34m64\u001b[0m)             │             \u001b[38;5;34m0\u001b[0m │\n",
       "├─────────────────────────────────┼────────────────────────┼───────────────┤\n",
       "│ dense_3 (\u001b[38;5;33mDense\u001b[0m)                 │ (\u001b[38;5;45mNone\u001b[0m, \u001b[38;5;34m32\u001b[0m)             │         \u001b[38;5;34m2,080\u001b[0m │\n",
       "├─────────────────────────────────┼────────────────────────┼───────────────┤\n",
       "│ dropout_7 (\u001b[38;5;33mDropout\u001b[0m)             │ (\u001b[38;5;45mNone\u001b[0m, \u001b[38;5;34m32\u001b[0m)             │             \u001b[38;5;34m0\u001b[0m │\n",
       "├─────────────────────────────────┼────────────────────────┼───────────────┤\n",
       "│ output (\u001b[38;5;33mDense\u001b[0m)                  │ (\u001b[38;5;45mNone\u001b[0m, \u001b[38;5;34m1\u001b[0m)              │            \u001b[38;5;34m33\u001b[0m │\n",
       "└─────────────────────────────────┴────────────────────────┴───────────────┘\n"
      ]
     },
     "metadata": {},
     "output_type": "display_data"
    },
    {
     "data": {
      "text/html": [
       "<pre style=\"white-space:pre;overflow-x:auto;line-height:normal;font-family:Menlo,'DejaVu Sans Mono',consolas,'Courier New',monospace\"><span style=\"font-weight: bold\"> Total params: </span><span style=\"color: #00af00; text-decoration-color: #00af00\">16,289</span> (63.63 KB)\n",
       "</pre>\n"
      ],
      "text/plain": [
       "\u001b[1m Total params: \u001b[0m\u001b[38;5;34m16,289\u001b[0m (63.63 KB)\n"
      ]
     },
     "metadata": {},
     "output_type": "display_data"
    },
    {
     "data": {
      "text/html": [
       "<pre style=\"white-space:pre;overflow-x:auto;line-height:normal;font-family:Menlo,'DejaVu Sans Mono',consolas,'Courier New',monospace\"><span style=\"font-weight: bold\"> Trainable params: </span><span style=\"color: #00af00; text-decoration-color: #00af00\">15,969</span> (62.38 KB)\n",
       "</pre>\n"
      ],
      "text/plain": [
       "\u001b[1m Trainable params: \u001b[0m\u001b[38;5;34m15,969\u001b[0m (62.38 KB)\n"
      ]
     },
     "metadata": {},
     "output_type": "display_data"
    },
    {
     "data": {
      "text/html": [
       "<pre style=\"white-space:pre;overflow-x:auto;line-height:normal;font-family:Menlo,'DejaVu Sans Mono',consolas,'Courier New',monospace\"><span style=\"font-weight: bold\"> Non-trainable params: </span><span style=\"color: #00af00; text-decoration-color: #00af00\">320</span> (1.25 KB)\n",
       "</pre>\n"
      ],
      "text/plain": [
       "\u001b[1m Non-trainable params: \u001b[0m\u001b[38;5;34m320\u001b[0m (1.25 KB)\n"
      ]
     },
     "metadata": {},
     "output_type": "display_data"
    }
   ],
   "source": [
    "# Build CNN architecture\n",
    "def create_cnn(input_shape=(3, 27), num_classes=1):\n",
    "    \"\"\"\n",
    "    Create CNN\n",
    "    Input: (3, 27) - 3 positions × 27 feature statistics\n",
    "    \"\"\"\n",
    "    model = keras.Sequential([\n",
    "        # Input layer\n",
    "        keras.layers.Input(shape=input_shape),\n",
    "        \n",
    "        # First 1D Conv layer - scan across features within each position\n",
    "        keras.layers.Conv1D(\n",
    "            filters=64, \n",
    "            kernel_size=3, \n",
    "            activation='relu', \n",
    "            padding='same',\n",
    "            name='conv1d_features'\n",
    "        ),\n",
    "        keras.layers.BatchNormalization(),\n",
    "        keras.layers.Dropout(0.2),\n",
    "        \n",
    "        # Second 1D Conv layer - capture more complex feature patterns\n",
    "        keras.layers.Conv1D(\n",
    "            filters=32, \n",
    "            kernel_size=3, \n",
    "            activation='relu', \n",
    "            padding='same',\n",
    "            name='conv1d_patterns'\n",
    "        ),\n",
    "        keras.layers.BatchNormalization(),\n",
    "        keras.layers.Dropout(0.2),\n",
    "        \n",
    "        # Global features across positions\n",
    "        keras.layers.GlobalMaxPooling1D(),\n",
    "        \n",
    "        # Dense layers for final classification\n",
    "        keras.layers.Dense(64, activation='relu'),\n",
    "        keras.layers.BatchNormalization(),\n",
    "        keras.layers.Dropout(0.3),\n",
    "        \n",
    "        keras.layers.Dense(32, activation='relu'),\n",
    "        keras.layers.Dropout(0.2),\n",
    "        \n",
    "        # Output layer\n",
    "        keras.layers.Dense(num_classes, activation='sigmoid', name='output')\n",
    "    ])\n",
    "    \n",
    "    return model\n",
    "\n",
    "# Create the model\n",
    "model = create_cnn()\n",
    "model.summary()\n",
    "\n",
    "# Compile with appropriate metrics for imbalanced classification\n",
    "model.compile(\n",
    "    optimizer=keras.optimizers.Adam(learning_rate=0.001),\n",
    "    loss='binary_crossentropy',\n",
    "    metrics=[\n",
    "        'accuracy',\n",
    "        keras.metrics.Precision(name='precision'),\n",
    "        keras.metrics.Recall(name='recall'),\n",
    "        keras.metrics.AUC(name='auc'),\n",
    "        keras.metrics.AUC(name='pr_auc', curve='PR')\n",
    "    ]\n",
    ")"
   ]
  },
  {
   "cell_type": "code",
   "execution_count": 37,
   "id": "eae798b7",
   "metadata": {},
   "outputs": [
    {
     "name": "stdout",
     "output_type": "stream",
     "text": [
      "Final training set: 77356 samples\n",
      "Validation set: 20914 samples\n",
      "Test set: 23568 samples\n"
     ]
    }
   ],
   "source": [
    "# Create validation split from training data (gene-level)\n",
    "cnn_gene_mapping = labels.set_index(['transcript_id', 'transcript_position']).loc[cnn_features.index]['gene_id'].values\n",
    "train_genes = np.unique(cnn_gene_mapping[train_mask])\n",
    "val_size = int(0.2 * len(train_genes))\n",
    "val_genes = np.random.choice(train_genes, size=val_size, replace=False)\n",
    "\n",
    "val_mask = np.isin(cnn_gene_mapping[train_mask], val_genes)\n",
    "train_final_mask = ~val_mask\n",
    "\n",
    "X_train_final = X_train[train_final_mask]\n",
    "X_val = X_train[val_mask]\n",
    "y_train_final = y_train[train_final_mask]\n",
    "y_val = y_train[val_mask]\n",
    "\n",
    "print(f\"Final training set: {X_train_final.shape[0]} samples\")\n",
    "print(f\"Validation set: {X_val.shape[0]} samples\")\n",
    "print(f\"Test set: {X_test.shape[0]} samples\")\n",
    "\n",
    "# Training callbacks\n",
    "callbacks = [\n",
    "    keras.callbacks.EarlyStopping(\n",
    "        monitor='val_pr_auc', \n",
    "        patience=10, \n",
    "        restore_best_weights=True,\n",
    "        mode='max'\n",
    "    ),\n",
    "    keras.callbacks.ReduceLROnPlateau(\n",
    "        monitor='val_pr_auc',\n",
    "        factor=0.5,\n",
    "        patience=5,\n",
    "        min_lr=1e-6,\n",
    "        mode='max'\n",
    "    ),\n",
    "    keras.callbacks.ModelCheckpoint(\n",
    "        'best_cnn_model.h5',\n",
    "        monitor='val_pr_auc',\n",
    "        save_best_only=True,\n",
    "        mode='max'\n",
    "    )\n",
    "]"
   ]
  },
  {
   "cell_type": "code",
   "execution_count": 38,
   "id": "61bb7d84",
   "metadata": {},
   "outputs": [
    {
     "name": "stdout",
     "output_type": "stream",
     "text": [
      "Epoch 1/50\n",
      "\u001b[1m300/303\u001b[0m \u001b[32m━━━━━━━━━━━━━━━━━━━\u001b[0m\u001b[37m━\u001b[0m \u001b[1m0s\u001b[0m 6ms/step - accuracy: 0.6544 - auc: 0.7086 - loss: 0.6371 - pr_auc: 0.1215 - precision: 0.0798 - recall: 0.6416"
     ]
    },
    {
     "name": "stderr",
     "output_type": "stream",
     "text": [
      "WARNING:absl:You are saving your model as an HDF5 file via `model.save()` or `keras.saving.save_model(model)`. This file format is considered legacy. We recommend using instead the native Keras format, e.g. `model.save('my_model.keras')` or `keras.saving.save_model(model, 'my_model.keras')`. \n"
     ]
    },
    {
     "name": "stdout",
     "output_type": "stream",
     "text": [
      "\u001b[1m303/303\u001b[0m \u001b[32m━━━━━━━━━━━━━━━━━━━━\u001b[0m\u001b[37m\u001b[0m \u001b[1m8s\u001b[0m 10ms/step - accuracy: 0.6803 - auc: 0.7773 - loss: 0.5753 - pr_auc: 0.1737 - precision: 0.0970 - recall: 0.7295 - val_accuracy: 0.8273 - val_auc: 0.8673 - val_loss: 0.4113 - val_pr_auc: 0.3412 - val_precision: 0.1775 - val_recall: 0.7536 - learning_rate: 0.0010\n",
      "Epoch 2/50\n",
      "Epoch 2/50\n",
      "\u001b[1m299/303\u001b[0m \u001b[32m━━━━━━━━━━━━━━━━━━━\u001b[0m\u001b[37m━\u001b[0m \u001b[1m0s\u001b[0m 6ms/step - accuracy: 0.7518 - auc: 0.8506 - loss: 0.4953 - pr_auc: 0.2676 - precision: 0.1356 - recall: 0.7951"
     ]
    },
    {
     "name": "stderr",
     "output_type": "stream",
     "text": [
      "WARNING:absl:You are saving your model as an HDF5 file via `model.save()` or `keras.saving.save_model(model)`. This file format is considered legacy. We recommend using instead the native Keras format, e.g. `model.save('my_model.keras')` or `keras.saving.save_model(model, 'my_model.keras')`. \n"
     ]
    },
    {
     "name": "stdout",
     "output_type": "stream",
     "text": [
      "\u001b[1m303/303\u001b[0m \u001b[32m━━━━━━━━━━━━━━━━━━━━\u001b[0m\u001b[37m\u001b[0m \u001b[1m2s\u001b[0m 7ms/step - accuracy: 0.7615 - auc: 0.8537 - loss: 0.4813 - pr_auc: 0.2607 - precision: 0.1361 - recall: 0.7989 - val_accuracy: 0.8095 - val_auc: 0.8764 - val_loss: 0.4271 - val_pr_auc: 0.3618 - val_precision: 0.1680 - val_recall: 0.7909 - learning_rate: 0.0010\n",
      "Epoch 3/50\n",
      "Epoch 3/50\n",
      "\u001b[1m298/303\u001b[0m \u001b[32m━━━━━━━━━━━━━━━━━━━\u001b[0m\u001b[37m━\u001b[0m \u001b[1m0s\u001b[0m 9ms/step - accuracy: 0.7901 - auc: 0.8661 - loss: 0.4641 - pr_auc: 0.2844 - precision: 0.1535 - recall: 0.7972"
     ]
    },
    {
     "name": "stderr",
     "output_type": "stream",
     "text": [
      "WARNING:absl:You are saving your model as an HDF5 file via `model.save()` or `keras.saving.save_model(model)`. This file format is considered legacy. We recommend using instead the native Keras format, e.g. `model.save('my_model.keras')` or `keras.saving.save_model(model, 'my_model.keras')`. \n"
     ]
    },
    {
     "name": "stdout",
     "output_type": "stream",
     "text": [
      "\u001b[1m303/303\u001b[0m \u001b[32m━━━━━━━━━━━━━━━━━━━━\u001b[0m\u001b[37m\u001b[0m \u001b[1m3s\u001b[0m 11ms/step - accuracy: 0.7943 - auc: 0.8688 - loss: 0.4575 - pr_auc: 0.2917 - precision: 0.1555 - recall: 0.7998 - val_accuracy: 0.8256 - val_auc: 0.8852 - val_loss: 0.4287 - val_pr_auc: 0.3759 - val_precision: 0.1813 - val_recall: 0.7899 - learning_rate: 0.0010\n",
      "Epoch 4/50\n",
      "Epoch 4/50\n",
      "\u001b[1m303/303\u001b[0m \u001b[32m━━━━━━━━━━━━━━━━━━━━\u001b[0m\u001b[37m\u001b[0m \u001b[1m2s\u001b[0m 7ms/step - accuracy: 0.8162 - auc: 0.8810 - loss: 0.4355 - pr_auc: 0.3257 - precision: 0.1712 - recall: 0.7969 - val_accuracy: 0.8001 - val_auc: 0.8890 - val_loss: 0.4764 - val_pr_auc: 0.3728 - val_precision: 0.1661 - val_recall: 0.8282 - learning_rate: 0.0010\n",
      "Epoch 5/50\n",
      "\u001b[1m303/303\u001b[0m \u001b[32m━━━━━━━━━━━━━━━━━━━━\u001b[0m\u001b[37m\u001b[0m \u001b[1m2s\u001b[0m 7ms/step - accuracy: 0.8162 - auc: 0.8810 - loss: 0.4355 - pr_auc: 0.3257 - precision: 0.1712 - recall: 0.7969 - val_accuracy: 0.8001 - val_auc: 0.8890 - val_loss: 0.4764 - val_pr_auc: 0.3728 - val_precision: 0.1661 - val_recall: 0.8282 - learning_rate: 0.0010\n",
      "Epoch 5/50\n",
      "\u001b[1m303/303\u001b[0m \u001b[32m━━━━━━━━━━━━━━━━━━━━\u001b[0m\u001b[37m\u001b[0m \u001b[1m0s\u001b[0m 5ms/step - accuracy: 0.8114 - auc: 0.8877 - loss: 0.4250 - pr_auc: 0.3290 - precision: 0.1706 - recall: 0.8216"
     ]
    },
    {
     "name": "stderr",
     "output_type": "stream",
     "text": [
      "WARNING:absl:You are saving your model as an HDF5 file via `model.save()` or `keras.saving.save_model(model)`. This file format is considered legacy. We recommend using instead the native Keras format, e.g. `model.save('my_model.keras')` or `keras.saving.save_model(model, 'my_model.keras')`. \n"
     ]
    },
    {
     "name": "stdout",
     "output_type": "stream",
     "text": [
      "\u001b[1m303/303\u001b[0m \u001b[32m━━━━━━━━━━━━━━━━━━━━\u001b[0m\u001b[37m\u001b[0m \u001b[1m2s\u001b[0m 6ms/step - accuracy: 0.8141 - auc: 0.8879 - loss: 0.4236 - pr_auc: 0.3313 - precision: 0.1723 - recall: 0.8163 - val_accuracy: 0.8197 - val_auc: 0.8920 - val_loss: 0.4348 - val_pr_auc: 0.3908 - val_precision: 0.1813 - val_recall: 0.8261 - learning_rate: 0.0010\n",
      "Epoch 6/50\n",
      "Epoch 6/50\n",
      "\u001b[1m303/303\u001b[0m \u001b[32m━━━━━━━━━━━━━━━━━━━━\u001b[0m\u001b[37m\u001b[0m \u001b[1m2s\u001b[0m 6ms/step - accuracy: 0.8240 - auc: 0.8910 - loss: 0.4175 - pr_auc: 0.3448 - precision: 0.1808 - recall: 0.8183 - val_accuracy: 0.8310 - val_auc: 0.8914 - val_loss: 0.4370 - val_pr_auc: 0.3842 - val_precision: 0.1888 - val_recall: 0.8064 - learning_rate: 0.0010\n",
      "Epoch 7/50\n",
      "\u001b[1m303/303\u001b[0m \u001b[32m━━━━━━━━━━━━━━━━━━━━\u001b[0m\u001b[37m\u001b[0m \u001b[1m2s\u001b[0m 6ms/step - accuracy: 0.8240 - auc: 0.8910 - loss: 0.4175 - pr_auc: 0.3448 - precision: 0.1808 - recall: 0.8183 - val_accuracy: 0.8310 - val_auc: 0.8914 - val_loss: 0.4370 - val_pr_auc: 0.3842 - val_precision: 0.1888 - val_recall: 0.8064 - learning_rate: 0.0010\n",
      "Epoch 7/50\n",
      "\u001b[1m301/303\u001b[0m \u001b[32m━━━━━━━━━━━━━━━━━━━\u001b[0m\u001b[37m━\u001b[0m \u001b[1m0s\u001b[0m 7ms/step - accuracy: 0.8254 - auc: 0.8986 - loss: 0.4050 - pr_auc: 0.3574 - precision: 0.1858 - recall: 0.8320"
     ]
    },
    {
     "name": "stderr",
     "output_type": "stream",
     "text": [
      "WARNING:absl:You are saving your model as an HDF5 file via `model.save()` or `keras.saving.save_model(model)`. This file format is considered legacy. We recommend using instead the native Keras format, e.g. `model.save('my_model.keras')` or `keras.saving.save_model(model, 'my_model.keras')`. \n"
     ]
    },
    {
     "name": "stdout",
     "output_type": "stream",
     "text": [
      "\u001b[1m303/303\u001b[0m \u001b[32m━━━━━━━━━━━━━━━━━━━━\u001b[0m\u001b[37m\u001b[0m \u001b[1m3s\u001b[0m 10ms/step - accuracy: 0.8280 - auc: 0.8930 - loss: 0.4133 - pr_auc: 0.3484 - precision: 0.1846 - recall: 0.8195 - val_accuracy: 0.8224 - val_auc: 0.8951 - val_loss: 0.4452 - val_pr_auc: 0.4006 - val_precision: 0.1835 - val_recall: 0.8251 - learning_rate: 0.0010\n",
      "Epoch 8/50\n",
      "Epoch 8/50\n",
      "\u001b[1m296/303\u001b[0m \u001b[32m━━━━━━━━━━━━━━━━━━━\u001b[0m\u001b[37m━\u001b[0m \u001b[1m0s\u001b[0m 7ms/step - accuracy: 0.8262 - auc: 0.8989 - loss: 0.4004 - pr_auc: 0.3403 - precision: 0.1812 - recall: 0.8234"
     ]
    },
    {
     "name": "stderr",
     "output_type": "stream",
     "text": [
      "WARNING:absl:You are saving your model as an HDF5 file via `model.save()` or `keras.saving.save_model(model)`. This file format is considered legacy. We recommend using instead the native Keras format, e.g. `model.save('my_model.keras')` or `keras.saving.save_model(model, 'my_model.keras')`. \n"
     ]
    },
    {
     "name": "stdout",
     "output_type": "stream",
     "text": [
      "\u001b[1m303/303\u001b[0m \u001b[32m━━━━━━━━━━━━━━━━━━━━\u001b[0m\u001b[37m\u001b[0m \u001b[1m5s\u001b[0m 8ms/step - accuracy: 0.8288 - auc: 0.8978 - loss: 0.4046 - pr_auc: 0.3558 - precision: 0.1860 - recall: 0.8238 - val_accuracy: 0.8426 - val_auc: 0.8969 - val_loss: 0.4018 - val_pr_auc: 0.4058 - val_precision: 0.2004 - val_recall: 0.8054 - learning_rate: 0.0010\n",
      "Epoch 9/50\n",
      "Epoch 9/50\n",
      "\u001b[1m295/303\u001b[0m \u001b[32m━━━━━━━━━━━━━━━━━━━\u001b[0m\u001b[37m━\u001b[0m \u001b[1m0s\u001b[0m 7ms/step - accuracy: 0.8401 - auc: 0.9043 - loss: 0.3857 - pr_auc: 0.3535 - precision: 0.1919 - recall: 0.8307"
     ]
    },
    {
     "name": "stderr",
     "output_type": "stream",
     "text": [
      "WARNING:absl:You are saving your model as an HDF5 file via `model.save()` or `keras.saving.save_model(model)`. This file format is considered legacy. We recommend using instead the native Keras format, e.g. `model.save('my_model.keras')` or `keras.saving.save_model(model, 'my_model.keras')`. \n"
     ]
    },
    {
     "name": "stdout",
     "output_type": "stream",
     "text": [
      "\u001b[1m303/303\u001b[0m \u001b[32m━━━━━━━━━━━━━━━━━━━━\u001b[0m\u001b[37m\u001b[0m \u001b[1m2s\u001b[0m 8ms/step - accuracy: 0.8365 - auc: 0.8987 - loss: 0.4026 - pr_auc: 0.3584 - precision: 0.1932 - recall: 0.8226 - val_accuracy: 0.8084 - val_auc: 0.8987 - val_loss: 0.4696 - val_pr_auc: 0.4109 - val_precision: 0.1743 - val_recall: 0.8427 - learning_rate: 0.0010\n",
      "Epoch 10/50\n",
      "Epoch 10/50\n",
      "\u001b[1m303/303\u001b[0m \u001b[32m━━━━━━━━━━━━━━━━━━━━\u001b[0m\u001b[37m\u001b[0m \u001b[1m2s\u001b[0m 6ms/step - accuracy: 0.8315 - auc: 0.9015 - loss: 0.3980 - pr_auc: 0.3642 - precision: 0.1882 - recall: 0.8215 - val_accuracy: 0.8583 - val_auc: 0.8970 - val_loss: 0.3657 - val_pr_auc: 0.4051 - val_precision: 0.2160 - val_recall: 0.7867 - learning_rate: 0.0010\n",
      "Epoch 11/50\n",
      "\u001b[1m303/303\u001b[0m \u001b[32m━━━━━━━━━━━━━━━━━━━━\u001b[0m\u001b[37m\u001b[0m \u001b[1m2s\u001b[0m 6ms/step - accuracy: 0.8315 - auc: 0.9015 - loss: 0.3980 - pr_auc: 0.3642 - precision: 0.1882 - recall: 0.8215 - val_accuracy: 0.8583 - val_auc: 0.8970 - val_loss: 0.3657 - val_pr_auc: 0.4051 - val_precision: 0.2160 - val_recall: 0.7867 - learning_rate: 0.0010\n",
      "Epoch 11/50\n",
      "\u001b[1m303/303\u001b[0m \u001b[32m━━━━━━━━━━━━━━━━━━━━\u001b[0m\u001b[37m\u001b[0m \u001b[1m2s\u001b[0m 7ms/step - accuracy: 0.8367 - auc: 0.9010 - loss: 0.3980 - pr_auc: 0.3647 - precision: 0.1937 - recall: 0.8249 - val_accuracy: 0.8539 - val_auc: 0.8972 - val_loss: 0.3761 - val_pr_auc: 0.4051 - val_precision: 0.2112 - val_recall: 0.7909 - learning_rate: 0.0010\n",
      "Epoch 12/50\n",
      "\u001b[1m303/303\u001b[0m \u001b[32m━━━━━━━━━━━━━━━━━━━━\u001b[0m\u001b[37m\u001b[0m \u001b[1m2s\u001b[0m 7ms/step - accuracy: 0.8367 - auc: 0.9010 - loss: 0.3980 - pr_auc: 0.3647 - precision: 0.1937 - recall: 0.8249 - val_accuracy: 0.8539 - val_auc: 0.8972 - val_loss: 0.3761 - val_pr_auc: 0.4051 - val_precision: 0.2112 - val_recall: 0.7909 - learning_rate: 0.0010\n",
      "Epoch 12/50\n",
      "\u001b[1m303/303\u001b[0m \u001b[32m━━━━━━━━━━━━━━━━━━━━\u001b[0m\u001b[37m\u001b[0m \u001b[1m3s\u001b[0m 9ms/step - accuracy: 0.8427 - auc: 0.9054 - loss: 0.3899 - pr_auc: 0.3774 - precision: 0.2001 - recall: 0.8258 - val_accuracy: 0.8461 - val_auc: 0.8970 - val_loss: 0.4006 - val_pr_auc: 0.4067 - val_precision: 0.2039 - val_recall: 0.8033 - learning_rate: 0.0010\n",
      "Epoch 13/50\n",
      "\u001b[1m303/303\u001b[0m \u001b[32m━━━━━━━━━━━━━━━━━━━━\u001b[0m\u001b[37m\u001b[0m \u001b[1m3s\u001b[0m 9ms/step - accuracy: 0.8427 - auc: 0.9054 - loss: 0.3899 - pr_auc: 0.3774 - precision: 0.2001 - recall: 0.8258 - val_accuracy: 0.8461 - val_auc: 0.8970 - val_loss: 0.4006 - val_pr_auc: 0.4067 - val_precision: 0.2039 - val_recall: 0.8033 - learning_rate: 0.0010\n",
      "Epoch 13/50\n",
      "\u001b[1m303/303\u001b[0m \u001b[32m━━━━━━━━━━━━━━━━━━━━\u001b[0m\u001b[37m\u001b[0m \u001b[1m2s\u001b[0m 6ms/step - accuracy: 0.8373 - auc: 0.9068 - loss: 0.3874 - pr_auc: 0.3800 - precision: 0.1949 - recall: 0.8283 - val_accuracy: 0.8614 - val_auc: 0.8991 - val_loss: 0.3640 - val_pr_auc: 0.4106 - val_precision: 0.2200 - val_recall: 0.7857 - learning_rate: 0.0010\n",
      "Epoch 14/50\n",
      "\u001b[1m303/303\u001b[0m \u001b[32m━━━━━━━━━━━━━━━━━━━━\u001b[0m\u001b[37m\u001b[0m \u001b[1m2s\u001b[0m 6ms/step - accuracy: 0.8373 - auc: 0.9068 - loss: 0.3874 - pr_auc: 0.3800 - precision: 0.1949 - recall: 0.8283 - val_accuracy: 0.8614 - val_auc: 0.8991 - val_loss: 0.3640 - val_pr_auc: 0.4106 - val_precision: 0.2200 - val_recall: 0.7857 - learning_rate: 0.0010\n",
      "Epoch 14/50\n",
      "\u001b[1m303/303\u001b[0m \u001b[32m━━━━━━━━━━━━━━━━━━━━\u001b[0m\u001b[37m\u001b[0m \u001b[1m3s\u001b[0m 10ms/step - accuracy: 0.8410 - auc: 0.9073 - loss: 0.3861 - pr_auc: 0.3787 - precision: 0.1997 - recall: 0.8355 - val_accuracy: 0.8304 - val_auc: 0.8954 - val_loss: 0.4176 - val_pr_auc: 0.4028 - val_precision: 0.1893 - val_recall: 0.8137 - learning_rate: 0.0010\n",
      "Epoch 15/50\n",
      "\u001b[1m303/303\u001b[0m \u001b[32m━━━━━━━━━━━━━━━━━━━━\u001b[0m\u001b[37m\u001b[0m \u001b[1m3s\u001b[0m 10ms/step - accuracy: 0.8410 - auc: 0.9073 - loss: 0.3861 - pr_auc: 0.3787 - precision: 0.1997 - recall: 0.8355 - val_accuracy: 0.8304 - val_auc: 0.8954 - val_loss: 0.4176 - val_pr_auc: 0.4028 - val_precision: 0.1893 - val_recall: 0.8137 - learning_rate: 0.0010\n",
      "Epoch 15/50\n",
      "\u001b[1m297/303\u001b[0m \u001b[32m━━━━━━━━━━━━━━━━━━━\u001b[0m\u001b[37m━\u001b[0m \u001b[1m0s\u001b[0m 6ms/step - accuracy: 0.8494 - auc: 0.9149 - loss: 0.3730 - pr_auc: 0.3989 - precision: 0.2132 - recall: 0.8405"
     ]
    },
    {
     "name": "stderr",
     "output_type": "stream",
     "text": [
      "WARNING:absl:You are saving your model as an HDF5 file via `model.save()` or `keras.saving.save_model(model)`. This file format is considered legacy. We recommend using instead the native Keras format, e.g. `model.save('my_model.keras')` or `keras.saving.save_model(model, 'my_model.keras')`. \n"
     ]
    },
    {
     "name": "stdout",
     "output_type": "stream",
     "text": [
      "\u001b[1m303/303\u001b[0m \u001b[32m━━━━━━━━━━━━━━━━━━━━\u001b[0m\u001b[37m\u001b[0m \u001b[1m2s\u001b[0m 7ms/step - accuracy: 0.8491 - auc: 0.9125 - loss: 0.3748 - pr_auc: 0.3900 - precision: 0.2087 - recall: 0.8363 - val_accuracy: 0.8414 - val_auc: 0.9007 - val_loss: 0.4008 - val_pr_auc: 0.4159 - val_precision: 0.2011 - val_recall: 0.8188 - learning_rate: 5.0000e-04\n",
      "Epoch 16/50\n",
      "Epoch 16/50\n",
      "\u001b[1m300/303\u001b[0m \u001b[32m━━━━━━━━━━━━━━━━━━━\u001b[0m\u001b[37m━\u001b[0m \u001b[1m0s\u001b[0m 6ms/step - accuracy: 0.8450 - auc: 0.9134 - loss: 0.3712 - pr_auc: 0.3870 - precision: 0.2034 - recall: 0.8441"
     ]
    },
    {
     "name": "stderr",
     "output_type": "stream",
     "text": [
      "WARNING:absl:You are saving your model as an HDF5 file via `model.save()` or `keras.saving.save_model(model)`. This file format is considered legacy. We recommend using instead the native Keras format, e.g. `model.save('my_model.keras')` or `keras.saving.save_model(model, 'my_model.keras')`. \n"
     ]
    },
    {
     "name": "stdout",
     "output_type": "stream",
     "text": [
      "\u001b[1m303/303\u001b[0m \u001b[32m━━━━━━━━━━━━━━━━━━━━\u001b[0m\u001b[37m\u001b[0m \u001b[1m2s\u001b[0m 7ms/step - accuracy: 0.8449 - auc: 0.9132 - loss: 0.3732 - pr_auc: 0.3937 - precision: 0.2051 - recall: 0.8440 - val_accuracy: 0.8540 - val_auc: 0.9022 - val_loss: 0.3812 - val_pr_auc: 0.4180 - val_precision: 0.2145 - val_recall: 0.8116 - learning_rate: 5.0000e-04\n",
      "Epoch 17/50\n",
      "Epoch 17/50\n",
      "\u001b[1m303/303\u001b[0m \u001b[32m━━━━━━━━━━━━━━━━━━━━\u001b[0m\u001b[37m\u001b[0m \u001b[1m2s\u001b[0m 7ms/step - accuracy: 0.8484 - auc: 0.9133 - loss: 0.3730 - pr_auc: 0.3957 - precision: 0.2090 - recall: 0.8438 - val_accuracy: 0.8643 - val_auc: 0.9008 - val_loss: 0.3444 - val_pr_auc: 0.4132 - val_precision: 0.2245 - val_recall: 0.7899 - learning_rate: 5.0000e-04\n",
      "Epoch 18/50\n",
      "\u001b[1m303/303\u001b[0m \u001b[32m━━━━━━━━━━━━━━━━━━━━\u001b[0m\u001b[37m\u001b[0m \u001b[1m2s\u001b[0m 7ms/step - accuracy: 0.8484 - auc: 0.9133 - loss: 0.3730 - pr_auc: 0.3957 - precision: 0.2090 - recall: 0.8438 - val_accuracy: 0.8643 - val_auc: 0.9008 - val_loss: 0.3444 - val_pr_auc: 0.4132 - val_precision: 0.2245 - val_recall: 0.7899 - learning_rate: 5.0000e-04\n",
      "Epoch 18/50\n",
      "\u001b[1m303/303\u001b[0m \u001b[32m━━━━━━━━━━━━━━━━━━━━\u001b[0m\u001b[37m\u001b[0m \u001b[1m2s\u001b[0m 7ms/step - accuracy: 0.8481 - auc: 0.9166 - loss: 0.3670 - pr_auc: 0.3989 - precision: 0.2084 - recall: 0.8420 - val_accuracy: 0.8638 - val_auc: 0.8992 - val_loss: 0.3505 - val_pr_auc: 0.4159 - val_precision: 0.2242 - val_recall: 0.7919 - learning_rate: 5.0000e-04\n",
      "Epoch 19/50\n",
      "\u001b[1m303/303\u001b[0m \u001b[32m━━━━━━━━━━━━━━━━━━━━\u001b[0m\u001b[37m\u001b[0m \u001b[1m2s\u001b[0m 7ms/step - accuracy: 0.8481 - auc: 0.9166 - loss: 0.3670 - pr_auc: 0.3989 - precision: 0.2084 - recall: 0.8420 - val_accuracy: 0.8638 - val_auc: 0.8992 - val_loss: 0.3505 - val_pr_auc: 0.4159 - val_precision: 0.2242 - val_recall: 0.7919 - learning_rate: 5.0000e-04\n",
      "Epoch 19/50\n",
      "\u001b[1m303/303\u001b[0m \u001b[32m━━━━━━━━━━━━━━━━━━━━\u001b[0m\u001b[37m\u001b[0m \u001b[1m2s\u001b[0m 6ms/step - accuracy: 0.8490 - auc: 0.9166 - loss: 0.3668 - pr_auc: 0.4063 - precision: 0.2097 - recall: 0.8443 - val_accuracy: 0.8331 - val_auc: 0.9012 - val_loss: 0.4047 - val_pr_auc: 0.4092 - val_precision: 0.1946 - val_recall: 0.8323 - learning_rate: 5.0000e-04\n",
      "Epoch 20/50\n",
      "\u001b[1m303/303\u001b[0m \u001b[32m━━━━━━━━━━━━━━━━━━━━\u001b[0m\u001b[37m\u001b[0m \u001b[1m2s\u001b[0m 6ms/step - accuracy: 0.8490 - auc: 0.9166 - loss: 0.3668 - pr_auc: 0.4063 - precision: 0.2097 - recall: 0.8443 - val_accuracy: 0.8331 - val_auc: 0.9012 - val_loss: 0.4047 - val_pr_auc: 0.4092 - val_precision: 0.1946 - val_recall: 0.8323 - learning_rate: 5.0000e-04\n",
      "Epoch 20/50\n",
      "\u001b[1m303/303\u001b[0m \u001b[32m━━━━━━━━━━━━━━━━━━━━\u001b[0m\u001b[37m\u001b[0m \u001b[1m3s\u001b[0m 9ms/step - accuracy: 0.8458 - auc: 0.9183 - loss: 0.3623 - pr_auc: 0.4128 - precision: 0.2075 - recall: 0.8540 - val_accuracy: 0.8636 - val_auc: 0.8999 - val_loss: 0.3521 - val_pr_auc: 0.4117 - val_precision: 0.2223 - val_recall: 0.7816 - learning_rate: 5.0000e-04\n",
      "Epoch 21/50\n",
      "\u001b[1m303/303\u001b[0m \u001b[32m━━━━━━━━━━━━━━━━━━━━\u001b[0m\u001b[37m\u001b[0m \u001b[1m3s\u001b[0m 9ms/step - accuracy: 0.8458 - auc: 0.9183 - loss: 0.3623 - pr_auc: 0.4128 - precision: 0.2075 - recall: 0.8540 - val_accuracy: 0.8636 - val_auc: 0.8999 - val_loss: 0.3521 - val_pr_auc: 0.4117 - val_precision: 0.2223 - val_recall: 0.7816 - learning_rate: 5.0000e-04\n",
      "Epoch 21/50\n",
      "\u001b[1m303/303\u001b[0m \u001b[32m━━━━━━━━━━━━━━━━━━━━\u001b[0m\u001b[37m\u001b[0m \u001b[1m3s\u001b[0m 10ms/step - accuracy: 0.8501 - auc: 0.9205 - loss: 0.3577 - pr_auc: 0.4161 - precision: 0.2115 - recall: 0.8478 - val_accuracy: 0.8513 - val_auc: 0.9012 - val_loss: 0.3659 - val_pr_auc: 0.4174 - val_precision: 0.2106 - val_recall: 0.8075 - learning_rate: 5.0000e-04\n",
      "Epoch 22/50\n",
      "\u001b[1m303/303\u001b[0m \u001b[32m━━━━━━━━━━━━━━━━━━━━\u001b[0m\u001b[37m\u001b[0m \u001b[1m3s\u001b[0m 10ms/step - accuracy: 0.8501 - auc: 0.9205 - loss: 0.3577 - pr_auc: 0.4161 - precision: 0.2115 - recall: 0.8478 - val_accuracy: 0.8513 - val_auc: 0.9012 - val_loss: 0.3659 - val_pr_auc: 0.4174 - val_precision: 0.2106 - val_recall: 0.8075 - learning_rate: 5.0000e-04\n",
      "Epoch 22/50\n",
      "\u001b[1m303/303\u001b[0m \u001b[32m━━━━━━━━━━━━━━━━━━━━\u001b[0m\u001b[37m\u001b[0m \u001b[1m2s\u001b[0m 8ms/step - accuracy: 0.8538 - auc: 0.9208 - loss: 0.3571 - pr_auc: 0.4114 - precision: 0.2158 - recall: 0.8466 - val_accuracy: 0.8310 - val_auc: 0.8990 - val_loss: 0.4102 - val_pr_auc: 0.4134 - val_precision: 0.1922 - val_recall: 0.8302 - learning_rate: 2.5000e-04\n",
      "Epoch 23/50\n",
      "\u001b[1m303/303\u001b[0m \u001b[32m━━━━━━━━━━━━━━━━━━━━\u001b[0m\u001b[37m\u001b[0m \u001b[1m2s\u001b[0m 8ms/step - accuracy: 0.8538 - auc: 0.9208 - loss: 0.3571 - pr_auc: 0.4114 - precision: 0.2158 - recall: 0.8466 - val_accuracy: 0.8310 - val_auc: 0.8990 - val_loss: 0.4102 - val_pr_auc: 0.4134 - val_precision: 0.1922 - val_recall: 0.8302 - learning_rate: 2.5000e-04\n",
      "Epoch 23/50\n",
      "\u001b[1m300/303\u001b[0m \u001b[32m━━━━━━━━━━━━━━━━━━━\u001b[0m\u001b[37m━\u001b[0m \u001b[1m0s\u001b[0m 8ms/step - accuracy: 0.8460 - auc: 0.9229 - loss: 0.3530 - pr_auc: 0.4123 - precision: 0.2114 - recall: 0.8655"
     ]
    },
    {
     "name": "stderr",
     "output_type": "stream",
     "text": [
      "WARNING:absl:You are saving your model as an HDF5 file via `model.save()` or `keras.saving.save_model(model)`. This file format is considered legacy. We recommend using instead the native Keras format, e.g. `model.save('my_model.keras')` or `keras.saving.save_model(model, 'my_model.keras')`. \n"
     ]
    },
    {
     "name": "stdout",
     "output_type": "stream",
     "text": [
      "\u001b[1m303/303\u001b[0m \u001b[32m━━━━━━━━━━━━━━━━━━━━\u001b[0m\u001b[37m\u001b[0m \u001b[1m3s\u001b[0m 11ms/step - accuracy: 0.8485 - auc: 0.9222 - loss: 0.3531 - pr_auc: 0.4137 - precision: 0.2110 - recall: 0.8569 - val_accuracy: 0.8506 - val_auc: 0.9004 - val_loss: 0.3700 - val_pr_auc: 0.4185 - val_precision: 0.2107 - val_recall: 0.8137 - learning_rate: 2.5000e-04\n",
      "Epoch 24/50\n",
      "Epoch 24/50\n",
      "\u001b[1m297/303\u001b[0m \u001b[32m━━━━━━━━━━━━━━━━━━━\u001b[0m\u001b[37m━\u001b[0m \u001b[1m0s\u001b[0m 11ms/step - accuracy: 0.8529 - auc: 0.9247 - loss: 0.3564 - pr_auc: 0.4266 - precision: 0.2256 - recall: 0.8608"
     ]
    },
    {
     "name": "stderr",
     "output_type": "stream",
     "text": [
      "WARNING:absl:You are saving your model as an HDF5 file via `model.save()` or `keras.saving.save_model(model)`. This file format is considered legacy. We recommend using instead the native Keras format, e.g. `model.save('my_model.keras')` or `keras.saving.save_model(model, 'my_model.keras')`. \n"
     ]
    },
    {
     "name": "stdout",
     "output_type": "stream",
     "text": [
      "\u001b[1m303/303\u001b[0m \u001b[32m━━━━━━━━━━━━━━━━━━━━\u001b[0m\u001b[37m\u001b[0m \u001b[1m4s\u001b[0m 12ms/step - accuracy: 0.8523 - auc: 0.9236 - loss: 0.3508 - pr_auc: 0.4244 - precision: 0.2154 - recall: 0.8560 - val_accuracy: 0.8457 - val_auc: 0.9004 - val_loss: 0.3741 - val_pr_auc: 0.4195 - val_precision: 0.2054 - val_recall: 0.8157 - learning_rate: 2.5000e-04\n",
      "Epoch 25/50\n",
      "Epoch 25/50\n",
      "\u001b[1m303/303\u001b[0m \u001b[32m━━━━━━━━━━━━━━━━━━━━\u001b[0m\u001b[37m\u001b[0m \u001b[1m2s\u001b[0m 7ms/step - accuracy: 0.8547 - auc: 0.9225 - loss: 0.3530 - pr_auc: 0.4125 - precision: 0.2178 - recall: 0.8529 - val_accuracy: 0.8462 - val_auc: 0.8993 - val_loss: 0.3837 - val_pr_auc: 0.4175 - val_precision: 0.2054 - val_recall: 0.8126 - learning_rate: 2.5000e-04\n",
      "Epoch 26/50\n",
      "\u001b[1m303/303\u001b[0m \u001b[32m━━━━━━━━━━━━━━━━━━━━\u001b[0m\u001b[37m\u001b[0m \u001b[1m2s\u001b[0m 7ms/step - accuracy: 0.8547 - auc: 0.9225 - loss: 0.3530 - pr_auc: 0.4125 - precision: 0.2178 - recall: 0.8529 - val_accuracy: 0.8462 - val_auc: 0.8993 - val_loss: 0.3837 - val_pr_auc: 0.4175 - val_precision: 0.2054 - val_recall: 0.8126 - learning_rate: 2.5000e-04\n",
      "Epoch 26/50\n",
      "\u001b[1m303/303\u001b[0m \u001b[32m━━━━━━━━━━━━━━━━━━━━\u001b[0m\u001b[37m\u001b[0m \u001b[1m2s\u001b[0m 7ms/step - accuracy: 0.8563 - auc: 0.9257 - loss: 0.3457 - pr_auc: 0.4293 - precision: 0.2207 - recall: 0.8595 - val_accuracy: 0.8429 - val_auc: 0.8983 - val_loss: 0.3822 - val_pr_auc: 0.4168 - val_precision: 0.2019 - val_recall: 0.8126 - learning_rate: 2.5000e-04\n",
      "Epoch 27/50\n",
      "\u001b[1m303/303\u001b[0m \u001b[32m━━━━━━━━━━━━━━━━━━━━\u001b[0m\u001b[37m\u001b[0m \u001b[1m2s\u001b[0m 7ms/step - accuracy: 0.8563 - auc: 0.9257 - loss: 0.3457 - pr_auc: 0.4293 - precision: 0.2207 - recall: 0.8595 - val_accuracy: 0.8429 - val_auc: 0.8983 - val_loss: 0.3822 - val_pr_auc: 0.4168 - val_precision: 0.2019 - val_recall: 0.8126 - learning_rate: 2.5000e-04\n",
      "Epoch 27/50\n",
      "\u001b[1m301/303\u001b[0m \u001b[32m━━━━━━━━━━━━━━━━━━━\u001b[0m\u001b[37m━\u001b[0m \u001b[1m0s\u001b[0m 7ms/step - accuracy: 0.8512 - auc: 0.9229 - loss: 0.3538 - pr_auc: 0.4372 - precision: 0.2172 - recall: 0.8601"
     ]
    },
    {
     "name": "stderr",
     "output_type": "stream",
     "text": [
      "WARNING:absl:You are saving your model as an HDF5 file via `model.save()` or `keras.saving.save_model(model)`. This file format is considered legacy. We recommend using instead the native Keras format, e.g. `model.save('my_model.keras')` or `keras.saving.save_model(model, 'my_model.keras')`. \n"
     ]
    },
    {
     "name": "stdout",
     "output_type": "stream",
     "text": [
      "\u001b[1m303/303\u001b[0m \u001b[32m━━━━━━━━━━━━━━━━━━━━\u001b[0m\u001b[37m\u001b[0m \u001b[1m2s\u001b[0m 8ms/step - accuracy: 0.8531 - auc: 0.9248 - loss: 0.3477 - pr_auc: 0.4388 - precision: 0.2166 - recall: 0.8580 - val_accuracy: 0.8496 - val_auc: 0.8978 - val_loss: 0.3699 - val_pr_auc: 0.4202 - val_precision: 0.2080 - val_recall: 0.8033 - learning_rate: 2.5000e-04\n",
      "Epoch 28/50\n",
      "Epoch 28/50\n",
      "\u001b[1m303/303\u001b[0m \u001b[32m━━━━━━━━━━━━━━━━━━━━\u001b[0m\u001b[37m\u001b[0m \u001b[1m3s\u001b[0m 9ms/step - accuracy: 0.8534 - auc: 0.9238 - loss: 0.3494 - pr_auc: 0.4229 - precision: 0.2169 - recall: 0.8575 - val_accuracy: 0.8385 - val_auc: 0.8987 - val_loss: 0.3946 - val_pr_auc: 0.4192 - val_precision: 0.1987 - val_recall: 0.8230 - learning_rate: 2.5000e-04\n",
      "Epoch 29/50\n",
      "\u001b[1m303/303\u001b[0m \u001b[32m━━━━━━━━━━━━━━━━━━━━\u001b[0m\u001b[37m\u001b[0m \u001b[1m3s\u001b[0m 9ms/step - accuracy: 0.8534 - auc: 0.9238 - loss: 0.3494 - pr_auc: 0.4229 - precision: 0.2169 - recall: 0.8575 - val_accuracy: 0.8385 - val_auc: 0.8987 - val_loss: 0.3946 - val_pr_auc: 0.4192 - val_precision: 0.1987 - val_recall: 0.8230 - learning_rate: 2.5000e-04\n",
      "Epoch 29/50\n",
      "\u001b[1m301/303\u001b[0m \u001b[32m━━━━━━━━━━━━━━━━━━━\u001b[0m\u001b[37m━\u001b[0m \u001b[1m0s\u001b[0m 10ms/step - accuracy: 0.8514 - auc: 0.9290 - loss: 0.3382 - pr_auc: 0.4267 - precision: 0.2155 - recall: 0.8638"
     ]
    },
    {
     "name": "stderr",
     "output_type": "stream",
     "text": [
      "WARNING:absl:You are saving your model as an HDF5 file via `model.save()` or `keras.saving.save_model(model)`. This file format is considered legacy. We recommend using instead the native Keras format, e.g. `model.save('my_model.keras')` or `keras.saving.save_model(model, 'my_model.keras')`. \n"
     ]
    },
    {
     "name": "stdout",
     "output_type": "stream",
     "text": [
      "\u001b[1m303/303\u001b[0m \u001b[32m━━━━━━━━━━━━━━━━━━━━\u001b[0m\u001b[37m\u001b[0m \u001b[1m3s\u001b[0m 11ms/step - accuracy: 0.8518 - auc: 0.9257 - loss: 0.3458 - pr_auc: 0.4281 - precision: 0.2150 - recall: 0.8580 - val_accuracy: 0.8476 - val_auc: 0.8990 - val_loss: 0.3689 - val_pr_auc: 0.4252 - val_precision: 0.2070 - val_recall: 0.8126 - learning_rate: 2.5000e-04\n",
      "Epoch 30/50\n",
      "Epoch 30/50\n",
      "\u001b[1m300/303\u001b[0m \u001b[32m━━━━━━━━━━━━━━━━━━━\u001b[0m\u001b[37m━\u001b[0m \u001b[1m0s\u001b[0m 7ms/step - accuracy: 0.8542 - auc: 0.9241 - loss: 0.3470 - pr_auc: 0.4238 - precision: 0.2157 - recall: 0.8587"
     ]
    },
    {
     "name": "stderr",
     "output_type": "stream",
     "text": [
      "WARNING:absl:You are saving your model as an HDF5 file via `model.save()` or `keras.saving.save_model(model)`. This file format is considered legacy. We recommend using instead the native Keras format, e.g. `model.save('my_model.keras')` or `keras.saving.save_model(model, 'my_model.keras')`. \n"
     ]
    },
    {
     "name": "stdout",
     "output_type": "stream",
     "text": [
      "\u001b[1m303/303\u001b[0m \u001b[32m━━━━━━━━━━━━━━━━━━━━\u001b[0m\u001b[37m\u001b[0m \u001b[1m4s\u001b[0m 8ms/step - accuracy: 0.8546 - auc: 0.9265 - loss: 0.3438 - pr_auc: 0.4247 - precision: 0.2191 - recall: 0.8629 - val_accuracy: 0.8484 - val_auc: 0.8987 - val_loss: 0.3695 - val_pr_auc: 0.4254 - val_precision: 0.2069 - val_recall: 0.8054 - learning_rate: 2.5000e-04\n",
      "Epoch 31/50\n",
      "Epoch 31/50\n",
      "\u001b[1m303/303\u001b[0m \u001b[32m━━━━━━━━━━━━━━━━━━━━\u001b[0m\u001b[37m\u001b[0m \u001b[1m3s\u001b[0m 9ms/step - accuracy: 0.8537 - auc: 0.9276 - loss: 0.3408 - pr_auc: 0.4247 - precision: 0.2180 - recall: 0.8632 - val_accuracy: 0.8517 - val_auc: 0.8975 - val_loss: 0.3626 - val_pr_auc: 0.4236 - val_precision: 0.2097 - val_recall: 0.7981 - learning_rate: 2.5000e-04\n",
      "Epoch 32/50\n",
      "\u001b[1m303/303\u001b[0m \u001b[32m━━━━━━━━━━━━━━━━━━━━\u001b[0m\u001b[37m\u001b[0m \u001b[1m3s\u001b[0m 9ms/step - accuracy: 0.8537 - auc: 0.9276 - loss: 0.3408 - pr_auc: 0.4247 - precision: 0.2180 - recall: 0.8632 - val_accuracy: 0.8517 - val_auc: 0.8975 - val_loss: 0.3626 - val_pr_auc: 0.4236 - val_precision: 0.2097 - val_recall: 0.7981 - learning_rate: 2.5000e-04\n",
      "Epoch 32/50\n",
      "\u001b[1m303/303\u001b[0m \u001b[32m━━━━━━━━━━━━━━━━━━━━\u001b[0m\u001b[37m\u001b[0m \u001b[1m3s\u001b[0m 10ms/step - accuracy: 0.8540 - auc: 0.9258 - loss: 0.3453 - pr_auc: 0.4268 - precision: 0.2175 - recall: 0.8569 - val_accuracy: 0.8369 - val_auc: 0.8985 - val_loss: 0.3831 - val_pr_auc: 0.4233 - val_precision: 0.1971 - val_recall: 0.8240 - learning_rate: 2.5000e-04\n",
      "Epoch 33/50\n",
      "\u001b[1m303/303\u001b[0m \u001b[32m━━━━━━━━━━━━━━━━━━━━\u001b[0m\u001b[37m\u001b[0m \u001b[1m3s\u001b[0m 10ms/step - accuracy: 0.8540 - auc: 0.9258 - loss: 0.3453 - pr_auc: 0.4268 - precision: 0.2175 - recall: 0.8569 - val_accuracy: 0.8369 - val_auc: 0.8985 - val_loss: 0.3831 - val_pr_auc: 0.4233 - val_precision: 0.1971 - val_recall: 0.8240 - learning_rate: 2.5000e-04\n",
      "Epoch 33/50\n",
      "\u001b[1m303/303\u001b[0m \u001b[32m━━━━━━━━━━━━━━━━━━━━\u001b[0m\u001b[37m\u001b[0m \u001b[1m2s\u001b[0m 7ms/step - accuracy: 0.8545 - auc: 0.9251 - loss: 0.3475 - pr_auc: 0.4241 - precision: 0.2186 - recall: 0.8600 - val_accuracy: 0.8347 - val_auc: 0.8990 - val_loss: 0.4053 - val_pr_auc: 0.4242 - val_precision: 0.1957 - val_recall: 0.8292 - learning_rate: 2.5000e-04\n",
      "Epoch 34/50\n",
      "\u001b[1m303/303\u001b[0m \u001b[32m━━━━━━━━━━━━━━━━━━━━\u001b[0m\u001b[37m\u001b[0m \u001b[1m2s\u001b[0m 7ms/step - accuracy: 0.8545 - auc: 0.9251 - loss: 0.3475 - pr_auc: 0.4241 - precision: 0.2186 - recall: 0.8600 - val_accuracy: 0.8347 - val_auc: 0.8990 - val_loss: 0.4053 - val_pr_auc: 0.4242 - val_precision: 0.1957 - val_recall: 0.8292 - learning_rate: 2.5000e-04\n",
      "Epoch 34/50\n",
      "\u001b[1m303/303\u001b[0m \u001b[32m━━━━━━━━━━━━━━━━━━━━\u001b[0m\u001b[37m\u001b[0m \u001b[1m4s\u001b[0m 12ms/step - accuracy: 0.8527 - auc: 0.9271 - loss: 0.3425 - pr_auc: 0.4344 - precision: 0.2165 - recall: 0.8603 - val_accuracy: 0.8471 - val_auc: 0.8989 - val_loss: 0.3768 - val_pr_auc: 0.4223 - val_precision: 0.2061 - val_recall: 0.8095 - learning_rate: 2.5000e-04\n",
      "Epoch 35/50\n",
      "\u001b[1m303/303\u001b[0m \u001b[32m━━━━━━━━━━━━━━━━━━━━\u001b[0m\u001b[37m\u001b[0m \u001b[1m4s\u001b[0m 12ms/step - accuracy: 0.8527 - auc: 0.9271 - loss: 0.3425 - pr_auc: 0.4344 - precision: 0.2165 - recall: 0.8603 - val_accuracy: 0.8471 - val_auc: 0.8989 - val_loss: 0.3768 - val_pr_auc: 0.4223 - val_precision: 0.2061 - val_recall: 0.8095 - learning_rate: 2.5000e-04\n",
      "Epoch 35/50\n",
      "\u001b[1m300/303\u001b[0m \u001b[32m━━━━━━━━━━━━━━━━━━━\u001b[0m\u001b[37m━\u001b[0m \u001b[1m0s\u001b[0m 9ms/step - accuracy: 0.8530 - auc: 0.9266 - loss: 0.3425 - pr_auc: 0.4200 - precision: 0.2161 - recall: 0.8562"
     ]
    },
    {
     "name": "stderr",
     "output_type": "stream",
     "text": [
      "WARNING:absl:You are saving your model as an HDF5 file via `model.save()` or `keras.saving.save_model(model)`. This file format is considered legacy. We recommend using instead the native Keras format, e.g. `model.save('my_model.keras')` or `keras.saving.save_model(model, 'my_model.keras')`. \n"
     ]
    },
    {
     "name": "stdout",
     "output_type": "stream",
     "text": [
      "\u001b[1m303/303\u001b[0m \u001b[32m━━━━━━━━━━━━━━━━━━━━\u001b[0m\u001b[37m\u001b[0m \u001b[1m3s\u001b[0m 10ms/step - accuracy: 0.8538 - auc: 0.9275 - loss: 0.3406 - pr_auc: 0.4299 - precision: 0.2178 - recall: 0.8609 - val_accuracy: 0.8419 - val_auc: 0.8998 - val_loss: 0.3790 - val_pr_auc: 0.4262 - val_precision: 0.2008 - val_recall: 0.8126 - learning_rate: 2.5000e-04\n",
      "Epoch 36/50\n",
      "Epoch 36/50\n",
      "\u001b[1m303/303\u001b[0m \u001b[32m━━━━━━━━━━━━━━━━━━━━\u001b[0m\u001b[37m\u001b[0m \u001b[1m4s\u001b[0m 12ms/step - accuracy: 0.8554 - auc: 0.9277 - loss: 0.3402 - pr_auc: 0.4289 - precision: 0.2204 - recall: 0.8646 - val_accuracy: 0.8694 - val_auc: 0.8991 - val_loss: 0.3341 - val_pr_auc: 0.4258 - val_precision: 0.2306 - val_recall: 0.7826 - learning_rate: 2.5000e-04\n",
      "Epoch 37/50\n",
      "\u001b[1m303/303\u001b[0m \u001b[32m━━━━━━━━━━━━━━━━━━━━\u001b[0m\u001b[37m\u001b[0m \u001b[1m4s\u001b[0m 12ms/step - accuracy: 0.8554 - auc: 0.9277 - loss: 0.3402 - pr_auc: 0.4289 - precision: 0.2204 - recall: 0.8646 - val_accuracy: 0.8694 - val_auc: 0.8991 - val_loss: 0.3341 - val_pr_auc: 0.4258 - val_precision: 0.2306 - val_recall: 0.7826 - learning_rate: 2.5000e-04\n",
      "Epoch 37/50\n",
      "\u001b[1m303/303\u001b[0m \u001b[32m━━━━━━━━━━━━━━━━━━━━\u001b[0m\u001b[37m\u001b[0m \u001b[1m3s\u001b[0m 11ms/step - accuracy: 0.8595 - auc: 0.9290 - loss: 0.3377 - pr_auc: 0.4422 - precision: 0.2254 - recall: 0.8635 - val_accuracy: 0.8444 - val_auc: 0.8993 - val_loss: 0.3827 - val_pr_auc: 0.4254 - val_precision: 0.2043 - val_recall: 0.8188 - learning_rate: 2.5000e-04\n",
      "Epoch 38/50\n",
      "\u001b[1m303/303\u001b[0m \u001b[32m━━━━━━━━━━━━━━━━━━━━\u001b[0m\u001b[37m\u001b[0m \u001b[1m3s\u001b[0m 11ms/step - accuracy: 0.8595 - auc: 0.9290 - loss: 0.3377 - pr_auc: 0.4422 - precision: 0.2254 - recall: 0.8635 - val_accuracy: 0.8444 - val_auc: 0.8993 - val_loss: 0.3827 - val_pr_auc: 0.4254 - val_precision: 0.2043 - val_recall: 0.8188 - learning_rate: 2.5000e-04\n",
      "Epoch 38/50\n",
      "\u001b[1m303/303\u001b[0m \u001b[32m━━━━━━━━━━━━━━━━━━━━\u001b[0m\u001b[37m\u001b[0m \u001b[1m3s\u001b[0m 9ms/step - accuracy: 0.8562 - auc: 0.9287 - loss: 0.3386 - pr_auc: 0.4347 - precision: 0.2206 - recall: 0.8589 - val_accuracy: 0.8508 - val_auc: 0.8968 - val_loss: 0.3708 - val_pr_auc: 0.4225 - val_precision: 0.2095 - val_recall: 0.8043 - learning_rate: 2.5000e-04\n",
      "Epoch 39/50\n",
      "\u001b[1m303/303\u001b[0m \u001b[32m━━━━━━━━━━━━━━━━━━━━\u001b[0m\u001b[37m\u001b[0m \u001b[1m3s\u001b[0m 9ms/step - accuracy: 0.8562 - auc: 0.9287 - loss: 0.3386 - pr_auc: 0.4347 - precision: 0.2206 - recall: 0.8589 - val_accuracy: 0.8508 - val_auc: 0.8968 - val_loss: 0.3708 - val_pr_auc: 0.4225 - val_precision: 0.2095 - val_recall: 0.8043 - learning_rate: 2.5000e-04\n",
      "Epoch 39/50\n",
      "\u001b[1m303/303\u001b[0m \u001b[32m━━━━━━━━━━━━━━━━━━━━\u001b[0m\u001b[37m\u001b[0m \u001b[1m3s\u001b[0m 9ms/step - accuracy: 0.8591 - auc: 0.9297 - loss: 0.3360 - pr_auc: 0.4321 - precision: 0.2245 - recall: 0.8609 - val_accuracy: 0.8485 - val_auc: 0.8965 - val_loss: 0.3773 - val_pr_auc: 0.4222 - val_precision: 0.2076 - val_recall: 0.8095 - learning_rate: 2.5000e-04\n",
      "Epoch 40/50\n",
      "\u001b[1m303/303\u001b[0m \u001b[32m━━━━━━━━━━━━━━━━━━━━\u001b[0m\u001b[37m\u001b[0m \u001b[1m3s\u001b[0m 9ms/step - accuracy: 0.8591 - auc: 0.9297 - loss: 0.3360 - pr_auc: 0.4321 - precision: 0.2245 - recall: 0.8609 - val_accuracy: 0.8485 - val_auc: 0.8965 - val_loss: 0.3773 - val_pr_auc: 0.4222 - val_precision: 0.2076 - val_recall: 0.8095 - learning_rate: 2.5000e-04\n",
      "Epoch 40/50\n",
      "\u001b[1m303/303\u001b[0m \u001b[32m━━━━━━━━━━━━━━━━━━━━\u001b[0m\u001b[37m\u001b[0m \u001b[1m5s\u001b[0m 8ms/step - accuracy: 0.8558 - auc: 0.9295 - loss: 0.3367 - pr_auc: 0.4380 - precision: 0.2217 - recall: 0.8706 - val_accuracy: 0.8578 - val_auc: 0.8985 - val_loss: 0.3537 - val_pr_auc: 0.4261 - val_precision: 0.2165 - val_recall: 0.7940 - learning_rate: 2.5000e-04\n",
      "Epoch 41/50\n",
      "\u001b[1m303/303\u001b[0m \u001b[32m━━━━━━━━━━━━━━━━━━━━\u001b[0m\u001b[37m\u001b[0m \u001b[1m5s\u001b[0m 8ms/step - accuracy: 0.8558 - auc: 0.9295 - loss: 0.3367 - pr_auc: 0.4380 - precision: 0.2217 - recall: 0.8706 - val_accuracy: 0.8578 - val_auc: 0.8985 - val_loss: 0.3537 - val_pr_auc: 0.4261 - val_precision: 0.2165 - val_recall: 0.7940 - learning_rate: 2.5000e-04\n",
      "Epoch 41/50\n",
      "\u001b[1m303/303\u001b[0m \u001b[32m━━━━━━━━━━━━━━━━━━━━\u001b[0m\u001b[37m\u001b[0m \u001b[1m0s\u001b[0m 8ms/step - accuracy: 0.8605 - auc: 0.9313 - loss: 0.3332 - pr_auc: 0.4435 - precision: 0.2280 - recall: 0.8608"
     ]
    },
    {
     "name": "stderr",
     "output_type": "stream",
     "text": [
      "WARNING:absl:You are saving your model as an HDF5 file via `model.save()` or `keras.saving.save_model(model)`. This file format is considered legacy. We recommend using instead the native Keras format, e.g. `model.save('my_model.keras')` or `keras.saving.save_model(model, 'my_model.keras')`. \n"
     ]
    },
    {
     "name": "stdout",
     "output_type": "stream",
     "text": [
      "\u001b[1m303/303\u001b[0m \u001b[32m━━━━━━━━━━━━━━━━━━━━\u001b[0m\u001b[37m\u001b[0m \u001b[1m3s\u001b[0m 11ms/step - accuracy: 0.8603 - auc: 0.9301 - loss: 0.3348 - pr_auc: 0.4383 - precision: 0.2265 - recall: 0.8643 - val_accuracy: 0.8537 - val_auc: 0.8989 - val_loss: 0.3599 - val_pr_auc: 0.4267 - val_precision: 0.2122 - val_recall: 0.7992 - learning_rate: 1.2500e-04\n",
      "Epoch 42/50\n",
      "Epoch 42/50\n",
      "\u001b[1m303/303\u001b[0m \u001b[32m━━━━━━━━━━━━━━━━━━━━\u001b[0m\u001b[37m\u001b[0m \u001b[1m4s\u001b[0m 13ms/step - accuracy: 0.8600 - auc: 0.9314 - loss: 0.3316 - pr_auc: 0.4411 - precision: 0.2262 - recall: 0.8649 - val_accuracy: 0.8502 - val_auc: 0.8984 - val_loss: 0.3697 - val_pr_auc: 0.4251 - val_precision: 0.2093 - val_recall: 0.8075 - learning_rate: 1.2500e-04\n",
      "Epoch 43/50\n",
      "\u001b[1m303/303\u001b[0m \u001b[32m━━━━━━━━━━━━━━━━━━━━\u001b[0m\u001b[37m\u001b[0m \u001b[1m4s\u001b[0m 13ms/step - accuracy: 0.8600 - auc: 0.9314 - loss: 0.3316 - pr_auc: 0.4411 - precision: 0.2262 - recall: 0.8649 - val_accuracy: 0.8502 - val_auc: 0.8984 - val_loss: 0.3697 - val_pr_auc: 0.4251 - val_precision: 0.2093 - val_recall: 0.8075 - learning_rate: 1.2500e-04\n",
      "Epoch 43/50\n",
      "\u001b[1m300/303\u001b[0m \u001b[32m━━━━━━━━━━━━━━━━━━━\u001b[0m\u001b[37m━\u001b[0m \u001b[1m0s\u001b[0m 8ms/step - accuracy: 0.8589 - auc: 0.9340 - loss: 0.3288 - pr_auc: 0.4442 - precision: 0.2300 - recall: 0.8684"
     ]
    },
    {
     "name": "stderr",
     "output_type": "stream",
     "text": [
      "WARNING:absl:You are saving your model as an HDF5 file via `model.save()` or `keras.saving.save_model(model)`. This file format is considered legacy. We recommend using instead the native Keras format, e.g. `model.save('my_model.keras')` or `keras.saving.save_model(model, 'my_model.keras')`. \n"
     ]
    },
    {
     "name": "stdout",
     "output_type": "stream",
     "text": [
      "\u001b[1m303/303\u001b[0m \u001b[32m━━━━━━━━━━━━━━━━━━━━\u001b[0m\u001b[37m\u001b[0m \u001b[1m3s\u001b[0m 9ms/step - accuracy: 0.8593 - auc: 0.9342 - loss: 0.3248 - pr_auc: 0.4390 - precision: 0.2258 - recall: 0.8680 - val_accuracy: 0.8486 - val_auc: 0.8987 - val_loss: 0.3694 - val_pr_auc: 0.4276 - val_precision: 0.2078 - val_recall: 0.8095 - learning_rate: 1.2500e-04\n",
      "Epoch 44/50\n",
      "Epoch 44/50\n",
      "\u001b[1m303/303\u001b[0m \u001b[32m━━━━━━━━━━━━━━━━━━━━\u001b[0m\u001b[37m\u001b[0m \u001b[1m2s\u001b[0m 7ms/step - accuracy: 0.8566 - auc: 0.9312 - loss: 0.3322 - pr_auc: 0.4280 - precision: 0.2229 - recall: 0.8718 - val_accuracy: 0.8490 - val_auc: 0.8986 - val_loss: 0.3656 - val_pr_auc: 0.4269 - val_precision: 0.2083 - val_recall: 0.8095 - learning_rate: 1.2500e-04\n",
      "Epoch 45/50\n",
      "\u001b[1m303/303\u001b[0m \u001b[32m━━━━━━━━━━━━━━━━━━━━\u001b[0m\u001b[37m\u001b[0m \u001b[1m2s\u001b[0m 7ms/step - accuracy: 0.8566 - auc: 0.9312 - loss: 0.3322 - pr_auc: 0.4280 - precision: 0.2229 - recall: 0.8718 - val_accuracy: 0.8490 - val_auc: 0.8986 - val_loss: 0.3656 - val_pr_auc: 0.4269 - val_precision: 0.2083 - val_recall: 0.8095 - learning_rate: 1.2500e-04\n",
      "Epoch 45/50\n",
      "\u001b[1m303/303\u001b[0m \u001b[32m━━━━━━━━━━━━━━━━━━━━\u001b[0m\u001b[37m\u001b[0m \u001b[1m3s\u001b[0m 8ms/step - accuracy: 0.8569 - auc: 0.9316 - loss: 0.3314 - pr_auc: 0.4402 - precision: 0.2232 - recall: 0.8718 - val_accuracy: 0.8484 - val_auc: 0.8983 - val_loss: 0.3698 - val_pr_auc: 0.4259 - val_precision: 0.2066 - val_recall: 0.8033 - learning_rate: 1.2500e-04\n",
      "Epoch 46/50\n",
      "\u001b[1m303/303\u001b[0m \u001b[32m━━━━━━━━━━━━━━━━━━━━\u001b[0m\u001b[37m\u001b[0m \u001b[1m3s\u001b[0m 8ms/step - accuracy: 0.8569 - auc: 0.9316 - loss: 0.3314 - pr_auc: 0.4402 - precision: 0.2232 - recall: 0.8718 - val_accuracy: 0.8484 - val_auc: 0.8983 - val_loss: 0.3698 - val_pr_auc: 0.4259 - val_precision: 0.2066 - val_recall: 0.8033 - learning_rate: 1.2500e-04\n",
      "Epoch 46/50\n",
      "\u001b[1m303/303\u001b[0m \u001b[32m━━━━━━━━━━━━━━━━━━━━\u001b[0m\u001b[37m\u001b[0m \u001b[1m3s\u001b[0m 9ms/step - accuracy: 0.8593 - auc: 0.9321 - loss: 0.3301 - pr_auc: 0.4400 - precision: 0.2257 - recall: 0.8678 - val_accuracy: 0.8545 - val_auc: 0.8985 - val_loss: 0.3613 - val_pr_auc: 0.4258 - val_precision: 0.2138 - val_recall: 0.8033 - learning_rate: 1.2500e-04\n",
      "Epoch 47/50\n",
      "\u001b[1m303/303\u001b[0m \u001b[32m━━━━━━━━━━━━━━━━━━━━\u001b[0m\u001b[37m\u001b[0m \u001b[1m3s\u001b[0m 9ms/step - accuracy: 0.8593 - auc: 0.9321 - loss: 0.3301 - pr_auc: 0.4400 - precision: 0.2257 - recall: 0.8678 - val_accuracy: 0.8545 - val_auc: 0.8985 - val_loss: 0.3613 - val_pr_auc: 0.4258 - val_precision: 0.2138 - val_recall: 0.8033 - learning_rate: 1.2500e-04\n",
      "Epoch 47/50\n",
      "\u001b[1m303/303\u001b[0m \u001b[32m━━━━━━━━━━━━━━━━━━━━\u001b[0m\u001b[37m\u001b[0m \u001b[1m3s\u001b[0m 10ms/step - accuracy: 0.8587 - auc: 0.9326 - loss: 0.3287 - pr_auc: 0.4451 - precision: 0.2254 - recall: 0.8715 - val_accuracy: 0.8561 - val_auc: 0.8982 - val_loss: 0.3569 - val_pr_auc: 0.4237 - val_precision: 0.2143 - val_recall: 0.7930 - learning_rate: 1.2500e-04\n",
      "Epoch 48/50\n",
      "\u001b[1m303/303\u001b[0m \u001b[32m━━━━━━━━━━━━━━━━━━━━\u001b[0m\u001b[37m\u001b[0m \u001b[1m3s\u001b[0m 10ms/step - accuracy: 0.8587 - auc: 0.9326 - loss: 0.3287 - pr_auc: 0.4451 - precision: 0.2254 - recall: 0.8715 - val_accuracy: 0.8561 - val_auc: 0.8982 - val_loss: 0.3569 - val_pr_auc: 0.4237 - val_precision: 0.2143 - val_recall: 0.7930 - learning_rate: 1.2500e-04\n",
      "Epoch 48/50\n",
      "\u001b[1m303/303\u001b[0m \u001b[32m━━━━━━━━━━━━━━━━━━━━\u001b[0m\u001b[37m\u001b[0m \u001b[1m2s\u001b[0m 7ms/step - accuracy: 0.8580 - auc: 0.9327 - loss: 0.3286 - pr_auc: 0.4407 - precision: 0.2240 - recall: 0.8672 - val_accuracy: 0.8497 - val_auc: 0.8966 - val_loss: 0.3664 - val_pr_auc: 0.4255 - val_precision: 0.2079 - val_recall: 0.8023 - learning_rate: 1.2500e-04\n",
      "Epoch 49/50\n",
      "\u001b[1m303/303\u001b[0m \u001b[32m━━━━━━━━━━━━━━━━━━━━\u001b[0m\u001b[37m\u001b[0m \u001b[1m2s\u001b[0m 7ms/step - accuracy: 0.8580 - auc: 0.9327 - loss: 0.3286 - pr_auc: 0.4407 - precision: 0.2240 - recall: 0.8672 - val_accuracy: 0.8497 - val_auc: 0.8966 - val_loss: 0.3664 - val_pr_auc: 0.4255 - val_precision: 0.2079 - val_recall: 0.8023 - learning_rate: 1.2500e-04\n",
      "Epoch 49/50\n",
      "\u001b[1m303/303\u001b[0m \u001b[32m━━━━━━━━━━━━━━━━━━━━\u001b[0m\u001b[37m\u001b[0m \u001b[1m2s\u001b[0m 7ms/step - accuracy: 0.8603 - auc: 0.9331 - loss: 0.3278 - pr_auc: 0.4478 - precision: 0.2276 - recall: 0.8723 - val_accuracy: 0.8510 - val_auc: 0.8968 - val_loss: 0.3648 - val_pr_auc: 0.4240 - val_precision: 0.2092 - val_recall: 0.8012 - learning_rate: 6.2500e-05\n",
      "Epoch 50/50\n",
      "\u001b[1m303/303\u001b[0m \u001b[32m━━━━━━━━━━━━━━━━━━━━\u001b[0m\u001b[37m\u001b[0m \u001b[1m2s\u001b[0m 7ms/step - accuracy: 0.8603 - auc: 0.9331 - loss: 0.3278 - pr_auc: 0.4478 - precision: 0.2276 - recall: 0.8723 - val_accuracy: 0.8510 - val_auc: 0.8968 - val_loss: 0.3648 - val_pr_auc: 0.4240 - val_precision: 0.2092 - val_recall: 0.8012 - learning_rate: 6.2500e-05\n",
      "Epoch 50/50\n",
      "\u001b[1m303/303\u001b[0m \u001b[32m━━━━━━━━━━━━━━━━━━━━\u001b[0m\u001b[37m\u001b[0m \u001b[1m3s\u001b[0m 10ms/step - accuracy: 0.8614 - auc: 0.9339 - loss: 0.3255 - pr_auc: 0.4460 - precision: 0.2289 - recall: 0.8712 - val_accuracy: 0.8499 - val_auc: 0.8973 - val_loss: 0.3687 - val_pr_auc: 0.4254 - val_precision: 0.2093 - val_recall: 0.8095 - learning_rate: 6.2500e-05\n",
      "\u001b[1m303/303\u001b[0m \u001b[32m━━━━━━━━━━━━━━━━━━━━\u001b[0m\u001b[37m\u001b[0m \u001b[1m3s\u001b[0m 10ms/step - accuracy: 0.8614 - auc: 0.9339 - loss: 0.3255 - pr_auc: 0.4460 - precision: 0.2289 - recall: 0.8712 - val_accuracy: 0.8499 - val_auc: 0.8973 - val_loss: 0.3687 - val_pr_auc: 0.4254 - val_precision: 0.2093 - val_recall: 0.8095 - learning_rate: 6.2500e-05\n"
     ]
    }
   ],
   "source": [
    "# Train the CNN model\n",
    "history = model.fit(\n",
    "    X_train_final, y_train_final,\n",
    "    validation_data=(X_val, y_val),\n",
    "    epochs=50,\n",
    "    batch_size=256,\n",
    "    class_weight=class_weight_dict,\n",
    "    callbacks=callbacks,\n",
    "    verbose=1\n",
    ")"
   ]
  },
  {
   "cell_type": "code",
   "execution_count": 39,
   "id": "bfef8444",
   "metadata": {},
   "outputs": [
    {
     "data": {
      "image/png": "[encoded data removed]",
      "text/plain": [
       "<Figure size 1200x800 with 4 Axes>"
      ]
     },
     "metadata": {},
     "output_type": "display_data"
    },
    {
     "name": "stdout",
     "output_type": "stream",
     "text": [
      "\n",
      "Test Set Performance:\n",
      "Accuracy: 0.8439\n",
      "Precision: 0.1951\n",
      "Recall: 0.8472\n",
      "ROC AUC: 0.9205\n",
      "PR AUC: 0.4736\n",
      "\n",
      "Classification Report:\n",
      "              precision    recall  f1-score   support\n",
      "\n",
      "           0       0.99      0.84      0.91     22560\n",
      "           1       0.20      0.85      0.32      1008\n",
      "\n",
      "    accuracy                           0.84     23568\n",
      "   macro avg       0.59      0.85      0.61     23568\n",
      "weighted avg       0.96      0.84      0.89     23568\n",
      "\n",
      "\n",
      "Confusion Matrix:\n",
      "[[19036  3524]\n",
      " [  154   854]]\n",
      "\n",
      "Classification Report:\n",
      "              precision    recall  f1-score   support\n",
      "\n",
      "           0       0.99      0.84      0.91     22560\n",
      "           1       0.20      0.85      0.32      1008\n",
      "\n",
      "    accuracy                           0.84     23568\n",
      "   macro avg       0.59      0.85      0.61     23568\n",
      "weighted avg       0.96      0.84      0.89     23568\n",
      "\n",
      "\n",
      "Confusion Matrix:\n",
      "[[19036  3524]\n",
      " [  154   854]]\n"
     ]
    }
   ],
   "source": [
    "# Plot training history\n",
    "fig, axes = plt.subplots(2, 2, figsize=(12, 8))\n",
    "\n",
    "# Loss\n",
    "axes[0,0].plot(history.history['loss'], label='Training Loss')\n",
    "axes[0,0].plot(history.history['val_loss'], label='Validation Loss')\n",
    "axes[0,0].set_title('Model Loss')\n",
    "axes[0,0].set_xlabel('Epoch')\n",
    "axes[0,0].set_ylabel('Loss')\n",
    "axes[0,0].legend()\n",
    "\n",
    "# Accuracy\n",
    "axes[0,1].plot(history.history['accuracy'], label='Training Accuracy')\n",
    "axes[0,1].plot(history.history['val_accuracy'], label='Validation Accuracy')\n",
    "axes[0,1].set_title('Model Accuracy')\n",
    "axes[0,1].set_xlabel('Epoch')\n",
    "axes[0,1].set_ylabel('Accuracy')\n",
    "axes[0,1].legend()\n",
    "\n",
    "# ROC AUC\n",
    "axes[1,0].plot(history.history['auc'], label='Training AUC')\n",
    "axes[1,0].plot(history.history['val_auc'], label='Validation AUC')\n",
    "axes[1,0].set_title('ROC AUC')\n",
    "axes[1,0].set_xlabel('Epoch')\n",
    "axes[1,0].set_ylabel('AUC')\n",
    "axes[1,0].legend()\n",
    "\n",
    "# PR AUC\n",
    "axes[1,1].plot(history.history['pr_auc'], label='Training PR-AUC')\n",
    "axes[1,1].plot(history.history['val_pr_auc'], label='Validation PR-AUC')\n",
    "axes[1,1].set_title('Precision-Recall AUC')\n",
    "axes[1,1].set_xlabel('Epoch')\n",
    "axes[1,1].set_ylabel('PR-AUC')\n",
    "axes[1,1].legend()\n",
    "\n",
    "plt.tight_layout()\n",
    "plt.show()\n",
    "\n",
    "# Evaluate on test set\n",
    "test_loss, test_acc, test_precision, test_recall, test_auc, test_pr_auc = model.evaluate(\n",
    "    X_test, y_test, verbose=0\n",
    ")\n",
    "\n",
    "print(f\"\\nTest Set Performance:\")\n",
    "print(f\"Accuracy: {test_acc:.4f}\")\n",
    "print(f\"Precision: {test_precision:.4f}\")\n",
    "print(f\"Recall: {test_recall:.4f}\")\n",
    "print(f\"ROC AUC: {test_auc:.4f}\")\n",
    "print(f\"PR AUC: {test_pr_auc:.4f}\")\n",
    "\n",
    "# Get predictions\n",
    "y_pred_proba = model.predict(X_test, verbose=0)\n",
    "y_pred = (y_pred_proba > 0.5).astype(int)\n",
    "\n",
    "# Additional metrics\n",
    "\n",
    "print(f\"\\nClassification Report:\")\n",
    "print(classification_report(y_test, y_pred))\n",
    "\n",
    "print(f\"\\nConfusion Matrix:\")\n",
    "print(confusion_matrix(y_test, y_pred))"
   ]
  },
  {
   "cell_type": "code",
   "execution_count": null,
   "id": "95dd298b",
   "metadata": {},
   "outputs": [
    {
     "name": "stdout",
     "output_type": "stream",
     "text": [
      "Creating submission file...\n",
      "Submission file saved: cnn_predictions.csv\n",
      "Shape: (23568, 3)\n",
      "Sample predictions:\n",
      "     transcript_id  transcript_position     score\n",
      "0  ENST00000000233                  244  0.059507\n",
      "1  ENST00000000233                  261  0.799275\n",
      "2  ENST00000000233                  316  0.003179\n",
      "3  ENST00000000233                  332  0.602660\n",
      "4  ENST00000000233                  368  0.390310\n",
      "5  ENST00000000233                  404  0.212730\n",
      "6  ENST00000000233                  431  0.699923\n",
      "7  ENST00000000233                  440  0.069796\n",
      "8  ENST00000000233                  471  0.541594\n",
      "9  ENST00000000233                  539  0.357305\n",
      "\n",
      "Prediction Statistics:\n",
      "Mean score: 0.2404\n",
      "Std score: 0.2901\n",
      "Min score: 0.0000\n",
      "Max score: 0.9968\n",
      "Predicted positives (>0.5): 4378\n"
     ]
    }
   ],
   "source": [
    "# Create submission file\n",
    "print(\"Creating submission file...\")\n",
    "\n",
    "# Get test data indices for submission\n",
    "test_indices = cnn_features.index[test_mask]\n",
    "test_transcript_ids = [idx[0] for idx in test_indices]\n",
    "test_positions = [idx[1] for idx in test_indices]\n",
    "\n",
    "# Create submission dataframe\n",
    "submission_df = pd.DataFrame({\n",
    "    'transcript_id': test_transcript_ids,\n",
    "    'transcript_position': test_positions,\n",
    "    'score': y_pred_proba.flatten()\n",
    "})\n",
    "\n",
    "# Save submission file\n",
    "submission_df.to_csv('../predictions/dataset0_predictions_cnn.csv', index=False)\n",
    "print(f\"Submission file saved: ../predictions/dataset0_predictions_cnn.csv\")\n",
    "print(f\"Shape: {submission_df.shape}\")\n",
    "print(f\"Sample predictions:\")\n",
    "print(submission_df.head(10))\n",
    "\n",
    "# Summary statistics\n",
    "print(f\"\\nPrediction Statistics:\")\n",
    "print(f\"Mean score: {submission_df['score'].mean():.4f}\")\n",
    "print(f\"Std score: {submission_df['score'].std():.4f}\")\n",
    "print(f\"Min score: {submission_df['score'].min():.4f}\")\n",
    "print(f\"Max score: {submission_df['score'].max():.4f}\")\n",
    "print(f\"Predicted positives (>0.5): {(submission_df['score'] > 0.5).sum()}\")"
   ]
  }
 ],
 "metadata": {
  "kernelspec": {
   "display_name": "Python 3",
   "language": "python",
   "name": "python3"
  },
  "language_info": {
   "codemirror_mode": {
    "name": "ipython",
    "version": 3
   },
   "file_extension": ".py",
   "mimetype": "text/x-python",
   "name": "python",
   "nbconvert_exporter": "python",
   "pygments_lexer": "ipython3",
   "version": "3.13.7"
  }
 },
 "nbformat": 4,
 "nbformat_minor": 5
}
