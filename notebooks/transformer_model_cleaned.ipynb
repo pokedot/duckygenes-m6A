{
 "cells": [
  {
   "cell_type": "markdown",
   "metadata": {},
   "source": [
    "# M6 with Transformer-based MIL Framework \n",
    "\n",
    "## Multiple Instance Learning with Transformer Architecture\n",
    "\n",
    "This notebook implements an **improved Transformer-based Multiple Instance Learning (MIL)** approach for m6A modification detection:\n",
    "\n",
    "- **Each site is a \"bag\"** containing multiple \"instances\" (reads)\n",
    "- **Bag label**: 1 if modified (m6A present), 0 if unmodified\n",
    "- **Instance labels**: Unknown (we don't know which specific reads show modification)\n",
    "- **MIL assumption**: A bag is positive if at least one instance is positive\n",
    "\n",
    "\n",
    "### Transformer Architecture\n",
    "\n",
    "The improved Transformer model uses:\n",
    "- **Multi-head self-attention**: Learns relationships between all reads in a bag (order-independent)\n",
    "- **NO position encoding**: Reads are treated as an unordered set\n",
    "- **Attention masking**: Padded positions are properly masked out\n",
    "- **Multi-head attention pooling**: Learnable queries extract bag-level representation\n",
    "- **Feed-forward networks**: Non-linear transformations\n",
    "- **Layer normalization**: Training stability\n",
    "\n",
    "### Key Advantages\n",
    "\n",
    "- **Permutation invariant**: Order doesn't matter (biologically appropriate)\n",
    "- **Uses more reads**: 50 vs 20 = 2.5x more information per site\n",
    "- **Honest padding**: Zero-padding with masks instead of artificial duplication\n",
    "- **More training data**: Lower minimum threshold (15 reads) includes more sites\n",
    "- Captures complex dependencies between reads\n",
    "- Parallel processing of all instances\n",
    "- Multi-head attention provides rich interpretability\n",
    "- More robust and generalizable predictions\n"
   ]
  },
  {
   "cell_type": "markdown",
   "metadata": {},
   "source": [
    "## 1. Import Libraries"
   ]
  },
  {
   "cell_type": "code",
   "execution_count": 1,
   "metadata": {},
   "outputs": [
    {
     "name": "stdout",
     "output_type": "stream",
     "text": [
      "PyTorch version: 2.8.0+cu128\n",
      "CUDA available: True\n"
     ]
    }
   ],
   "source": [
    "import pandas as pd\n",
    "import numpy as np\n",
    "import gzip\n",
    "import json\n",
    "import os\n",
    "import math\n",
    "import torch\n",
    "import torch.nn as nn\n",
    "import torch.nn.functional as F\n",
    "import torch.optim as optim\n",
    "from torch.utils.data import Dataset, DataLoader\n",
    "from torch.cuda.amp import autocast, GradScaler\n",
    "from sklearn.metrics import roc_auc_score, average_precision_score, roc_curve, precision_recall_curve, f1_score\n",
    "import matplotlib.pyplot as plt\n",
    "from tqdm import tqdm\n",
    "from pathlib import Path\n",
    "from datetime import datetime\n",
    "import warnings\n",
    "warnings.filterwarnings('ignore')\n",
    "\n",
    "print(f\"PyTorch version: {torch.__version__}\")\n",
    "print(f\"CUDA available: {torch.cuda.is_available()}\")"
   ]
  },
  {
   "cell_type": "markdown",
   "metadata": {},
   "source": [
    "## 2. Configuration\n",
    "\n",
    "Define all hyperparameters and settings for the Transformer model"
   ]
  },
  {
   "cell_type": "code",
   "execution_count": null,
   "metadata": {},
   "outputs": [
    {
     "name": "stdout",
     "output_type": "stream",
     "text": [
      "Configuration loaded successfully\n",
      "Transformer config: 5 layers, 4 heads, embed_dim=128\n",
      "Multi-head attention pooling: 4 query heads (method=attention)\n",
      "Permutation augmentation: True\n",
      "NO positional encoding - permutation invariant design\n",
      "\n",
      "✓ NEW: Using 50 reads per site (up from 20)\n",
      "✓ NEW: Minimum 15 reads required\n",
      "✓ NEW: Zero-padding with attention masking enabled\n",
      "Batch size: 16; Warmup steps: 1000\n"
     ]
    }
   ],
   "source": [
    "class Config:\n",
    "    \"\"\"Configuration for Transformer-based MIL m6A detection\"\"\"\n",
    "    \n",
    "    # Data parameters\n",
    "    N_READS_PER_SITE = 50  # Max reads per bag (sequence length) - INCREASED from 20\n",
    "    MIN_READS_THRESHOLD = 15  # Minimum reads required to include site - NEW\n",
    "    INPUT_DIM = 9\n",
    "    USE_PADDING = True  # Use zero-padding with attention masking - NEW\n",
    "    \n",
    "    # Transformer architecture\n",
    "    EMBED_DIM = 128  # Embedding dimension (d_model)\n",
    "    NUM_HEADS = 4  # Number of attention heads in transformer\n",
    "    NUM_LAYERS = 5  # Number of transformer layers\n",
    "    FF_DIM = 256  # Feed-forward network dimension\n",
    "    DROPOUT = 0.3\n",
    "    \n",
    "    # Multi-head attention pooling\n",
    "    POOLING_HEADS = 4  # Number of learnable query vectors for pooling\n",
    "    # Pooling method: 'attention' uses MultiHeadAttentionPooling; 'cls' uses a learned CLS token\n",
    "    POOLING_METHOD = 'attention'\n",
    "    \n",
    "    # Training parameters\n",
    "    BATCH_SIZE = 16  # REDUCED from 32 due to larger sequence length\n",
    "    EPOCHS = 50\n",
    "    LEARNING_RATE = 1e-4\n",
    "    WEIGHT_DECAY = 1e-5\n",
    "    WARMUP_STEPS = 1000  # Number of optimizer steps to warm up linearly\n",
    "    \n",
    "    # Focal Loss for imbalanced data\n",
    "    USE_FOCAL_LOSS = True\n",
    "    FOCAL_ALPHA = 0.75\n",
    "    FOCAL_GAMMA = 2.0\n",
    "    \n",
    "    # Label smoothing (epsilon). 0.0 disables smoothing.\n",
    "    LABEL_SMOOTH = 0.0\n",
    "    \n",
    "    # Regularization (extra term added to loss). Type 'attention_entropy' supported.\n",
    "    REGULARIZATION_WEIGHT = 0.0\n",
    "    REGULARIZATION_TYPE = 'attention_entropy'\n",
    "    \n",
    "    # Training optimization\n",
    "    MIXED_PRECISION = True\n",
    "    GRADIENT_CLIP = 1.0\n",
    "    NUM_WORKERS = 0\n",
    "    \n",
    "    # Early stopping\n",
    "    PATIENCE = 15\n",
    "    \n",
    "    # Permutation augmentation\n",
    "    USE_PERMUTATION_AUG = True  # Randomly permute read order during training\n",
    "    \n",
    "    # Data split ratios (by gene_id)\n",
    "    TRAIN_RATIO = 0.7\n",
    "    VALID_RATIO = 0.15\n",
    "    TEST_RATIO = 0.15\n",
    "    \n",
    "    # Paths\n",
    "    DATA_FILE = '../data/dataset0.json.gz'\n",
    "    LABELS_FILE = '../data/data.info.labelled'\n",
    "    OUTPUT_DIR = 'results_transformer'\n",
    "    CHECKPOINT_DIR = '../models/transformer'\n",
    "    \n",
    "    LOG_INTERVAL = 10\n",
    "\n",
    "config = Config()\n",
    "print(\"Configuration loaded successfully\")\n",
    "print(f\"Transformer config: {config.NUM_LAYERS} layers, {config.NUM_HEADS} heads, embed_dim={config.EMBED_DIM}\")\n",
    "print(f\"Multi-head attention pooling: {config.POOLING_HEADS} query heads (method={config.POOLING_METHOD})\")\n",
    "print(f\"Permutation augmentation: {config.USE_PERMUTATION_AUG}\")\n",
    "print(f\"NO positional encoding - permutation invariant design\")\n",
    "print(f\"\\n✓ NEW: Using {config.N_READS_PER_SITE} reads per site (up from 20)\")\n",
    "print(f\"✓ NEW: Minimum {config.MIN_READS_THRESHOLD} reads required\")\n",
    "print(f\"✓ NEW: Zero-padding with attention masking enabled\")\n",
    "print(f\"Batch size: {config.BATCH_SIZE}; Warmup steps: {config.WARMUP_STEPS}\")"
   ]
  },
  {
   "cell_type": "markdown",
   "metadata": {},
   "source": [
    "## 3. Loss Function\n",
    "\n",
    "Focal Loss handles class imbalance by down-weighting easy examples"
   ]
  },
  {
   "cell_type": "code",
   "execution_count": 3,
   "metadata": {},
   "outputs": [],
   "source": [
    "class MultiHeadAttentionPooling(nn.Module):\n",
    "    \"\"\"\n",
    "    Multi-head attention pooling for permutation-invariant aggregation\n",
    "    \n",
    "    Uses multiple learnable queries to extract different aspects of the bag,\n",
    "    then combines them for the final bag representation.\n",
    "    \n",
    "    NOW SUPPORTS ATTENTION MASKING for padded positions.\n",
    "    \"\"\"\n",
    "    \n",
    "    def __init__(self, d_model, num_heads=4, dropout=0.1):\n",
    "        super().__init__()\n",
    "        self.num_heads = num_heads\n",
    "        self.d_model = d_model\n",
    "        \n",
    "        # Learnable query vectors (one per head)\n",
    "        self.queries = nn.Parameter(torch.randn(num_heads, d_model))\n",
    "        \n",
    "        # Multi-head attention\n",
    "        self.attention = nn.MultiheadAttention(\n",
    "            embed_dim=d_model,\n",
    "            num_heads=num_heads,\n",
    "            dropout=dropout,\n",
    "            batch_first=True\n",
    "        )\n",
    "        \n",
    "        # Combine multiple heads\n",
    "        self.combine = nn.Sequential(\n",
    "            nn.Linear(d_model * num_heads, d_model),\n",
    "            nn.LayerNorm(d_model),\n",
    "            nn.ReLU(),\n",
    "            nn.Dropout(dropout)\n",
    "        )\n",
    "    \n",
    "    def forward(self, x, key_padding_mask=None):\n",
    "        \"\"\"\n",
    "        Args:\n",
    "            x: (batch_size, n_instances, d_model)\n",
    "            key_padding_mask: (batch_size, n_instances) - True for padding, False for real data\n",
    "        Returns:\n",
    "            bag_repr: (batch_size, d_model)\n",
    "            attention_weights: (batch_size, num_heads, n_instances)\n",
    "        \"\"\"\n",
    "        batch_size, n_instances, d_model = x.shape\n",
    "        \n",
    "        # Expand queries for batch\n",
    "        queries = self.queries.unsqueeze(0).expand(batch_size, -1, -1)  # (batch_size, num_heads, d_model)\n",
    "        \n",
    "        # Apply multi-head attention with masking\n",
    "        # key_padding_mask: True means ignore (padding), False means attend (real data)\n",
    "        attn_output, attn_weights = self.attention(\n",
    "            queries, x, x, \n",
    "            key_padding_mask=key_padding_mask,\n",
    "            average_attn_weights=False\n",
    "        )  # attn_output: (batch_size, num_heads, d_model)\n",
    "           # attn_weights: (batch_size, num_heads, num_heads, n_instances)\n",
    "        \n",
    "        # Extract attention weights (from queries to instances)\n",
    "        # Shape: (batch_size, num_heads, n_instances)\n",
    "        attn_weights = attn_weights.mean(dim=2)  # Average over query heads\n",
    "        \n",
    "        # Flatten heads and combine\n",
    "        attn_output_flat = attn_output.reshape(batch_size, -1)  # (batch_size, num_heads * d_model)\n",
    "        bag_repr = self.combine(attn_output_flat)  # (batch_size, d_model)\n",
    "        \n",
    "        return bag_repr, attn_weights\n",
    "\n",
    "\n",
    "def focal_loss_with_logits(logits, targets, alpha=0.75, gamma=2.0):\n",
    "    \"\"\"\n",
    "    Focal Loss for imbalanced classification (works with logits)\n",
    "    Safe for autocast/mixed precision training\n",
    "    \n",
    "    Args:\n",
    "        logits: Model predictions (raw logits)\n",
    "        targets: Ground truth labels\n",
    "        alpha: Weighting factor for positive class\n",
    "        gamma: Focusing parameter (higher = more focus on hard examples)\n",
    "    \"\"\"\n",
    "    BCE_loss = F.binary_cross_entropy_with_logits(logits, targets, reduction='none')\n",
    "    pt = torch.exp(-BCE_loss)\n",
    "    \n",
    "    # Focal term\n",
    "    focal_term = (1 - pt) ** gamma\n",
    "    \n",
    "    # Alpha balancing\n",
    "    alpha_t = alpha * targets + (1 - alpha) * (1 - targets)\n",
    "    \n",
    "    F_loss = alpha_t * focal_term * BCE_loss\n",
    "    \n",
    "    return F_loss.mean()"
   ]
  },
  {
   "cell_type": "markdown",
   "metadata": {},
   "source": [
    "## 5. Transformer MIL Model (Permutation-Invariant)\n",
    "\n",
    "Architecture Overview:\n",
    "\n",
    "1. **Input Embedding**: Projects 9D features to embedding dimension\n",
    "2. **NO Positional Encoding**: Removed for permutation invariance\n",
    "3. **Transformer Encoder**: Multi-head self-attention + FFN layers\n",
    "4. **Multi-Head Attention Pooling**: Learnable queries extract multiple aspects\n",
    "5. **Classifier**: Predicts bag-level label\n",
    "\n"
   ]
  },
  {
   "cell_type": "code",
   "execution_count": 4,
   "metadata": {},
   "outputs": [
    {
     "name": "stdout",
     "output_type": "stream",
     "text": [
      "Transformer MIL model defined (permutation-invariant with padding support)\n"
     ]
    }
   ],
   "source": [
    "class TransformerMIL(nn.Module):\n",
    "    \"\"\"\n",
    "    Transformer-based Multiple Instance Learning (Permutation-Invariant)\n",
    "    \n",
    "    Uses self-attention to model relationships between instances (reads) in a bag.\n",
    "    NO positional encoding - designed for unordered sets of reads.\n",
    "    \n",
    "    NOW SUPPORTS ATTENTION MASKING for padded positions.\n",
    "    Supports two pooling methods:\n",
    "      - 'attention' : MultiHeadAttentionPooling (learnable queries)\n",
    "      - 'cls'       : prepend a learned CLS token and use its output\n",
    "    \"\"\"\n",
    "    \n",
    "    def __init__(self, config):\n",
    "        super().__init__()\n",
    "        \n",
    "        self.config = config\n",
    "        self.pooling_method = getattr(config, 'POOLING_METHOD', 'attention')\n",
    "        \n",
    "        # Input embedding\n",
    "        self.input_projection = nn.Sequential(\n",
    "            nn.Linear(config.INPUT_DIM, config.EMBED_DIM),\n",
    "            nn.LayerNorm(config.EMBED_DIM),\n",
    "            nn.ReLU(),\n",
    "            nn.Dropout(config.DROPOUT)\n",
    "        )\n",
    "        \n",
    "        # Transformer encoder layers\n",
    "        encoder_layer = nn.TransformerEncoderLayer(\n",
    "            d_model=config.EMBED_DIM,\n",
    "            nhead=config.NUM_HEADS,\n",
    "            dim_feedforward=config.FF_DIM,\n",
    "            dropout=config.DROPOUT,\n",
    "            batch_first=True,\n",
    "            norm_first=True  # Pre-normalization for better training\n",
    "        )\n",
    "        \n",
    "        self.transformer_encoder = nn.TransformerEncoder(\n",
    "            encoder_layer,\n",
    "            num_layers=config.NUM_LAYERS\n",
    "        )\n",
    "        \n",
    "        # Pooling - either attention pooling or learnable CLS token\n",
    "        if self.pooling_method == 'attention':\n",
    "            self.attention_pool = MultiHeadAttentionPooling(\n",
    "                d_model=config.EMBED_DIM,\n",
    "                num_heads=config.POOLING_HEADS,\n",
    "                dropout=config.DROPOUT,\n",
    "            )\n",
    "            self.cls_token = None\n",
    "        elif self.pooling_method == 'cls':\n",
    "            # Learned CLS token\n",
    "            self.attention_pool = None\n",
    "            self.cls_token = nn.Parameter(torch.randn(1, config.EMBED_DIM))\n",
    "        else:\n",
    "            raise ValueError(f\"Unknown POOLING_METHOD: {self.pooling_method}\")\n",
    "        \n",
    "        # Bag-level classifier\n",
    "        self.classifier = nn.Sequential(\n",
    "            nn.Linear(config.EMBED_DIM, config.EMBED_DIM // 2),\n",
    "            nn.ReLU(),\n",
    "            nn.Dropout(config.DROPOUT),\n",
    "            nn.Linear(config.EMBED_DIM // 2, 1)\n",
    "        )\n",
    "    \n",
    "    def forward(self, x, src_key_padding_mask=None):\n",
    "        \"\"\"\n",
    "        Args:\n",
    "            x: (batch_size, n_instances, input_dim)\n",
    "            src_key_padding_mask: (batch_size, n_instances) - True for padding, False for real data\n",
    "        Returns:\n",
    "            bag_logits: (batch_size,)\n",
    "            attention_weights: (batch_size, num_heads, n_instances) or None\n",
    "        \"\"\"\n",
    "        batch_size, n_instances, _ = x.shape\n",
    "        device = x.device\n",
    "        \n",
    "        # Project input to embedding dimension\n",
    "        x = self.input_projection(x)  # (batch_size, n_instances, embed_dim)\n",
    "        \n",
    "        if self.pooling_method == 'cls':\n",
    "            # Prepend CLS token and adjust key padding mask\n",
    "            cls = self.cls_token.unsqueeze(0).expand(batch_size, -1, -1).to(device)  # (batch, 1, d)\n",
    "            x = torch.cat([cls, x], dim=1)  # (batch, n_instances+1, d)\n",
    "            if src_key_padding_mask is None:\n",
    "                src_key_padding_mask = torch.zeros(batch_size, n_instances, dtype=torch.bool, device=device)\n",
    "            # new mask: False for CLS (real), then existing mask\n",
    "            cls_mask = torch.zeros(batch_size, 1, dtype=torch.bool, device=device)\n",
    "            src_key_padding_mask = torch.cat([cls_mask, src_key_padding_mask], dim=1)\n",
    "            x = self.transformer_encoder(x, src_key_padding_mask=src_key_padding_mask)\n",
    "            bag_repr = x[:, 0, :]\n",
    "            attention_weights = None\n",
    "        else:\n",
    "            # 'attention' pooling path: encoder over reads only, then attention pooling\n",
    "            x = self.transformer_encoder(x, src_key_padding_mask=src_key_padding_mask)  # (batch_size, n_instances, embed_dim)\n",
    "            bag_repr, attention_weights = self.attention_pool(x, key_padding_mask=src_key_padding_mask)  # (batch_size, embed_dim)\n",
    "        \n",
    "        # Classify\n",
    "        bag_logits = self.classifier(bag_repr).squeeze(-1)  # (batch_size,)\n",
    "        \n",
    "        return bag_logits, attention_weights\n",
    "    \n",
    "    def calculate_objective(self, x, bag_labels, mask=None):\n",
    "        \"\"\"Calculate MIL objective with optional masking and optional label smoothing and regularization\"\"\"\n",
    "        bag_logits, attention_weights = self(x, src_key_padding_mask=mask)\n",
    "        \n",
    "        # bag_labels is expected to be a float tensor with values 0.0 or 1.0 (on same device)\n",
    "        eps = float(getattr(self.config, 'LABEL_SMOOTH', 0.0))\n",
    "        if eps > 0.0:\n",
    "            smoothed = bag_labels * (1.0 - eps) + 0.5 * eps\n",
    "        else:\n",
    "            smoothed = bag_labels\n",
    "        \n",
    "        if self.config.USE_FOCAL_LOSS:\n",
    "            loss = focal_loss_with_logits(\n",
    "                bag_logits, smoothed,\n",
    "                alpha=self.config.FOCAL_ALPHA,\n",
    "                gamma=self.config.FOCAL_GAMMA\n",
    "            )\n",
    "        else:\n",
    "            loss = F.binary_cross_entropy_with_logits(bag_logits, smoothed)\n",
    "        \n",
    "        # Optional regularization: attention entropy\n",
    "        reg_w = float(getattr(self.config, 'REGULARIZATION_WEIGHT', 0.0))\n",
    "        if reg_w > 0.0 and attention_weights is not None:\n",
    "            if getattr(self.config, 'REGULARIZATION_TYPE', 'attention_entropy') == 'attention_entropy':\n",
    "                p = attention_weights.clamp(min=1e-8)  # (batch, heads, n_instances)\n",
    "                entropy = - (p * torch.log(p)).sum(dim=-1)  # (batch, heads)\n",
    "                entropy_mean = entropy.mean()\n",
    "                reg_term = reg_w * entropy_mean\n",
    "                loss = loss + reg_term\n",
    "        \n",
    "        return loss, bag_logits, attention_weights\n",
    "\n",
    "print(\"Transformer MIL model defined (permutation-invariant with padding support)\")"
   ]
  },
  {
   "cell_type": "markdown",
   "metadata": {},
   "source": [
    "## 6. Data Loading\n",
    "\n",
    "Load the m6A dataset from compressed JSON format"
   ]
  },
  {
   "cell_type": "code",
   "execution_count": 5,
   "metadata": {},
   "outputs": [
    {
     "name": "stdout",
     "output_type": "stream",
     "text": [
      "Loading dataset...\n"
     ]
    },
    {
     "name": "stderr",
     "output_type": "stream",
     "text": [
      "Loading data: 100%|██████████| 121838/121838 [00:33<00:00, 3656.97it/s]\n",
      "\n"
     ]
    },
    {
     "name": "stdout",
     "output_type": "stream",
     "text": [
      "Loaded 11027106 reads from 121838 sites\n",
      "\n",
      "Data shape: (11027106, 11)\n",
      "Labels shape: (121838, 4)\n",
      "\n",
      "First few rows:\n",
      "\n",
      "Data shape: (11027106, 11)\n",
      "Labels shape: (121838, 4)\n",
      "\n",
      "First few rows:\n"
     ]
    },
    {
     "data": {
      "text/html": [
       "<div>\n",
       "<style scoped>\n",
       "    .dataframe tbody tr th:only-of-type {\n",
       "        vertical-align: middle;\n",
       "    }\n",
       "\n",
       "    .dataframe tbody tr th {\n",
       "        vertical-align: top;\n",
       "    }\n",
       "\n",
       "    .dataframe thead th {\n",
       "        text-align: right;\n",
       "    }\n",
       "</style>\n",
       "<table border=\"1\" class=\"dataframe\">\n",
       "  <thead>\n",
       "    <tr style=\"text-align: right;\">\n",
       "      <th></th>\n",
       "      <th>transcript_id</th>\n",
       "      <th>transcript_position</th>\n",
       "      <th>dwell_-1</th>\n",
       "      <th>std_-1</th>\n",
       "      <th>mean_-1</th>\n",
       "      <th>dwell_0</th>\n",
       "      <th>std_0</th>\n",
       "      <th>mean_0</th>\n",
       "      <th>dwell_+1</th>\n",
       "      <th>std_+1</th>\n",
       "      <th>mean_+1</th>\n",
       "    </tr>\n",
       "  </thead>\n",
       "  <tbody>\n",
       "    <tr>\n",
       "      <th>0</th>\n",
       "      <td>ENST00000000233</td>\n",
       "      <td>244</td>\n",
       "      <td>0.00299</td>\n",
       "      <td>2.06</td>\n",
       "      <td>125.0</td>\n",
       "      <td>0.01770</td>\n",
       "      <td>10.40</td>\n",
       "      <td>122.0</td>\n",
       "      <td>0.00930</td>\n",
       "      <td>10.90</td>\n",
       "      <td>84.1</td>\n",
       "    </tr>\n",
       "    <tr>\n",
       "      <th>1</th>\n",
       "      <td>ENST00000000233</td>\n",
       "      <td>244</td>\n",
       "      <td>0.00631</td>\n",
       "      <td>2.53</td>\n",
       "      <td>125.0</td>\n",
       "      <td>0.00844</td>\n",
       "      <td>4.67</td>\n",
       "      <td>126.0</td>\n",
       "      <td>0.01030</td>\n",
       "      <td>6.30</td>\n",
       "      <td>80.9</td>\n",
       "    </tr>\n",
       "    <tr>\n",
       "      <th>2</th>\n",
       "      <td>ENST00000000233</td>\n",
       "      <td>244</td>\n",
       "      <td>0.00465</td>\n",
       "      <td>3.92</td>\n",
       "      <td>109.0</td>\n",
       "      <td>0.01360</td>\n",
       "      <td>12.00</td>\n",
       "      <td>124.0</td>\n",
       "      <td>0.00498</td>\n",
       "      <td>2.13</td>\n",
       "      <td>79.6</td>\n",
       "    </tr>\n",
       "    <tr>\n",
       "      <th>3</th>\n",
       "      <td>ENST00000000233</td>\n",
       "      <td>244</td>\n",
       "      <td>0.00398</td>\n",
       "      <td>2.06</td>\n",
       "      <td>125.0</td>\n",
       "      <td>0.00830</td>\n",
       "      <td>5.01</td>\n",
       "      <td>130.0</td>\n",
       "      <td>0.00498</td>\n",
       "      <td>3.78</td>\n",
       "      <td>80.4</td>\n",
       "    </tr>\n",
       "    <tr>\n",
       "      <th>4</th>\n",
       "      <td>ENST00000000233</td>\n",
       "      <td>244</td>\n",
       "      <td>0.00664</td>\n",
       "      <td>2.92</td>\n",
       "      <td>120.0</td>\n",
       "      <td>0.00266</td>\n",
       "      <td>3.94</td>\n",
       "      <td>129.0</td>\n",
       "      <td>0.01300</td>\n",
       "      <td>7.15</td>\n",
       "      <td>82.2</td>\n",
       "    </tr>\n",
       "  </tbody>\n",
       "</table>\n",
       "</div>"
      ],
      "text/plain": [
       "     transcript_id  transcript_position  dwell_-1  std_-1  mean_-1  dwell_0  \\\n",
       "0  ENST00000000233                  244   0.00299    2.06    125.0  0.01770   \n",
       "1  ENST00000000233                  244   0.00631    2.53    125.0  0.00844   \n",
       "2  ENST00000000233                  244   0.00465    3.92    109.0  0.01360   \n",
       "3  ENST00000000233                  244   0.00398    2.06    125.0  0.00830   \n",
       "4  ENST00000000233                  244   0.00664    2.92    120.0  0.00266   \n",
       "\n",
       "   std_0  mean_0  dwell_+1  std_+1  mean_+1  \n",
       "0  10.40   122.0   0.00930   10.90     84.1  \n",
       "1   4.67   126.0   0.01030    6.30     80.9  \n",
       "2  12.00   124.0   0.00498    2.13     79.6  \n",
       "3   5.01   130.0   0.00498    3.78     80.4  \n",
       "4   3.94   129.0   0.01300    7.15     82.2  "
      ]
     },
     "execution_count": 5,
     "metadata": {},
     "output_type": "execute_result"
    }
   ],
   "source": [
    "def load_data(data_file, labels_file):\n",
    "    \"\"\"Load dataset\"\"\"\n",
    "    print(\"Loading dataset...\")\n",
    "    rows = []\n",
    "    \n",
    "    with gzip.open(data_file, 'rt', encoding='utf-8') as f:\n",
    "        total_lines = sum(1 for _ in f)\n",
    "    \n",
    "    with gzip.open(data_file, 'rt', encoding='utf-8') as f:\n",
    "        for line in tqdm(f, total=total_lines, desc=\"Loading data\"):\n",
    "            data = json.loads(line)\n",
    "            for transcript_id, positions in data.items():\n",
    "                for transcript_position, sequences in positions.items():\n",
    "                    for sequence, feature_list in sequences.items():\n",
    "                        for features in feature_list:\n",
    "                            rows.append({\n",
    "                                'transcript_id': transcript_id,\n",
    "                                'transcript_position': int(transcript_position),\n",
    "                                'dwell_-1': features[0],\n",
    "                                'std_-1': features[1],\n",
    "                                'mean_-1': features[2],\n",
    "                                'dwell_0': features[3],\n",
    "                                'std_0': features[4],\n",
    "                                'mean_0': features[5],\n",
    "                                'dwell_+1': features[6],\n",
    "                                'std_+1': features[7],\n",
    "                                'mean_+1': features[8],\n",
    "                            })\n",
    "    \n",
    "    df = pd.DataFrame(rows)\n",
    "    labels = pd.read_csv(labels_file)\n",
    "    \n",
    "    print(f\"Loaded {len(df)} reads from {len(df.groupby(['transcript_id', 'transcript_position']))} sites\")\n",
    "    return df, labels\n",
    "\n",
    "# Load data\n",
    "df, labels = load_data(config.DATA_FILE, config.LABELS_FILE)\n",
    "print(f\"\\nData shape: {df.shape}\")\n",
    "print(f\"Labels shape: {labels.shape}\")\n",
    "print(f\"\\nFirst few rows:\")\n",
    "df.head()"
   ]
  },
  {
   "cell_type": "markdown",
   "metadata": {},
   "source": [
    "## 7. MIL Dataset Class (with Permutation Augmentation)\n",
    "\n",
    "Each sample is a \"bag\" containing multiple instances (reads).\n",
    "Training uses permutation augmentation to ensure the model learns permutation-invariant features."
   ]
  },
  {
   "cell_type": "code",
   "execution_count": 6,
   "metadata": {},
   "outputs": [
    {
     "name": "stdout",
     "output_type": "stream",
     "text": [
      "MIL Dataset class defined with zero-padding and attention masking\n"
     ]
    }
   ],
   "source": [
    "class MILDataset(Dataset):\n",
    "    \"\"\"\n",
    "    Dataset for Multiple Instance Learning\n",
    "    Each sample is a bag containing multiple instances (reads)\n",
    "    \n",
    "    NEW: Supports zero-padding with attention masks instead of duplication.\n",
    "    Includes permutation augmentation for training to ensure the model\n",
    "    learns permutation-invariant representations.\n",
    "    \"\"\"\n",
    "    \n",
    "    def __init__(self, df, labels_df, config, augment=False, compute_stats=False):\n",
    "        \"\"\"If compute_stats is False, do NOT compute dataset-wide mean/std here.\n",
    "        This prevents accidental data leakage when creating a full dataset used\n",
    "        to split by gene. Compute stats on the training subset and pass them\n",
    "        to validation/test subsets instead.\n",
    "        \"\"\"\n",
    "        self.config = config\n",
    "        self.augment = augment  # Use permutation augmentation during training\n",
    "        \n",
    "        # Merge with labels\n",
    "        df_merged = df.merge(\n",
    "            labels_df[['transcript_id', 'transcript_position', 'label', 'gene_id']],\n",
    "            on=['transcript_id', 'transcript_position'], \n",
    "            how='inner'\n",
    "        )\n",
    "        \n",
    "        self.feature_cols = ['dwell_-1', 'std_-1', 'mean_-1',\n",
    "                            'dwell_0', 'std_0', 'mean_0',\n",
    "                            'dwell_+1', 'std_+1', 'mean_+1']\n",
    "        \n",
    "        # Group by site (bag)\n",
    "        self.bags = []\n",
    "        self.bag_labels = []\n",
    "        self.gene_ids = []\n",
    "        \n",
    "        grouped = df_merged.groupby(['transcript_id', 'transcript_position'])\n",
    "        \n",
    "        # Use MIN_READS_THRESHOLD instead of N_READS_PER_SITE for filtering\n",
    "        min_threshold = config.MIN_READS_THRESHOLD if hasattr(config, 'MIN_READS_THRESHOLD') else config.N_READS_PER_SITE\n",
    "        \n",
    "        for (transcript_id, position), site_df in tqdm(grouped, desc=\"Creating MIL dataset\"):\n",
    "            instances = site_df[self.feature_cols].values\n",
    "            \n",
    "            # Accept sites with at least MIN_READS_THRESHOLD reads\n",
    "            if len(instances) >= min_threshold:\n",
    "                self.bags.append(instances)\n",
    "                self.bag_labels.append(site_df['label'].iloc[0])\n",
    "                self.gene_ids.append(site_df['gene_id'].iloc[0])\n",
    "        \n",
    "        self.bag_labels = np.array(self.bag_labels, dtype=np.float32)\n",
    "        self.gene_ids = np.array(self.gene_ids)\n",
    "        \n",
    "        # Compute normalization statistics (only from real reads, not padding)\n",
    "        if compute_stats and len(self.bags) > 0:\n",
    "            all_instances = np.vstack(self.bags)\n",
    "            self.mean = np.mean(all_instances, axis=0)\n",
    "            self.std = np.std(all_instances, axis=0) + 1e-8\n",
    "        else:\n",
    "            # Safe defaults to avoid accidental use before proper stats are set.\n",
    "            # Use zeros/ones with correct shape (INPUT_DIM) so normalization is a no-op.\n",
    "            self.mean = np.zeros(self.config.INPUT_DIM)\n",
    "            self.std = np.ones(self.config.INPUT_DIM)\n",
    "        \n",
    "        pos_count = sum(self.bag_labels)\n",
    "        print(f\"MIL Dataset: {len(self.bags)} bags\")\n",
    "        print(f\"  Positive bags: {pos_count} ({pos_count/len(self.bags)*100:.1f}%)\")\n",
    "        print(f\"  Negative bags: {len(self.bags)-pos_count} ({(len(self.bags)-pos_count)/len(self.bags)*100:.1f}%)\")\n",
    "        print(f\"  Min reads threshold: {min_threshold}\")\n",
    "        if self.augment and self.config.USE_PERMUTATION_AUG:\n",
    "            print(f\"  Permutation augmentation: ENABLED\")\n",
    "        if hasattr(self.config, 'USE_PADDING') and self.config.USE_PADDING:\n",
    "            print(f\"  Zero-padding with attention masking: ENABLED\")\n",
    "    \n",
    "    def __len__(self):\n",
    "        return len(self.bags)\n",
    "    \n",
    "    def __getitem__(self, idx):\n",
    "        instances = self.bags[idx].copy()\n",
    "        bag_label = self.bag_labels[idx]\n",
    "        n_instances = len(instances)\n",
    "        \n",
    "        # NEW: Handle padding/sampling with attention masks\n",
    "        if n_instances > self.config.N_READS_PER_SITE:\n",
    "            # Downsample: randomly select N_READS_PER_SITE reads\n",
    "            indices = np.random.choice(n_instances, self.config.N_READS_PER_SITE, replace=False)\n",
    "            instances = instances[indices]\n",
    "            n_real = self.config.N_READS_PER_SITE\n",
    "            mask = np.zeros(self.config.N_READS_PER_SITE, dtype=bool)  # All False = all real data\n",
    "            \n",
    "        else:\n",
    "            # Pad with zeros + create mask\n",
    "            n_real = n_instances\n",
    "            padding = np.zeros((self.config.N_READS_PER_SITE - n_real, self.config.INPUT_DIM))\n",
    "            instances = np.vstack([instances, padding])\n",
    "            # Mask: False for real data, True for padding (PyTorch convention)\n",
    "            mask = np.array([False]*n_real + [True]*(self.config.N_READS_PER_SITE - n_real))\n",
    "        \n",
    "        # Normalize only real reads (before permutation)\n",
    "        instances[:n_real] = (instances[:n_real] - self.mean) / self.std\n",
    "        \n",
    "        # PERMUTATION AUGMENTATION - randomly shuffle ONLY real reads\n",
    "        # This prevents the model from learning position-dependent features\n",
    "        if self.augment and self.config.USE_PERMUTATION_AUG and n_real > 1:\n",
    "            real_indices = np.arange(n_real)\n",
    "            perm = np.random.permutation(real_indices)\n",
    "            instances[:n_real] = instances[perm]\n",
    "            # Mask doesn't need shuffling - still first n_real are False, rest are True\n",
    "        \n",
    "        return torch.FloatTensor(instances), torch.FloatTensor([bag_label]), torch.BoolTensor(mask)\n",
    "\n",
    "print(\"MIL Dataset class defined with zero-padding and attention masking\")\n"
   ]
  },
  {
   "cell_type": "markdown",
   "metadata": {},
   "source": [
    "## 8. Train/Valid/Test Split by Gene ID\n",
    "\n",
    "Split data by gene_id to prevent data leakage"
   ]
  },
  {
   "cell_type": "code",
   "execution_count": 7,
   "metadata": {},
   "outputs": [
    {
     "name": "stderr",
     "output_type": "stream",
     "text": [
      "Creating MIL dataset: 100%|██████████| 121838/121838 [00:40<00:00, 3002.96it/s]\n",
      "\n"
     ]
    },
    {
     "name": "stdout",
     "output_type": "stream",
     "text": [
      "MIL Dataset: 121838 bags\n",
      "  Positive bags: 5475.0 (4.5%)\n",
      "  Negative bags: 116363.0 (95.5%)\n",
      "  Min reads threshold: 15\n",
      "  Zero-padding with attention masking: ENABLED\n",
      "Gene split:\n",
      "  Train genes: 2696\n",
      "  Valid genes: 577\n",
      "  Test genes: 579\n",
      "\n",
      "Bag split:\n",
      "  Train bags: 84887\n",
      "  Valid bags: 19146\n",
      "  Test bags: 17805\n",
      "Gene split:\n",
      "  Train genes: 2696\n",
      "  Valid genes: 577\n",
      "  Test genes: 579\n",
      "\n",
      "Bag split:\n",
      "  Train bags: 84887\n",
      "  Valid bags: 19146\n",
      "  Test bags: 17805\n",
      "\n",
      "Class distribution:\n",
      "  Train: 3815.0/84887 positive (4.5%)\n",
      "  Valid: 899.0/19146 positive (4.7%)\n",
      "  Test: 761.0/17805 positive (4.3%)\n",
      "\n",
      "Permutation augmentation:\n",
      "  Train: ENABLED\n",
      "  Valid: DISABLED\n",
      "  Test: DISABLED\n",
      "\n",
      "Class distribution:\n",
      "  Train: 3815.0/84887 positive (4.5%)\n",
      "  Valid: 899.0/19146 positive (4.7%)\n",
      "  Test: 761.0/17805 positive (4.3%)\n",
      "\n",
      "Permutation augmentation:\n",
      "  Train: ENABLED\n",
      "  Valid: DISABLED\n",
      "  Test: DISABLED\n"
     ]
    }
   ],
   "source": [
    "# Create full dataset first WITHOUT computing global stats to avoid leakage.\n",
    "full_dataset = MILDataset(df, labels, config, augment=False, compute_stats=False)\n",
    "\n",
    "# Get unique gene IDs\n",
    "unique_genes = np.unique(full_dataset.gene_ids)\n",
    "np.random.seed(42)\n",
    "np.random.shuffle(unique_genes)\n",
    "\n",
    "# Split gene IDs\n",
    "n_genes = len(unique_genes)\n",
    "n_train = int(n_genes * config.TRAIN_RATIO)\n",
    "n_valid = int(n_genes * config.VALID_RATIO)\n",
    "\n",
    "train_genes = set(unique_genes[:n_train])\n",
    "valid_genes = set(unique_genes[n_train:n_train+n_valid])\n",
    "test_genes = set(unique_genes[n_train+n_valid:])\n",
    "\n",
    "print(f\"Gene split:\")\n",
    "print(f\"  Train genes: {len(train_genes)}\")\n",
    "print(f\"  Valid genes: {len(valid_genes)}\")\n",
    "print(f\"  Test genes: {len(test_genes)}\")\n",
    "\n",
    "# Split bags based on gene IDs\n",
    "train_idx = [i for i, gene in enumerate(full_dataset.gene_ids) if gene in train_genes]\n",
    "valid_idx = [i for i, gene in enumerate(full_dataset.gene_ids) if gene in valid_genes]\n",
    "test_idx = [i for i, gene in enumerate(full_dataset.gene_ids) if gene in test_genes]\n",
    "\n",
    "print(f\"\\nBag split:\")\n",
    "print(f\"  Train bags: {len(train_idx)}\")\n",
    "print(f\"  Valid bags: {len(valid_idx)}\")\n",
    "print(f\"  Test bags: {len(test_idx)}\")\n",
    "\n",
    "# Create split datasets\n",
    "def create_subset(dataset, indices, augment=False, stats=None):\n",
    "    \"\"\"\n",
    "    Create a subset of MILDataset from an existing dataset object.\n",
    "\n",
    "    If stats is None -> compute mean/std from the subset (used for training subset).\n",
    "    If stats provided (mean,std tuple) -> use those stats (use for val/test: pass train stats).\n",
    "    \"\"\"\n",
    "    subset = MILDataset.__new__(MILDataset)\n",
    "    subset.bags = [dataset.bags[i] for i in indices]\n",
    "    subset.bag_labels = dataset.bag_labels[indices]\n",
    "    subset.gene_ids = dataset.gene_ids[indices]\n",
    "    subset.config = dataset.config\n",
    "    subset.augment = augment  # Enable augmentation for training subset only\n",
    "    subset.feature_cols = dataset.feature_cols\n",
    "\n",
    "    # Compute normalization stats from this subset unless external stats provided\n",
    "    if stats is None:\n",
    "        all_instances = np.vstack(subset.bags)\n",
    "        subset.mean = np.mean(all_instances, axis=0)\n",
    "        subset.std = np.std(all_instances, axis=0) + 1e-8\n",
    "    else:\n",
    "        subset.mean, subset.std = stats\n",
    "\n",
    "    return subset\n",
    "\n",
    "# Training set with augmentation enabled\n",
    "train_dataset = create_subset(full_dataset, train_idx, augment=True)\n",
    "train_stats = (train_dataset.mean, train_dataset.std)\n",
    "\n",
    "# Use scaling from training set for validation and test\n",
    "valid_dataset = create_subset(full_dataset, valid_idx, augment=False, stats=train_stats)\n",
    "test_dataset = create_subset(full_dataset, test_idx, augment=False, stats=train_stats)\n",
    "\n",
    "print(f\"\\nClass distribution:\")\n",
    "print(f\"  Train: {sum(train_dataset.bag_labels)}/{len(train_dataset.bag_labels)} positive ({sum(train_dataset.bag_labels)/len(train_dataset.bag_labels)*100:.1f}%)\")\n",
    "print(f\"  Valid: {sum(valid_dataset.bag_labels)}/{len(valid_dataset.bag_labels)} positive ({sum(valid_dataset.bag_labels)/len(valid_dataset.bag_labels)*100:.1f}%)\")\n",
    "print(f\"  Test: {sum(test_dataset.bag_labels)}/{len(test_dataset.bag_labels)} positive ({sum(test_dataset.bag_labels)/len(test_dataset.bag_labels)*100:.1f}%)\")\n",
    "\n",
    "print(f\"\\nPermutation augmentation:\")\n",
    "print(f\"  Train: {'ENABLED' if train_dataset.augment and config.USE_PERMUTATION_AUG else 'DISABLED'}\")\n",
    "print(f\"  Valid: {'ENABLED' if valid_dataset.augment and config.USE_PERMUTATION_AUG else 'DISABLED'}\")\n",
    "print(f\"  Test: {'ENABLED' if test_dataset.augment and config.USE_PERMUTATION_AUG else 'DISABLED'}\")\n"
   ]
  },
  {
   "cell_type": "markdown",
   "metadata": {},
   "source": [
    "## 9. Create Data Loaders"
   ]
  },
  {
   "cell_type": "code",
   "execution_count": 8,
   "metadata": {},
   "outputs": [
    {
     "name": "stdout",
     "output_type": "stream",
     "text": [
      "Data loaders created:\n",
      "  Train batches: 5306\n",
      "  Valid batches: 1197\n",
      "  Test batches: 1113\n"
     ]
    }
   ],
   "source": [
    "train_loader = DataLoader(\n",
    "    train_dataset, \n",
    "    batch_size=config.BATCH_SIZE,\n",
    "    shuffle=True,\n",
    "    num_workers=config.NUM_WORKERS,\n",
    "    pin_memory=True\n",
    ")\n",
    "\n",
    "valid_loader = DataLoader(\n",
    "    valid_dataset,\n",
    "    batch_size=config.BATCH_SIZE,\n",
    "    shuffle=False,\n",
    "    num_workers=config.NUM_WORKERS,\n",
    "    pin_memory=True\n",
    ")\n",
    "\n",
    "test_loader = DataLoader(\n",
    "    test_dataset,\n",
    "    batch_size=config.BATCH_SIZE,\n",
    "    shuffle=False,\n",
    "    num_workers=config.NUM_WORKERS,\n",
    "    pin_memory=True\n",
    ")\n",
    "\n",
    "print(f\"Data loaders created:\")\n",
    "print(f\"  Train batches: {len(train_loader)}\")\n",
    "print(f\"  Valid batches: {len(valid_loader)}\")\n",
    "print(f\"  Test batches: {len(test_loader)}\")"
   ]
  },
  {
   "cell_type": "markdown",
   "metadata": {},
   "source": [
    "## 10. Training Functions"
   ]
  },
  {
   "cell_type": "code",
   "execution_count": 9,
   "metadata": {},
   "outputs": [
    {
     "name": "stdout",
     "output_type": "stream",
     "text": [
      "Training functions defined with attention masking support\n"
     ]
    }
   ],
   "source": [
    "def train_epoch(model, train_loader, optimizer, device, config, scaler=None, scheduler=None):\n",
    "    \"\"\"Train for one epoch with attention masking support\"\"\"\n",
    "    model.train()\n",
    "    total_loss = 0\n",
    "    all_preds = []\n",
    "    all_labels = []\n",
    "    \n",
    "    pbar = tqdm(train_loader, desc=\"Training\", leave=False)\n",
    "    for batch_data in pbar:\n",
    "        # Unpack batch (now includes mask)\n",
    "        if len(batch_data) == 3:\n",
    "            bag, bag_label, mask = batch_data\n",
    "            mask = mask.to(device)\n",
    "        else:\n",
    "            bag, bag_label = batch_data\n",
    "            mask = None\n",
    "        \n",
    "        bag = bag.to(device)\n",
    "        bag_label = bag_label.squeeze(-1).to(device)\n",
    "        \n",
    "        optimizer.zero_grad()\n",
    "        \n",
    "        if config.MIXED_PRECISION and scaler is not None:\n",
    "            with autocast():\n",
    "                loss, bag_logits, _ = model.calculate_objective(bag, bag_label, mask=mask)\n",
    "            \n",
    "            scaler.scale(loss).backward()\n",
    "            scaler.unscale_(optimizer)\n",
    "            torch.nn.utils.clip_grad_norm_(model.parameters(), config.GRADIENT_CLIP)\n",
    "            scaler.step(optimizer)\n",
    "            scaler.update()\n",
    "        else:\n",
    "            loss, bag_logits, _ = model.calculate_objective(bag, bag_label, mask=mask)\n",
    "            loss.backward()\n",
    "            torch.nn.utils.clip_grad_norm_(model.parameters(), config.GRADIENT_CLIP)\n",
    "            optimizer.step()\n",
    "        \n",
    "        # Step scheduler per optimizer step (if provided)\n",
    "        if scheduler is not None:\n",
    "            try:\n",
    "                scheduler.step()\n",
    "            except Exception:\n",
    "                pass\n",
    "        \n",
    "        # Convert logits to probabilities for metrics\n",
    "        bag_probs = torch.sigmoid(bag_logits)\n",
    "        \n",
    "        total_loss += loss.item()\n",
    "        all_preds.extend(bag_probs.detach().cpu().numpy())\n",
    "        all_labels.extend(bag_label.detach().cpu().numpy())\n",
    "        \n",
    "        pbar.set_postfix({'loss': f'{loss.item():.4f}'})\n",
    "    \n",
    "    avg_loss = total_loss / len(train_loader)\n",
    "    auc = roc_auc_score(all_labels, all_preds) if len(set(all_labels)) > 1 else 0.5\n",
    "    \n",
    "    return avg_loss, auc\n",
    "\n",
    "\n",
    "def evaluate(model, val_loader, device, config):\n",
    "    \"\"\"Evaluate model with attention masking support\"\"\"\n",
    "    model.eval()\n",
    "    total_loss = 0\n",
    "    all_preds = []\n",
    "    all_labels = []\n",
    "    all_attentions = []\n",
    "    \n",
    "    with torch.no_grad():\n",
    "        for batch_data in tqdm(val_loader, desc=\"Evaluating\",leave=False):\n",
    "            # Unpack batch (now includes mask)\n",
    "            if len(batch_data) == 3:\n",
    "                bag, bag_label, mask = batch_data\n",
    "                mask = mask.to(device)\n",
    "            else:\n",
    "                bag, bag_label = batch_data\n",
    "                mask = None\n",
    "            \n",
    "            bag = bag.to(device)\n",
    "            bag_label = bag_label.squeeze(-1).to(device)\n",
    "            \n",
    "            if config.MIXED_PRECISION:\n",
    "                with autocast():\n",
    "                    loss, bag_logits, attention = model.calculate_objective(bag, bag_label, mask=mask)\n",
    "            else:\n",
    "                loss, bag_logits, attention = model.calculate_objective(bag, bag_label, mask=mask)\n",
    "            \n",
    "            # Convert logits to probabilities\n",
    "            bag_probs = torch.sigmoid(bag_logits)\n",
    "            \n",
    "            total_loss += loss.item()\n",
    "            all_preds.extend(bag_probs.cpu().numpy())\n",
    "            all_labels.extend(bag_label.cpu().numpy())\n",
    "            \n",
    "            if attention is not None:\n",
    "                all_attentions.extend(attention.cpu().numpy())\n",
    "    \n",
    "    avg_loss = total_loss / len(val_loader)\n",
    "    auc = roc_auc_score(all_labels, all_preds) if len(set(all_labels)) > 1 else 0.5\n",
    "    pr_auc = average_precision_score(all_labels, all_preds) if len(set(all_labels)) > 1 else 0.5\n",
    "    \n",
    "    # Find best threshold\n",
    "    best_f1 = 0\n",
    "    best_threshold = 0.5\n",
    "    for thresh in np.arange(0.1, 0.9, 0.05):\n",
    "        preds_binary = (np.array(all_preds) >= thresh).astype(int)\n",
    "        f1 = f1_score(all_labels, preds_binary)\n",
    "        if f1 > best_f1:\n",
    "            best_f1 = f1\n",
    "            best_threshold = thresh\n",
    "    \n",
    "    return avg_loss, auc, pr_auc, all_preds, all_labels, all_attentions, best_threshold, best_f1\n",
    "\n",
    "print(\"Training functions defined with attention masking support\")\n"
   ]
  },
  {
   "cell_type": "markdown",
   "metadata": {},
   "source": [
    "## 11. Initialize Model and Optimizer"
   ]
  },
  {
   "cell_type": "code",
   "execution_count": 10,
   "metadata": {},
   "outputs": [
    {
     "name": "stdout",
     "output_type": "stream",
     "text": [
      "Using device: cuda\n",
      "\n",
      "Model: Transformer MIL\n",
      "Total trainable parameters: 804,737\n",
      "Architecture:\n",
      "  - 5 Transformer layers\n",
      "  - 4 attention heads\n",
      "  - 128 embedding dimension\n",
      "  - 256 feed-forward dimension\n",
      "\n",
      "Model: Transformer MIL\n",
      "Total trainable parameters: 804,737\n",
      "Architecture:\n",
      "  - 5 Transformer layers\n",
      "  - 4 attention heads\n",
      "  - 128 embedding dimension\n",
      "  - 256 feed-forward dimension\n",
      "\n",
      "Optimizer: AdamW (lr=0.0001, weight_decay=1e-05)\n",
      "Mixed precision: True\n",
      "Warmup steps: 1000\n",
      "\n",
      "Optimizer: AdamW (lr=0.0001, weight_decay=1e-05)\n",
      "Mixed precision: True\n",
      "Warmup steps: 1000\n"
     ]
    }
   ],
   "source": [
    "# Device setup\n",
    "device = torch.device('cuda' if torch.cuda.is_available() else 'cpu')\n",
    "print(f\"Using device: {device}\")\n",
    "\n",
    "# Create Transformer model\n",
    "model = TransformerMIL(config).to(device)\n",
    "\n",
    "# Count parameters\n",
    "total_params = sum(p.numel() for p in model.parameters() if p.requires_grad)\n",
    "print(f\"\\nModel: Transformer MIL\")\n",
    "print(f\"Total trainable parameters: {total_params:,}\")\n",
    "print(f\"Architecture:\")\n",
    "print(f\"  - {config.NUM_LAYERS} Transformer layers\")\n",
    "print(f\"  - {config.NUM_HEADS} attention heads\")\n",
    "print(f\"  - {config.EMBED_DIM} embedding dimension\")\n",
    "print(f\"  - {config.FF_DIM} feed-forward dimension\")\n",
    "\n",
    "\n",
    "# Optimizer with learning rate warmup\n",
    "optimizer = optim.AdamW(\n",
    "    model.parameters(),\n",
    "    lr=config.LEARNING_RATE,\n",
    "    weight_decay=config.WEIGHT_DECAY\n",
    ")\n",
    "\n",
    "# Linear learning rate warmup scheduler (step-based). Call scheduler.step() each optimizer step.\n",
    "warmup_steps = max(1, int(getattr(config, 'WARMUP_STEPS', 1000)))\n",
    "scheduler = optim.lr_scheduler.LambdaLR(optimizer, lambda step: min(1.0, (step + 1) / warmup_steps))\n",
    "\n",
    "# Mixed precision scaler\n",
    "scaler = GradScaler() if config.MIXED_PRECISION else None\n",
    "\n",
    "print(f\"\\nOptimizer: AdamW (lr={config.LEARNING_RATE}, weight_decay={config.WEIGHT_DECAY})\")\n",
    "print(f\"Mixed precision: {config.MIXED_PRECISION}\")\n",
    "print(f\"Warmup steps: {warmup_steps}\")"
   ]
  },
  {
   "cell_type": "markdown",
   "metadata": {},
   "source": [
    "## 12. Training Loop"
   ]
  },
  {
   "cell_type": "code",
   "execution_count": 11,
   "metadata": {},
   "outputs": [
    {
     "name": "stdout",
     "output_type": "stream",
     "text": [
      "\n",
      "Starting training for 50 epochs...\n",
      "====================================================================================================\n",
      " Epoch |  Train Loss |  Train AUC |    Val Loss |    Val AUC |  Val PR-AUC |     Val F1 |          Status\n",
      "----------------------------------------------------------------------------------------------------\n"
     ]
    },
    {
     "name": "stderr",
     "output_type": "stream",
     "text": [
      "                                                                          "
     ]
    },
    {
     "name": "stdout",
     "output_type": "stream",
     "text": [
      "     1 |      0.0226 |     0.7899 |      0.0188 |     0.8806 |      0.4233 |     0.4628 |    ✓ Best model\n"
     ]
    },
    {
     "name": "stderr",
     "output_type": "stream",
     "text": [
      "                                                                          "
     ]
    },
    {
     "name": "stdout",
     "output_type": "stream",
     "text": [
      "     2 |      0.0190 |     0.8584 |      0.0180 |     0.8935 |      0.4540 |     0.5039 |    ✓ Best model\n"
     ]
    },
    {
     "name": "stderr",
     "output_type": "stream",
     "text": [
      "                                                                          "
     ]
    },
    {
     "name": "stdout",
     "output_type": "stream",
     "text": [
      "     3 |      0.0182 |     0.8758 |      0.0178 |     0.8959 |      0.4600 |     0.4939 |    ✓ Best model\n"
     ]
    },
    {
     "name": "stderr",
     "output_type": "stream",
     "text": [
      "                                                                          "
     ]
    },
    {
     "name": "stdout",
     "output_type": "stream",
     "text": [
      "     4 |      0.0175 |     0.8882 |      0.0182 |     0.9000 |      0.4507 |     0.4857 |   Patience 1/15\n"
     ]
    },
    {
     "name": "stderr",
     "output_type": "stream",
     "text": [
      "                                                                          "
     ]
    },
    {
     "name": "stdout",
     "output_type": "stream",
     "text": [
      "     5 |      0.0171 |     0.8925 |      0.0189 |     0.9013 |      0.4529 |     0.4871 |   Patience 2/15\n"
     ]
    },
    {
     "name": "stderr",
     "output_type": "stream",
     "text": [
      "                                                                          "
     ]
    },
    {
     "name": "stdout",
     "output_type": "stream",
     "text": [
      "     6 |      0.0169 |     0.8970 |      0.0179 |     0.9073 |      0.4644 |     0.5068 |    ✓ Best model\n"
     ]
    },
    {
     "name": "stderr",
     "output_type": "stream",
     "text": [
      "                                                                          "
     ]
    },
    {
     "name": "stdout",
     "output_type": "stream",
     "text": [
      "     7 |      0.0166 |     0.9017 |      0.0175 |     0.9015 |      0.4797 |     0.5169 |    ✓ Best model\n"
     ]
    },
    {
     "name": "stderr",
     "output_type": "stream",
     "text": [
      "                                                                          "
     ]
    },
    {
     "name": "stdout",
     "output_type": "stream",
     "text": [
      "     8 |      0.0165 |     0.9021 |      0.0177 |     0.9062 |      0.4554 |     0.4822 |   Patience 1/15\n"
     ]
    },
    {
     "name": "stderr",
     "output_type": "stream",
     "text": [
      "                                                                          "
     ]
    },
    {
     "name": "stdout",
     "output_type": "stream",
     "text": [
      "     9 |      0.0162 |     0.9059 |      0.0185 |     0.8995 |      0.4490 |     0.4852 |   Patience 2/15\n"
     ]
    },
    {
     "name": "stderr",
     "output_type": "stream",
     "text": [
      "                                                                          "
     ]
    },
    {
     "name": "stdout",
     "output_type": "stream",
     "text": [
      "    10 |      0.0162 |     0.9076 |      0.0169 |     0.9115 |      0.4778 |     0.4889 |   Patience 3/15\n"
     ]
    },
    {
     "name": "stderr",
     "output_type": "stream",
     "text": [
      "                                                                          \r"
     ]
    },
    {
     "name": "stdout",
     "output_type": "stream",
     "text": [
      "    11 |      0.0160 |     0.9095 |      0.0170 |     0.9083 |      0.4787 |     0.5046 |   Patience 4/15\n"
     ]
    },
    {
     "name": "stderr",
     "output_type": "stream",
     "text": [
      "                                                                          "
     ]
    },
    {
     "name": "stdout",
     "output_type": "stream",
     "text": [
      "    12 |      0.0159 |     0.9117 |      0.0206 |     0.9098 |      0.4578 |     0.4701 |   Patience 5/15\n"
     ]
    },
    {
     "name": "stderr",
     "output_type": "stream",
     "text": [
      "                                                                          "
     ]
    },
    {
     "name": "stdout",
     "output_type": "stream",
     "text": [
      "    13 |      0.0158 |     0.9113 |      0.0178 |     0.9066 |      0.4662 |     0.4865 |   Patience 6/15\n"
     ]
    },
    {
     "name": "stderr",
     "output_type": "stream",
     "text": [
      "                                                                          "
     ]
    },
    {
     "name": "stdout",
     "output_type": "stream",
     "text": [
      "    14 |      0.0158 |     0.9125 |      0.0173 |     0.9084 |      0.4713 |     0.4978 |   Patience 7/15\n"
     ]
    },
    {
     "name": "stderr",
     "output_type": "stream",
     "text": [
      "                                                                          "
     ]
    },
    {
     "name": "stdout",
     "output_type": "stream",
     "text": [
      "    15 |      0.0157 |     0.9134 |      0.0177 |     0.9123 |      0.4798 |     0.5042 |    ✓ Best model\n"
     ]
    },
    {
     "name": "stderr",
     "output_type": "stream",
     "text": [
      "                                                                          "
     ]
    },
    {
     "name": "stdout",
     "output_type": "stream",
     "text": [
      "    16 |      0.0156 |     0.9164 |      0.0179 |     0.9099 |      0.4828 |     0.4950 |    ✓ Best model\n"
     ]
    },
    {
     "name": "stderr",
     "output_type": "stream",
     "text": [
      "                                                                          "
     ]
    },
    {
     "name": "stdout",
     "output_type": "stream",
     "text": [
      "    17 |      0.0155 |     0.9153 |      0.0173 |     0.9133 |      0.4660 |     0.4856 |   Patience 1/15\n"
     ]
    },
    {
     "name": "stderr",
     "output_type": "stream",
     "text": [
      "                                                                          "
     ]
    },
    {
     "name": "stdout",
     "output_type": "stream",
     "text": [
      "    18 |      0.0154 |     0.9179 |      0.0161 |     0.9157 |      0.4825 |     0.5014 |   Patience 2/15\n"
     ]
    },
    {
     "name": "stderr",
     "output_type": "stream",
     "text": [
      "                                                                          "
     ]
    },
    {
     "name": "stdout",
     "output_type": "stream",
     "text": [
      "    19 |      0.0155 |     0.9165 |      0.0164 |     0.9122 |      0.4763 |     0.4993 |   Patience 3/15\n"
     ]
    },
    {
     "name": "stderr",
     "output_type": "stream",
     "text": [
      "                                                                          "
     ]
    },
    {
     "name": "stdout",
     "output_type": "stream",
     "text": [
      "    20 |      0.0153 |     0.9194 |      0.0172 |     0.9154 |      0.4863 |     0.5126 |    ✓ Best model\n"
     ]
    },
    {
     "name": "stderr",
     "output_type": "stream",
     "text": [
      "                                                                          "
     ]
    },
    {
     "name": "stdout",
     "output_type": "stream",
     "text": [
      "    21 |      0.0151 |     0.9208 |      0.0171 |     0.9088 |      0.4690 |     0.4884 |   Patience 1/15\n"
     ]
    },
    {
     "name": "stderr",
     "output_type": "stream",
     "text": [
      "                                                                          "
     ]
    },
    {
     "name": "stdout",
     "output_type": "stream",
     "text": [
      "    22 |      0.0151 |     0.9214 |      0.0178 |     0.9139 |      0.4720 |     0.5025 |   Patience 2/15\n"
     ]
    },
    {
     "name": "stderr",
     "output_type": "stream",
     "text": [
      "                                                                          "
     ]
    },
    {
     "name": "stdout",
     "output_type": "stream",
     "text": [
      "    23 |      0.0151 |     0.9220 |      0.0162 |     0.9180 |      0.4910 |     0.4984 |    ✓ Best model\n"
     ]
    },
    {
     "name": "stderr",
     "output_type": "stream",
     "text": [
      "                                                                          "
     ]
    },
    {
     "name": "stdout",
     "output_type": "stream",
     "text": [
      "    24 |      0.0151 |     0.9215 |      0.0169 |     0.9155 |      0.4845 |     0.4993 |   Patience 1/15\n"
     ]
    },
    {
     "name": "stderr",
     "output_type": "stream",
     "text": [
      "                                                                          "
     ]
    },
    {
     "name": "stdout",
     "output_type": "stream",
     "text": [
      "    25 |      0.0150 |     0.9235 |      0.0189 |     0.9147 |      0.4858 |     0.5041 |   Patience 2/15\n"
     ]
    },
    {
     "name": "stderr",
     "output_type": "stream",
     "text": [
      "                                                                          "
     ]
    },
    {
     "name": "stdout",
     "output_type": "stream",
     "text": [
      "    26 |      0.0150 |     0.9227 |      0.0173 |     0.9153 |      0.4756 |     0.4940 |   Patience 3/15\n"
     ]
    },
    {
     "name": "stderr",
     "output_type": "stream",
     "text": [
      "                                                                          \r"
     ]
    },
    {
     "name": "stdout",
     "output_type": "stream",
     "text": [
      "    27 |      0.0150 |     0.9238 |      0.0165 |     0.9189 |      0.4877 |     0.5099 |   Patience 4/15\n"
     ]
    },
    {
     "name": "stderr",
     "output_type": "stream",
     "text": [
      "                                                                          \r"
     ]
    },
    {
     "name": "stdout",
     "output_type": "stream",
     "text": [
      "    28 |      0.0151 |     0.9221 |      0.0186 |     0.9136 |      0.4263 |     0.4805 |   Patience 5/15\n"
     ]
    },
    {
     "name": "stderr",
     "output_type": "stream",
     "text": [
      "                                                                          "
     ]
    },
    {
     "name": "stdout",
     "output_type": "stream",
     "text": [
      "    29 |      0.0149 |     0.9241 |      0.0164 |     0.9178 |      0.4830 |     0.5073 |   Patience 6/15\n"
     ]
    },
    {
     "name": "stderr",
     "output_type": "stream",
     "text": [
      "                                                                          "
     ]
    },
    {
     "name": "stdout",
     "output_type": "stream",
     "text": [
      "    30 |      0.0148 |     0.9257 |      0.0179 |     0.9143 |      0.4923 |     0.5005 |    ✓ Best model\n"
     ]
    },
    {
     "name": "stderr",
     "output_type": "stream",
     "text": [
      "                                                                          "
     ]
    },
    {
     "name": "stdout",
     "output_type": "stream",
     "text": [
      "    31 |      0.0148 |     0.9260 |      0.0180 |     0.9150 |      0.4850 |     0.4960 |   Patience 1/15\n"
     ]
    },
    {
     "name": "stderr",
     "output_type": "stream",
     "text": [
      "                                                                          "
     ]
    },
    {
     "name": "stdout",
     "output_type": "stream",
     "text": [
      "    32 |      0.0147 |     0.9275 |      0.0177 |     0.9159 |      0.4815 |     0.5013 |   Patience 2/15\n"
     ]
    },
    {
     "name": "stderr",
     "output_type": "stream",
     "text": [
      "                                                                          "
     ]
    },
    {
     "name": "stdout",
     "output_type": "stream",
     "text": [
      "    33 |      0.0150 |     0.9231 |      0.0171 |     0.9182 |      0.4783 |     0.5012 |   Patience 3/15\n"
     ]
    },
    {
     "name": "stderr",
     "output_type": "stream",
     "text": [
      "                                                                          "
     ]
    },
    {
     "name": "stdout",
     "output_type": "stream",
     "text": [
      "    34 |      0.0148 |     0.9252 |      0.0171 |     0.9171 |      0.4847 |     0.4998 |   Patience 4/15\n"
     ]
    },
    {
     "name": "stderr",
     "output_type": "stream",
     "text": [
      "                                                                          "
     ]
    },
    {
     "name": "stdout",
     "output_type": "stream",
     "text": [
      "    35 |      0.0147 |     0.9271 |      0.0180 |     0.9169 |      0.4691 |     0.4981 |   Patience 5/15\n"
     ]
    },
    {
     "name": "stderr",
     "output_type": "stream",
     "text": [
      "                                                                          "
     ]
    },
    {
     "name": "stdout",
     "output_type": "stream",
     "text": [
      "    36 |      0.0147 |     0.9274 |      0.0166 |     0.9155 |      0.4845 |     0.4984 |   Patience 6/15\n"
     ]
    },
    {
     "name": "stderr",
     "output_type": "stream",
     "text": [
      "                                                                          "
     ]
    },
    {
     "name": "stdout",
     "output_type": "stream",
     "text": [
      "    37 |      0.0146 |     0.9278 |      0.0169 |     0.9169 |      0.4773 |     0.4882 |   Patience 7/15\n"
     ]
    },
    {
     "name": "stderr",
     "output_type": "stream",
     "text": [
      "                                                                          "
     ]
    },
    {
     "name": "stdout",
     "output_type": "stream",
     "text": [
      "    38 |      0.0148 |     0.9261 |      0.0185 |     0.9106 |      0.4354 |     0.4788 |   Patience 8/15\n"
     ]
    },
    {
     "name": "stderr",
     "output_type": "stream",
     "text": [
      "                                                                          \r"
     ]
    },
    {
     "name": "stdout",
     "output_type": "stream",
     "text": [
      "    39 |      0.0147 |     0.9257 |      0.0179 |     0.9132 |      0.4714 |     0.4958 |   Patience 9/15\n"
     ]
    },
    {
     "name": "stderr",
     "output_type": "stream",
     "text": [
      "                                                                          "
     ]
    },
    {
     "name": "stdout",
     "output_type": "stream",
     "text": [
      "    40 |      0.0147 |     0.9279 |      0.0165 |     0.9206 |      0.5079 |     0.5147 |    ✓ Best model\n"
     ]
    },
    {
     "name": "stderr",
     "output_type": "stream",
     "text": [
      "                                                                          "
     ]
    },
    {
     "name": "stdout",
     "output_type": "stream",
     "text": [
      "    41 |      0.0146 |     0.9284 |      0.0176 |     0.9176 |      0.4937 |     0.5124 |   Patience 1/15\n"
     ]
    },
    {
     "name": "stderr",
     "output_type": "stream",
     "text": [
      "                                                                          "
     ]
    },
    {
     "name": "stdout",
     "output_type": "stream",
     "text": [
      "    42 |      0.0144 |     0.9307 |      0.0202 |     0.9099 |      0.4733 |     0.4943 |   Patience 2/15\n"
     ]
    },
    {
     "name": "stderr",
     "output_type": "stream",
     "text": [
      "                                                                          "
     ]
    },
    {
     "name": "stdout",
     "output_type": "stream",
     "text": [
      "    43 |      0.0145 |     0.9289 |      0.0170 |     0.9162 |      0.4540 |     0.4986 |   Patience 3/15\n"
     ]
    },
    {
     "name": "stderr",
     "output_type": "stream",
     "text": [
      "                                                                          "
     ]
    },
    {
     "name": "stdout",
     "output_type": "stream",
     "text": [
      "    44 |      0.0147 |     0.9259 |      0.0173 |     0.9143 |      0.4567 |     0.4780 |   Patience 4/15\n"
     ]
    },
    {
     "name": "stderr",
     "output_type": "stream",
     "text": [
      "                                                                          "
     ]
    },
    {
     "name": "stdout",
     "output_type": "stream",
     "text": [
      "    45 |      0.0145 |     0.9285 |      0.0168 |     0.9131 |      0.4931 |     0.5191 |   Patience 5/15\n"
     ]
    },
    {
     "name": "stderr",
     "output_type": "stream",
     "text": [
      "                                                                          "
     ]
    },
    {
     "name": "stdout",
     "output_type": "stream",
     "text": [
      "    46 |      0.0145 |     0.9299 |      0.0168 |     0.9169 |      0.4928 |     0.5101 |   Patience 6/15\n"
     ]
    },
    {
     "name": "stderr",
     "output_type": "stream",
     "text": [
      "                                                                          "
     ]
    },
    {
     "name": "stdout",
     "output_type": "stream",
     "text": [
      "    47 |      0.0144 |     0.9297 |      0.0166 |     0.9150 |      0.4955 |     0.5165 |   Patience 7/15\n"
     ]
    },
    {
     "name": "stderr",
     "output_type": "stream",
     "text": [
      "                                                                          "
     ]
    },
    {
     "name": "stdout",
     "output_type": "stream",
     "text": [
      "    48 |      0.0144 |     0.9306 |      0.0164 |     0.9190 |      0.4877 |     0.5049 |   Patience 8/15\n"
     ]
    },
    {
     "name": "stderr",
     "output_type": "stream",
     "text": [
      "                                                                          "
     ]
    },
    {
     "name": "stdout",
     "output_type": "stream",
     "text": [
      "    49 |      0.0144 |     0.9310 |      0.0166 |     0.9121 |      0.4747 |     0.5079 |   Patience 9/15\n"
     ]
    },
    {
     "name": "stderr",
     "output_type": "stream",
     "text": [
      "                                                                          "
     ]
    },
    {
     "name": "stdout",
     "output_type": "stream",
     "text": [
      "    50 |      0.0145 |     0.9287 |      0.0179 |     0.9164 |      0.4895 |     0.5080 |  Patience 10/15\n",
      "====================================================================================================\n",
      "Training complete! Best PR-AUC: 0.5079\n"
     ]
    }
   ],
   "source": [
    "# Create output directories\n",
    "output_dir = Path(config.OUTPUT_DIR)\n",
    "checkpoint_dir = Path(config.CHECKPOINT_DIR)\n",
    "output_dir.mkdir(parents=True, exist_ok=True)\n",
    "checkpoint_dir.mkdir(parents=True, exist_ok=True)\n",
    "\n",
    "# Training history\n",
    "history = {\n",
    "    'train_loss': [],\n",
    "    'train_auc': [],\n",
    "    'valid_loss': [],\n",
    "    'valid_auc': [],\n",
    "    'valid_pr_auc': [],\n",
    "    'valid_f1': []\n",
    "}\n",
    "\n",
    "# Early stopping\n",
    "best_val_auc = 0\n",
    "best_val_pr_auc = 0\n",
    "patience_counter = 0\n",
    "\n",
    "print(f\"\\nStarting training for {config.EPOCHS} epochs...\")\n",
    "print(\"=\"*100)\n",
    "\n",
    "# Print header\n",
    "print(f\"{'Epoch':>6} | {'Train Loss':>11} | {'Train AUC':>10} | {'Val Loss':>11} | {'Val AUC':>10} | {'Val PR-AUC':>11} | {'Val F1':>10} | {'Status':>15}\")\n",
    "print(\"-\"*100)\n",
    "\n",
    "for epoch in range(config.EPOCHS):\n",
    "    # Train\n",
    "    train_loss, train_auc = train_epoch(\n",
    "        model, train_loader, optimizer, device, config, scaler, scheduler\n",
    "    )\n",
    "    \n",
    "    # Validate\n",
    "    val_loss, val_auc, val_pr_auc, val_preds, val_labels, val_attentions, best_thresh, best_f1 = evaluate(\n",
    "        model, valid_loader, device, config\n",
    "    )\n",
    "    \n",
    "    # Store history\n",
    "    history['train_loss'].append(train_loss)\n",
    "    history['train_auc'].append(train_auc)\n",
    "    history['valid_loss'].append(val_loss)\n",
    "    history['valid_auc'].append(val_auc)\n",
    "    history['valid_pr_auc'].append(val_pr_auc)\n",
    "    history['valid_f1'].append(best_f1)\n",
    "    \n",
    "    # Determine status message\n",
    "    status = \"\"\n",
    "    if val_auc + val_pr_auc > best_val_auc + best_val_pr_auc:\n",
    "        best_val_auc = val_auc\n",
    "        best_val_pr_auc = val_pr_auc\n",
    "        patience_counter = 0\n",
    "        torch.save(model.state_dict(), checkpoint_dir / 'best_model.pt')\n",
    "        status = \"✓ Best model\"\n",
    "    else:\n",
    "        patience_counter += 1\n",
    "        status = f\"Patience {patience_counter}/{config.PATIENCE}\"\n",
    "    \n",
    "    # Print row\n",
    "    print(f\"{epoch+1:>6} | {train_loss:>11.4f} | {train_auc:>10.4f} | {val_loss:>11.4f} | {val_auc:>10.4f} | {val_pr_auc:>11.4f} | {best_f1:>10.4f} | {status:>15}\")\n",
    "    \n",
    "    # Early stopping check\n",
    "    if patience_counter >= config.PATIENCE:\n",
    "        print(\"-\"*100)\n",
    "        print(f\"Early stopping triggered at epoch {epoch+1}\")\n",
    "        break\n",
    "\n",
    "print(\"=\"*100)\n",
    "print(f\"Training complete! Best PR-AUC: {best_val_pr_auc:.4f}\")\n"
   ]
  },
  {
   "cell_type": "markdown",
   "metadata": {},
   "source": [
    "## 13. Plot Training History"
   ]
  },
  {
   "cell_type": "code",
   "execution_count": 12,
   "metadata": {},
   "outputs": [
    {
     "data": {
      "image/png": "[encoded data removed]",
      "text/plain": [
       "<Figure size 1500x1200 with 4 Axes>"
      ]
     },
     "metadata": {},
     "output_type": "display_data"
    },
    {
     "name": "stdout",
     "output_type": "stream",
     "text": [
      "Training history plot saved to results_transformer\\training_history.png\n"
     ]
    }
   ],
   "source": [
    "fig, axes = plt.subplots(2, 2, figsize=(15, 12))\n",
    "\n",
    "# Loss\n",
    "axes[0, 0].plot(history['train_loss'], label='Train', linewidth=2)\n",
    "axes[0, 0].plot(history['valid_loss'], label='Valid', linewidth=2)\n",
    "axes[0, 0].set_xlabel('Epoch', fontsize=12)\n",
    "axes[0, 0].set_ylabel('Loss', fontsize=12)\n",
    "axes[0, 0].set_title('Training and Validation Loss', fontsize=14, fontweight='bold')\n",
    "axes[0, 0].legend(fontsize=10)\n",
    "axes[0, 0].grid(True, alpha=0.3)\n",
    "\n",
    "# AUC\n",
    "axes[0, 1].plot(history['train_auc'], label='Train', linewidth=2)\n",
    "axes[0, 1].plot(history['valid_auc'], label='Valid', linewidth=2)\n",
    "axes[0, 1].set_xlabel('Epoch', fontsize=12)\n",
    "axes[0, 1].set_ylabel('ROC-AUC', fontsize=12)\n",
    "axes[0, 1].set_title('ROC-AUC Score', fontsize=14, fontweight='bold')\n",
    "axes[0, 1].legend(fontsize=10)\n",
    "axes[0, 1].grid(True, alpha=0.3)\n",
    "\n",
    "# PR-AUC\n",
    "axes[1, 0].plot(history['valid_pr_auc'], label='Valid PR-AUC', linewidth=2, color='green')\n",
    "axes[1, 0].set_xlabel('Epoch', fontsize=12)\n",
    "axes[1, 0].set_ylabel('PR-AUC', fontsize=12)\n",
    "axes[1, 0].set_title('Precision-Recall AUC', fontsize=14, fontweight='bold')\n",
    "axes[1, 0].legend(fontsize=10)\n",
    "axes[1, 0].grid(True, alpha=0.3)\n",
    "\n",
    "# F1\n",
    "axes[1, 1].plot(history['valid_f1'], label='Valid F1', linewidth=2, color='purple')\n",
    "axes[1, 1].set_xlabel('Epoch', fontsize=12)\n",
    "axes[1, 1].set_ylabel('F1 Score', fontsize=12)\n",
    "axes[1, 1].set_title('F1 Score', fontsize=14, fontweight='bold')\n",
    "axes[1, 1].legend(fontsize=10)\n",
    "axes[1, 1].grid(True, alpha=0.3)\n",
    "\n",
    "plt.tight_layout()\n",
    "plt.savefig(output_dir / 'training_history.png', dpi=300, bbox_inches='tight')\n",
    "plt.show()\n",
    "\n",
    "print(f\"Training history plot saved to {output_dir / 'training_history.png'}\")"
   ]
  },
  {
   "cell_type": "markdown",
   "metadata": {},
   "source": [
    "## 14. Evaluate on Test Set"
   ]
  },
  {
   "cell_type": "code",
   "execution_count": 13,
   "metadata": {},
   "outputs": [
    {
     "name": "stdout",
     "output_type": "stream",
     "text": [
      "Best model loaded\n"
     ]
    },
    {
     "name": "stderr",
     "output_type": "stream",
     "text": [
      "                                                                "
     ]
    },
    {
     "name": "stdout",
     "output_type": "stream",
     "text": [
      "\n",
      "Test Set Results:\n",
      "================================================================================\n",
      "  Loss: 0.0162\n",
      "  ROC-AUC: 0.9192\n",
      "  PR-AUC: 0.4335\n",
      "  Best F1: 0.4816 @ threshold 0.500\n",
      "================================================================================\n"
     ]
    }
   ],
   "source": [
    "# Load best model\n",
    "model.load_state_dict(torch.load(checkpoint_dir / 'best_model.pt'))\n",
    "print(\"Best model loaded\")\n",
    "\n",
    "# Evaluate on test set\n",
    "test_loss, test_auc, test_pr_auc, test_preds, test_labels, test_attentions, test_thresh, test_f1 = evaluate(\n",
    "    model, test_loader, device, config\n",
    ")\n",
    "\n",
    "print(f\"\\nTest Set Results:\")\n",
    "print(\"=\"*80)\n",
    "print(f\"  Loss: {test_loss:.4f}\")\n",
    "print(f\"  ROC-AUC: {test_auc:.4f}\")\n",
    "print(f\"  PR-AUC: {test_pr_auc:.4f}\")\n",
    "print(f\"  Best F1: {test_f1:.4f} @ threshold {test_thresh:.3f}\")\n",
    "print(\"=\"*80)"
   ]
  },
  {
   "cell_type": "markdown",
   "metadata": {},
   "source": [
    "## 15. Plot ROC and PR Curves"
   ]
  },
  {
   "cell_type": "code",
   "execution_count": 14,
   "metadata": {},
   "outputs": [
    {
     "data": {
      "image/png": "[encoded data removed]",
      "text/plain": [
       "<Figure size 1600x600 with 2 Axes>"
      ]
     },
     "metadata": {},
     "output_type": "display_data"
    },
    {
     "name": "stdout",
     "output_type": "stream",
     "text": [
      "Test curves saved to results_transformer\\test_curves.png\n"
     ]
    }
   ],
   "source": [
    "fig, axes = plt.subplots(1, 2, figsize=(16, 6))\n",
    "\n",
    "# ROC Curve\n",
    "fpr, tpr, _ = roc_curve(test_labels, test_preds)\n",
    "axes[0].plot(fpr, tpr, linewidth=2, label=f'Transformer MIL (AUC = {test_auc:.4f})')\n",
    "axes[0].plot([0, 1], [0, 1], 'k--', linewidth=1, label='Random')\n",
    "axes[0].set_xlabel('False Positive Rate', fontsize=14)\n",
    "axes[0].set_ylabel('True Positive Rate', fontsize=14)\n",
    "axes[0].set_title('ROC Curve - Test Set', fontsize=16, fontweight='bold')\n",
    "axes[0].legend(fontsize=12)\n",
    "axes[0].grid(True, alpha=0.3)\n",
    "\n",
    "# PR Curve\n",
    "precision, recall, _ = precision_recall_curve(test_labels, test_preds)\n",
    "axes[1].plot(recall, precision, linewidth=2, label=f'Transformer MIL (AUC = {test_pr_auc:.4f})')\n",
    "axes[1].set_xlabel('Recall', fontsize=14)\n",
    "axes[1].set_ylabel('Precision', fontsize=14)\n",
    "axes[1].set_title('Precision-Recall Curve - Test Set', fontsize=16, fontweight='bold')\n",
    "axes[1].legend(fontsize=12)\n",
    "axes[1].grid(True, alpha=0.3)\n",
    "\n",
    "plt.tight_layout()\n",
    "plt.savefig(output_dir / 'test_curves.png', dpi=300, bbox_inches='tight')\n",
    "plt.show()\n",
    "\n",
    "print(f\"Test curves saved to {output_dir / 'test_curves.png'}\")"
   ]
  },
  {
   "cell_type": "markdown",
   "metadata": {},
   "source": [
    "## 17. Save Results and Predictions"
   ]
  },
  {
   "cell_type": "code",
   "execution_count": 15,
   "metadata": {},
   "outputs": [
    {
     "name": "stdout",
     "output_type": "stream",
     "text": [
      "Test predictions saved to results_transformer\\test_predictions.csv\n",
      "\n",
      "Summary saved to results_transformer\\summary.txt\n",
      "\n",
      "M6ANET TRANSFORMER MIL RESULTS (IMPROVED - PERMUTATION INVARIANT)\n",
      "================================================================================\n",
      "\n",
      "Model: Transformer-based MIL (Permutation-Invariant Design)\n",
      "Architecture:\n",
      "  - 5 Transformer encoder layers\n",
      "  - 4 attention heads in transformer\n",
      "  - 4 attention heads in pooling layer\n",
      "  - 128 embedding dimension\n",
      "  - 256 feed-forward dimension\n",
      "\n",
      "\n",
      "Permutation Invariance:\n",
      "  - No positional encoding used\n",
      "  - Permutation augmentation: True\n",
      "  - Random shuffling of reads during training\n",
      "  - Learned relationships are order-independent\n",
      "\n",
      "MIL Characteristics:\n",
      "  - Each site is a 'bag' of reads (instances)\n",
      "  - Bag is positive if at least one read shows modification\n",
      "  - Transformer learns complex relationships between reads\n",
      "  - Multi-head attention provides interpretability\n",
      "\n",
      "Model Configuration:\n",
      "  Dropout: 0.3\n",
      "  Focal loss: True\n",
      "  Focal alpha: 0.75\n",
      "  Focal gamma: 2.0\n",
      "\n",
      "Training:\n",
      "  Epochs trained: 50\n",
      "  Batch size: 16\n",
      "  Learning rate: 0.0001\n",
      "  Weight decay: 1e-05\n",
      "  Mixed precision: True\n",
      "  Total parameters: 804,737\n",
      "\n",
      "Data Split (by gene_id):\n",
      "  Train: 84887 bags from 2696 genes (with augmentation)\n",
      "  Valid: 19146 bags from 577 genes\n",
      "  Test: 17805 bags from 579 genes\n",
      "\n",
      "Test Set Results:\n",
      "  Loss: 0.0162\n",
      "  ROC-AUC: 0.9192\n",
      "  PR-AUC: 0.4335\n",
      "  Best F1: 0.4816  threshold 0.500\n",
      "\n",
      "Best Validation PR-AUC: 0.5079\n",
      "\n",
      "\n"
     ]
    }
   ],
   "source": [
    "# Save test predictions\n",
    "results_df = pd.DataFrame({\n",
    "    'true_label': test_labels,\n",
    "    'predicted_probability': test_preds\n",
    "})\n",
    "results_df.to_csv(output_dir / 'test_predictions.csv', index=False)\n",
    "print(f\"Test predictions saved to {output_dir / 'test_predictions.csv'}\")\n",
    "\n",
    "# Save summary\n",
    "summary_text = f\"\"\"M6ANET TRANSFORMER MIL RESULTS (IMPROVED - PERMUTATION INVARIANT)\n",
    "{'='*80}\n",
    "\n",
    "Model: Transformer-based MIL (Permutation-Invariant Design)\n",
    "Architecture:\n",
    "  - {config.NUM_LAYERS} Transformer encoder layers\n",
    "  - {config.NUM_HEADS} attention heads in transformer\n",
    "  - {config.POOLING_HEADS} attention heads in pooling layer\n",
    "  - {config.EMBED_DIM} embedding dimension\n",
    "  - {config.FF_DIM} feed-forward dimension\n",
    "\n",
    "\n",
    "Permutation Invariance:\n",
    "  - No positional encoding used\n",
    "  - Permutation augmentation: {config.USE_PERMUTATION_AUG}\n",
    "  - Random shuffling of reads during training\n",
    "  - Learned relationships are order-independent\n",
    "\n",
    "MIL Characteristics:\n",
    "  - Each site is a 'bag' of reads (instances)\n",
    "  - Bag is positive if at least one read shows modification\n",
    "  - Transformer learns complex relationships between reads\n",
    "  - Multi-head attention provides interpretability\n",
    "\n",
    "Model Configuration:\n",
    "  Dropout: {config.DROPOUT}\n",
    "  Focal loss: {config.USE_FOCAL_LOSS}\n",
    "  Focal alpha: {config.FOCAL_ALPHA}\n",
    "  Focal gamma: {config.FOCAL_GAMMA}\n",
    "\n",
    "Training:\n",
    "  Epochs trained: {len(history['train_loss'])}\n",
    "  Batch size: {config.BATCH_SIZE}\n",
    "  Learning rate: {config.LEARNING_RATE}\n",
    "  Weight decay: {config.WEIGHT_DECAY}\n",
    "  Mixed precision: {config.MIXED_PRECISION}\n",
    "  Total parameters: {total_params:,}\n",
    "\n",
    "Data Split (by gene_id):\n",
    "  Train: {len(train_dataset)} bags from {len(train_genes)} genes (with augmentation)\n",
    "  Valid: {len(valid_dataset)} bags from {len(valid_genes)} genes\n",
    "  Test: {len(test_dataset)} bags from {len(test_genes)} genes\n",
    "\n",
    "Test Set Results:\n",
    "  Loss: {test_loss:.4f}\n",
    "  ROC-AUC: {test_auc:.4f}\n",
    "  PR-AUC: {test_pr_auc:.4f}\n",
    "  Best F1: {test_f1:.4f}  threshold {test_thresh:.3f}\n",
    "\n",
    "Best Validation PR-AUC: {best_val_pr_auc:.4f}\n",
    "\n",
    "\"\"\"\n",
    "\n",
    "with open(output_dir / 'summary.txt', 'w') as f:\n",
    "    f.write(summary_text)\n",
    "\n",
    "print(f\"\\nSummary saved to {output_dir / 'summary.txt'}\")\n",
    "print(\"\\n\" + summary_text)"
   ]
  }
 ],
 "metadata": {
  "kernelspec": {
   "display_name": "Python 3",
   "language": "python",
   "name": "python3"
  },
  "language_info": {
   "codemirror_mode": {
    "name": "ipython",
    "version": 3
   },
   "file_extension": ".py",
   "mimetype": "text/x-python",
   "name": "python",
   "nbconvert_exporter": "python",
   "pygments_lexer": "ipython3",
   "version": "3.13.9"
  }
 },
 "nbformat": 4,
 "nbformat_minor": 4
}
